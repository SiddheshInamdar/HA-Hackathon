{
 "cells": [
  {
   "cell_type": "code",
   "execution_count": 1,
   "metadata": {
    "_cell_guid": "b1076dfc-b9ad-4769-8c92-a6c4dae69d19",
    "_uuid": "8f2839f25d086af736a60e9eeb907d3b93b6e0e5",
    "execution": {
     "iopub.execute_input": "2020-09-04T11:52:58.383301Z",
     "iopub.status.busy": "2020-09-04T11:52:58.382089Z",
     "iopub.status.idle": "2020-09-04T11:53:02.163680Z",
     "shell.execute_reply": "2020-09-04T11:53:02.162856Z"
    },
    "papermill": {
     "duration": 3.820707,
     "end_time": "2020-09-04T11:53:02.163875",
     "exception": false,
     "start_time": "2020-09-04T11:52:58.343168",
     "status": "completed"
    },
    "tags": []
   },
   "outputs": [
    {
     "name": "stdout",
     "output_type": "stream",
     "text": [
      "/kaggle/input/rapids/rapids.0.15.0\n",
      "/kaggle/input/rapids/rapids.0.14.0\n",
      "/kaggle/input/healthcareanalyticsii/train_data_dict.csv\n",
      "/kaggle/input/healthcareanalyticsii/sample_submission.csv\n",
      "/kaggle/input/healthcareanalyticsii/test.csv\n",
      "/kaggle/input/healthcareanalyticsii/train.csv\n"
     ]
    }
   ],
   "source": [
    "import pandas as pd\n",
    "import matplotlib.pyplot as plt\n",
    "import numpy as np\n",
    "\n",
    "from matplotlib.pylab import rcParams\n",
    "rcParams['figure.figsize'] = 15,15\n",
    "import seaborn as sns\n",
    "\n",
    "import os\n",
    "for dirname, _, filenames in os.walk('/kaggle/input'):\n",
    "    for filename in filenames:\n",
    "        print(os.path.join(dirname, filename))\n",
    "\n",
    "import xgboost as xgb\n",
    "import lightgbm as lgb\n",
    "from catboost import CatBoostClassifier\n",
    "\n",
    "from sklearn.model_selection import train_test_split, GridSearchCV , cross_val_score,GroupShuffleSplit\n",
    "from sklearn.preprocessing import StandardScaler,MinMaxScaler\n",
    "from sklearn.preprocessing import LabelEncoder\n",
    "from sklearn.ensemble import RandomForestClassifier , ExtraTreesClassifier\n",
    "from sklearn.neighbors import KNeighborsClassifier\n",
    "from sklearn.ensemble import RandomForestClassifier\n",
    "from sklearn.ensemble import ExtraTreesClassifier\n",
    "from sklearn.ensemble import BaggingClassifier\n",
    "from sklearn.svm import SVC\n",
    "from sklearn.linear_model import LogisticRegression\n",
    "from sklearn.metrics import roc_auc_score,accuracy_score ,confusion_matrix,mean_absolute_error\n",
    "from sklearn.preprocessing import PolynomialFeatures\n",
    "import warnings\n",
    "warnings.filterwarnings(\"ignore\")\n",
    "\n",
    "from imblearn.under_sampling import TomekLinks\n",
    "from imblearn.over_sampling import SMOTE\n",
    "from imblearn.under_sampling import RandomUnderSampler\n",
    "from imblearn.over_sampling import RandomOverSampler\n",
    "from imblearn.combine import SMOTETomek\n",
    "from imblearn.under_sampling import ClusterCentroids , NearMiss\n",
    "\n",
    "from tqdm.notebook import tqdm ,tnrange"
   ]
  },
  {
   "cell_type": "code",
   "execution_count": 2,
   "metadata": {
    "_cell_guid": "79c7e3d0-c299-4dcb-8224-4455121ee9b0",
    "_uuid": "d629ff2d2480ee46fbb7e2d37f6b5fab8052498a",
    "execution": {
     "iopub.execute_input": "2020-09-04T11:53:02.214711Z",
     "iopub.status.busy": "2020-09-04T11:53:02.213461Z",
     "iopub.status.idle": "2020-09-04T11:53:03.443214Z",
     "shell.execute_reply": "2020-09-04T11:53:03.442415Z"
    },
    "papermill": {
     "duration": 1.258537,
     "end_time": "2020-09-04T11:53:03.443364",
     "exception": false,
     "start_time": "2020-09-04T11:53:02.184827",
     "status": "completed"
    },
    "tags": []
   },
   "outputs": [],
   "source": [
    "train_data = pd.read_csv('../input/healthcareanalyticsii/train.csv')\n",
    "test_data = pd.read_csv('../input/healthcareanalyticsii/test.csv')"
   ]
  },
  {
   "cell_type": "code",
   "execution_count": 3,
   "metadata": {
    "execution": {
     "iopub.execute_input": "2020-09-04T11:53:03.506979Z",
     "iopub.status.busy": "2020-09-04T11:53:03.506171Z",
     "iopub.status.idle": "2020-09-04T11:53:03.524739Z",
     "shell.execute_reply": "2020-09-04T11:53:03.523923Z"
    },
    "papermill": {
     "duration": 0.062941,
     "end_time": "2020-09-04T11:53:03.524875",
     "exception": false,
     "start_time": "2020-09-04T11:53:03.461934",
     "status": "completed"
    },
    "tags": []
   },
   "outputs": [
    {
     "name": "stdout",
     "output_type": "stream",
     "text": [
      "(318438, 18)\n"
     ]
    },
    {
     "data": {
      "text/html": [
       "<div>\n",
       "<style scoped>\n",
       "    .dataframe tbody tr th:only-of-type {\n",
       "        vertical-align: middle;\n",
       "    }\n",
       "\n",
       "    .dataframe tbody tr th {\n",
       "        vertical-align: top;\n",
       "    }\n",
       "\n",
       "    .dataframe thead th {\n",
       "        text-align: right;\n",
       "    }\n",
       "</style>\n",
       "<table border=\"1\" class=\"dataframe\">\n",
       "  <thead>\n",
       "    <tr style=\"text-align: right;\">\n",
       "      <th></th>\n",
       "      <th>case_id</th>\n",
       "      <th>Hospital_code</th>\n",
       "      <th>Hospital_type_code</th>\n",
       "      <th>City_Code_Hospital</th>\n",
       "      <th>Hospital_region_code</th>\n",
       "      <th>Available Extra Rooms in Hospital</th>\n",
       "      <th>Department</th>\n",
       "      <th>Ward_Type</th>\n",
       "      <th>Ward_Facility_Code</th>\n",
       "      <th>Bed Grade</th>\n",
       "      <th>patientid</th>\n",
       "      <th>City_Code_Patient</th>\n",
       "      <th>Type of Admission</th>\n",
       "      <th>Severity of Illness</th>\n",
       "      <th>Visitors with Patient</th>\n",
       "      <th>Age</th>\n",
       "      <th>Admission_Deposit</th>\n",
       "      <th>Stay</th>\n",
       "    </tr>\n",
       "  </thead>\n",
       "  <tbody>\n",
       "    <tr>\n",
       "      <th>0</th>\n",
       "      <td>1</td>\n",
       "      <td>8</td>\n",
       "      <td>c</td>\n",
       "      <td>3</td>\n",
       "      <td>Z</td>\n",
       "      <td>3</td>\n",
       "      <td>radiotherapy</td>\n",
       "      <td>R</td>\n",
       "      <td>F</td>\n",
       "      <td>2.0</td>\n",
       "      <td>31397</td>\n",
       "      <td>7.0</td>\n",
       "      <td>Emergency</td>\n",
       "      <td>Extreme</td>\n",
       "      <td>2</td>\n",
       "      <td>51-60</td>\n",
       "      <td>4911.0</td>\n",
       "      <td>0-10</td>\n",
       "    </tr>\n",
       "    <tr>\n",
       "      <th>1</th>\n",
       "      <td>2</td>\n",
       "      <td>2</td>\n",
       "      <td>c</td>\n",
       "      <td>5</td>\n",
       "      <td>Z</td>\n",
       "      <td>2</td>\n",
       "      <td>radiotherapy</td>\n",
       "      <td>S</td>\n",
       "      <td>F</td>\n",
       "      <td>2.0</td>\n",
       "      <td>31397</td>\n",
       "      <td>7.0</td>\n",
       "      <td>Trauma</td>\n",
       "      <td>Extreme</td>\n",
       "      <td>2</td>\n",
       "      <td>51-60</td>\n",
       "      <td>5954.0</td>\n",
       "      <td>41-50</td>\n",
       "    </tr>\n",
       "    <tr>\n",
       "      <th>2</th>\n",
       "      <td>3</td>\n",
       "      <td>10</td>\n",
       "      <td>e</td>\n",
       "      <td>1</td>\n",
       "      <td>X</td>\n",
       "      <td>2</td>\n",
       "      <td>anesthesia</td>\n",
       "      <td>S</td>\n",
       "      <td>E</td>\n",
       "      <td>2.0</td>\n",
       "      <td>31397</td>\n",
       "      <td>7.0</td>\n",
       "      <td>Trauma</td>\n",
       "      <td>Extreme</td>\n",
       "      <td>2</td>\n",
       "      <td>51-60</td>\n",
       "      <td>4745.0</td>\n",
       "      <td>31-40</td>\n",
       "    </tr>\n",
       "    <tr>\n",
       "      <th>3</th>\n",
       "      <td>4</td>\n",
       "      <td>26</td>\n",
       "      <td>b</td>\n",
       "      <td>2</td>\n",
       "      <td>Y</td>\n",
       "      <td>2</td>\n",
       "      <td>radiotherapy</td>\n",
       "      <td>R</td>\n",
       "      <td>D</td>\n",
       "      <td>2.0</td>\n",
       "      <td>31397</td>\n",
       "      <td>7.0</td>\n",
       "      <td>Trauma</td>\n",
       "      <td>Extreme</td>\n",
       "      <td>2</td>\n",
       "      <td>51-60</td>\n",
       "      <td>7272.0</td>\n",
       "      <td>41-50</td>\n",
       "    </tr>\n",
       "    <tr>\n",
       "      <th>4</th>\n",
       "      <td>5</td>\n",
       "      <td>26</td>\n",
       "      <td>b</td>\n",
       "      <td>2</td>\n",
       "      <td>Y</td>\n",
       "      <td>2</td>\n",
       "      <td>radiotherapy</td>\n",
       "      <td>S</td>\n",
       "      <td>D</td>\n",
       "      <td>2.0</td>\n",
       "      <td>31397</td>\n",
       "      <td>7.0</td>\n",
       "      <td>Trauma</td>\n",
       "      <td>Extreme</td>\n",
       "      <td>2</td>\n",
       "      <td>51-60</td>\n",
       "      <td>5558.0</td>\n",
       "      <td>41-50</td>\n",
       "    </tr>\n",
       "  </tbody>\n",
       "</table>\n",
       "</div>"
      ],
      "text/plain": [
       "   case_id  Hospital_code Hospital_type_code  City_Code_Hospital  \\\n",
       "0        1              8                  c                   3   \n",
       "1        2              2                  c                   5   \n",
       "2        3             10                  e                   1   \n",
       "3        4             26                  b                   2   \n",
       "4        5             26                  b                   2   \n",
       "\n",
       "  Hospital_region_code  Available Extra Rooms in Hospital    Department  \\\n",
       "0                    Z                                  3  radiotherapy   \n",
       "1                    Z                                  2  radiotherapy   \n",
       "2                    X                                  2    anesthesia   \n",
       "3                    Y                                  2  radiotherapy   \n",
       "4                    Y                                  2  radiotherapy   \n",
       "\n",
       "  Ward_Type Ward_Facility_Code  Bed Grade  patientid  City_Code_Patient  \\\n",
       "0         R                  F        2.0      31397                7.0   \n",
       "1         S                  F        2.0      31397                7.0   \n",
       "2         S                  E        2.0      31397                7.0   \n",
       "3         R                  D        2.0      31397                7.0   \n",
       "4         S                  D        2.0      31397                7.0   \n",
       "\n",
       "  Type of Admission Severity of Illness  Visitors with Patient    Age  \\\n",
       "0         Emergency             Extreme                      2  51-60   \n",
       "1            Trauma             Extreme                      2  51-60   \n",
       "2            Trauma             Extreme                      2  51-60   \n",
       "3            Trauma             Extreme                      2  51-60   \n",
       "4            Trauma             Extreme                      2  51-60   \n",
       "\n",
       "   Admission_Deposit   Stay  \n",
       "0             4911.0   0-10  \n",
       "1             5954.0  41-50  \n",
       "2             4745.0  31-40  \n",
       "3             7272.0  41-50  \n",
       "4             5558.0  41-50  "
      ]
     },
     "execution_count": 3,
     "metadata": {},
     "output_type": "execute_result"
    }
   ],
   "source": [
    "print(train_data.shape)\n",
    "train_data.head()"
   ]
  },
  {
   "cell_type": "code",
   "execution_count": 4,
   "metadata": {
    "execution": {
     "iopub.execute_input": "2020-09-04T11:53:03.588707Z",
     "iopub.status.busy": "2020-09-04T11:53:03.587878Z",
     "iopub.status.idle": "2020-09-04T11:53:03.593298Z",
     "shell.execute_reply": "2020-09-04T11:53:03.593908Z"
    },
    "papermill": {
     "duration": 0.049271,
     "end_time": "2020-09-04T11:53:03.594065",
     "exception": false,
     "start_time": "2020-09-04T11:53:03.544794",
     "status": "completed"
    },
    "tags": []
   },
   "outputs": [
    {
     "name": "stdout",
     "output_type": "stream",
     "text": [
      "(137057, 17)\n"
     ]
    },
    {
     "data": {
      "text/html": [
       "<div>\n",
       "<style scoped>\n",
       "    .dataframe tbody tr th:only-of-type {\n",
       "        vertical-align: middle;\n",
       "    }\n",
       "\n",
       "    .dataframe tbody tr th {\n",
       "        vertical-align: top;\n",
       "    }\n",
       "\n",
       "    .dataframe thead th {\n",
       "        text-align: right;\n",
       "    }\n",
       "</style>\n",
       "<table border=\"1\" class=\"dataframe\">\n",
       "  <thead>\n",
       "    <tr style=\"text-align: right;\">\n",
       "      <th></th>\n",
       "      <th>case_id</th>\n",
       "      <th>Hospital_code</th>\n",
       "      <th>Hospital_type_code</th>\n",
       "      <th>City_Code_Hospital</th>\n",
       "      <th>Hospital_region_code</th>\n",
       "      <th>Available Extra Rooms in Hospital</th>\n",
       "      <th>Department</th>\n",
       "      <th>Ward_Type</th>\n",
       "      <th>Ward_Facility_Code</th>\n",
       "      <th>Bed Grade</th>\n",
       "      <th>patientid</th>\n",
       "      <th>City_Code_Patient</th>\n",
       "      <th>Type of Admission</th>\n",
       "      <th>Severity of Illness</th>\n",
       "      <th>Visitors with Patient</th>\n",
       "      <th>Age</th>\n",
       "      <th>Admission_Deposit</th>\n",
       "    </tr>\n",
       "  </thead>\n",
       "  <tbody>\n",
       "    <tr>\n",
       "      <th>0</th>\n",
       "      <td>318439</td>\n",
       "      <td>21</td>\n",
       "      <td>c</td>\n",
       "      <td>3</td>\n",
       "      <td>Z</td>\n",
       "      <td>3</td>\n",
       "      <td>gynecology</td>\n",
       "      <td>S</td>\n",
       "      <td>A</td>\n",
       "      <td>2.0</td>\n",
       "      <td>17006</td>\n",
       "      <td>2.0</td>\n",
       "      <td>Emergency</td>\n",
       "      <td>Moderate</td>\n",
       "      <td>2</td>\n",
       "      <td>71-80</td>\n",
       "      <td>3095.0</td>\n",
       "    </tr>\n",
       "    <tr>\n",
       "      <th>1</th>\n",
       "      <td>318440</td>\n",
       "      <td>29</td>\n",
       "      <td>a</td>\n",
       "      <td>4</td>\n",
       "      <td>X</td>\n",
       "      <td>2</td>\n",
       "      <td>gynecology</td>\n",
       "      <td>S</td>\n",
       "      <td>F</td>\n",
       "      <td>2.0</td>\n",
       "      <td>17006</td>\n",
       "      <td>2.0</td>\n",
       "      <td>Trauma</td>\n",
       "      <td>Moderate</td>\n",
       "      <td>4</td>\n",
       "      <td>71-80</td>\n",
       "      <td>4018.0</td>\n",
       "    </tr>\n",
       "    <tr>\n",
       "      <th>2</th>\n",
       "      <td>318441</td>\n",
       "      <td>26</td>\n",
       "      <td>b</td>\n",
       "      <td>2</td>\n",
       "      <td>Y</td>\n",
       "      <td>3</td>\n",
       "      <td>gynecology</td>\n",
       "      <td>Q</td>\n",
       "      <td>D</td>\n",
       "      <td>4.0</td>\n",
       "      <td>17006</td>\n",
       "      <td>2.0</td>\n",
       "      <td>Emergency</td>\n",
       "      <td>Moderate</td>\n",
       "      <td>3</td>\n",
       "      <td>71-80</td>\n",
       "      <td>4492.0</td>\n",
       "    </tr>\n",
       "    <tr>\n",
       "      <th>3</th>\n",
       "      <td>318442</td>\n",
       "      <td>6</td>\n",
       "      <td>a</td>\n",
       "      <td>6</td>\n",
       "      <td>X</td>\n",
       "      <td>3</td>\n",
       "      <td>gynecology</td>\n",
       "      <td>Q</td>\n",
       "      <td>F</td>\n",
       "      <td>2.0</td>\n",
       "      <td>17006</td>\n",
       "      <td>2.0</td>\n",
       "      <td>Trauma</td>\n",
       "      <td>Moderate</td>\n",
       "      <td>3</td>\n",
       "      <td>71-80</td>\n",
       "      <td>4173.0</td>\n",
       "    </tr>\n",
       "    <tr>\n",
       "      <th>4</th>\n",
       "      <td>318443</td>\n",
       "      <td>28</td>\n",
       "      <td>b</td>\n",
       "      <td>11</td>\n",
       "      <td>X</td>\n",
       "      <td>2</td>\n",
       "      <td>gynecology</td>\n",
       "      <td>R</td>\n",
       "      <td>F</td>\n",
       "      <td>2.0</td>\n",
       "      <td>17006</td>\n",
       "      <td>2.0</td>\n",
       "      <td>Trauma</td>\n",
       "      <td>Moderate</td>\n",
       "      <td>4</td>\n",
       "      <td>71-80</td>\n",
       "      <td>4161.0</td>\n",
       "    </tr>\n",
       "  </tbody>\n",
       "</table>\n",
       "</div>"
      ],
      "text/plain": [
       "   case_id  Hospital_code Hospital_type_code  City_Code_Hospital  \\\n",
       "0   318439             21                  c                   3   \n",
       "1   318440             29                  a                   4   \n",
       "2   318441             26                  b                   2   \n",
       "3   318442              6                  a                   6   \n",
       "4   318443             28                  b                  11   \n",
       "\n",
       "  Hospital_region_code  Available Extra Rooms in Hospital  Department  \\\n",
       "0                    Z                                  3  gynecology   \n",
       "1                    X                                  2  gynecology   \n",
       "2                    Y                                  3  gynecology   \n",
       "3                    X                                  3  gynecology   \n",
       "4                    X                                  2  gynecology   \n",
       "\n",
       "  Ward_Type Ward_Facility_Code  Bed Grade  patientid  City_Code_Patient  \\\n",
       "0         S                  A        2.0      17006                2.0   \n",
       "1         S                  F        2.0      17006                2.0   \n",
       "2         Q                  D        4.0      17006                2.0   \n",
       "3         Q                  F        2.0      17006                2.0   \n",
       "4         R                  F        2.0      17006                2.0   \n",
       "\n",
       "  Type of Admission Severity of Illness  Visitors with Patient    Age  \\\n",
       "0         Emergency            Moderate                      2  71-80   \n",
       "1            Trauma            Moderate                      4  71-80   \n",
       "2         Emergency            Moderate                      3  71-80   \n",
       "3            Trauma            Moderate                      3  71-80   \n",
       "4            Trauma            Moderate                      4  71-80   \n",
       "\n",
       "   Admission_Deposit  \n",
       "0             3095.0  \n",
       "1             4018.0  \n",
       "2             4492.0  \n",
       "3             4173.0  \n",
       "4             4161.0  "
      ]
     },
     "execution_count": 4,
     "metadata": {},
     "output_type": "execute_result"
    }
   ],
   "source": [
    "print(test_data.shape)\n",
    "test_data.head()"
   ]
  },
  {
   "cell_type": "code",
   "execution_count": 5,
   "metadata": {
    "execution": {
     "iopub.execute_input": "2020-09-04T11:53:03.644450Z",
     "iopub.status.busy": "2020-09-04T11:53:03.643639Z",
     "iopub.status.idle": "2020-09-04T11:53:03.653003Z",
     "shell.execute_reply": "2020-09-04T11:53:03.652185Z"
    },
    "papermill": {
     "duration": 0.037496,
     "end_time": "2020-09-04T11:53:03.653135",
     "exception": false,
     "start_time": "2020-09-04T11:53:03.615639",
     "status": "completed"
    },
    "tags": []
   },
   "outputs": [],
   "source": [
    "train_data['City_Code_Patient'] = train_data['City_Code_Patient'].fillna(-1)\n",
    "train_data['Bed Grade'] = train_data['Bed Grade'].fillna(-1)"
   ]
  },
  {
   "cell_type": "code",
   "execution_count": 6,
   "metadata": {
    "execution": {
     "iopub.execute_input": "2020-09-04T11:53:03.706601Z",
     "iopub.status.busy": "2020-09-04T11:53:03.705006Z",
     "iopub.status.idle": "2020-09-04T11:53:03.711869Z",
     "shell.execute_reply": "2020-09-04T11:53:03.711010Z"
    },
    "papermill": {
     "duration": 0.037105,
     "end_time": "2020-09-04T11:53:03.712003",
     "exception": false,
     "start_time": "2020-09-04T11:53:03.674898",
     "status": "completed"
    },
    "tags": []
   },
   "outputs": [],
   "source": [
    "test_data['City_Code_Patient'] = test_data['City_Code_Patient'].fillna(-1)\n",
    "test_data['Bed Grade'] = test_data['Bed Grade'].fillna(-1)"
   ]
  },
  {
   "cell_type": "code",
   "execution_count": 7,
   "metadata": {
    "execution": {
     "iopub.execute_input": "2020-09-04T11:53:03.762944Z",
     "iopub.status.busy": "2020-09-04T11:53:03.761779Z",
     "iopub.status.idle": "2020-09-04T11:53:03.765256Z",
     "shell.execute_reply": "2020-09-04T11:53:03.764499Z"
    },
    "papermill": {
     "duration": 0.032016,
     "end_time": "2020-09-04T11:53:03.765395",
     "exception": false,
     "start_time": "2020-09-04T11:53:03.733379",
     "status": "completed"
    },
    "tags": []
   },
   "outputs": [],
   "source": [
    "cat_cols = ['Hospital_code','Hospital_type_code','City_Code_Hospital','Hospital_region_code'\n",
    "            ,'Department','Ward_Type','Ward_Facility_Code','Bed Grade','City_Code_Patient',\n",
    "           # 'Type of Admission','Severity of Illness',\n",
    "            'Age']"
   ]
  },
  {
   "cell_type": "code",
   "execution_count": 8,
   "metadata": {
    "execution": {
     "iopub.execute_input": "2020-09-04T11:53:03.813450Z",
     "iopub.status.busy": "2020-09-04T11:53:03.812376Z",
     "iopub.status.idle": "2020-09-04T11:53:03.815199Z",
     "shell.execute_reply": "2020-09-04T11:53:03.815749Z"
    },
    "papermill": {
     "duration": 0.028955,
     "end_time": "2020-09-04T11:53:03.815924",
     "exception": false,
     "start_time": "2020-09-04T11:53:03.786969",
     "status": "completed"
    },
    "tags": []
   },
   "outputs": [],
   "source": [
    "label = 'Stay'"
   ]
  },
  {
   "cell_type": "code",
   "execution_count": 9,
   "metadata": {
    "execution": {
     "iopub.execute_input": "2020-09-04T11:53:03.867679Z",
     "iopub.status.busy": "2020-09-04T11:53:03.866869Z",
     "iopub.status.idle": "2020-09-04T11:53:03.877585Z",
     "shell.execute_reply": "2020-09-04T11:53:03.876898Z"
    },
    "papermill": {
     "duration": 0.04049,
     "end_time": "2020-09-04T11:53:03.877726",
     "exception": false,
     "start_time": "2020-09-04T11:53:03.837236",
     "status": "completed"
    },
    "tags": []
   },
   "outputs": [
    {
     "data": {
      "text/plain": [
       "(92017,)"
      ]
     },
     "execution_count": 9,
     "metadata": {},
     "output_type": "execute_result"
    }
   ],
   "source": [
    "train_data['patientid'].unique().shape"
   ]
  },
  {
   "cell_type": "code",
   "execution_count": 10,
   "metadata": {
    "execution": {
     "iopub.execute_input": "2020-09-04T11:53:03.939450Z",
     "iopub.status.busy": "2020-09-04T11:53:03.938295Z",
     "iopub.status.idle": "2020-09-04T11:53:03.942455Z",
     "shell.execute_reply": "2020-09-04T11:53:03.941661Z"
    },
    "papermill": {
     "duration": 0.042227,
     "end_time": "2020-09-04T11:53:03.942608",
     "exception": false,
     "start_time": "2020-09-04T11:53:03.900381",
     "status": "completed"
    },
    "tags": []
   },
   "outputs": [],
   "source": [
    "def encode_cat_cols(train, test, cat_cols): #target\n",
    "\n",
    "    train_df = train_data.copy()\n",
    "    \n",
    "    test_df = test_data.copy()\n",
    "    \n",
    "    # Making a dictionary to store all the labelencoders for categroical columns to transform them later.\n",
    "    \n",
    "    le_dict = {}\n",
    "\n",
    "    for col in cat_cols:\n",
    "        \n",
    "        le = LabelEncoder()\n",
    "        \n",
    "        le.fit(train_df[col].unique().tolist() + test_df[col].unique().tolist())\n",
    "        \n",
    "        train_df[col] = le.transform(train_df[[col]])\n",
    "        \n",
    "        test_df[col] = le.transform(test_df[[col]])\n",
    "\n",
    "        le_dict[col] = le\n",
    "\n",
    "    le = LabelEncoder()\n",
    "    \n",
    "    train_df[label] = le.fit_transform(train_df[[label]])\n",
    "    \n",
    "    le_dict[label] = le\n",
    "    \n",
    "    train_df['Type of Admission'] = train_df['Type of Admission'].map({'Urgent':0,'Emergency':1,'Trauma':2})\n",
    "    \n",
    "    train_df['Severity of Illness'] = train_df['Severity of Illness'].map({'Minor':0,'Moderate':1,'Extreme':2})\n",
    "    \n",
    "    test_df['Type of Admission'] = test_df['Type of Admission'].map({'Urgent':0,'Emergency':1,'Trauma':2})\n",
    "    \n",
    "    test_df['Severity of Illness'] = test_df['Severity of Illness'].map({'Minor':0,'Moderate':1,'Extreme':2})\n",
    "    \n",
    "    return train_df, test_df, le_dict"
   ]
  },
  {
   "cell_type": "code",
   "execution_count": 11,
   "metadata": {
    "execution": {
     "iopub.execute_input": "2020-09-04T11:53:03.993206Z",
     "iopub.status.busy": "2020-09-04T11:53:03.992355Z",
     "iopub.status.idle": "2020-09-04T11:53:06.223601Z",
     "shell.execute_reply": "2020-09-04T11:53:06.222746Z"
    },
    "papermill": {
     "duration": 2.258607,
     "end_time": "2020-09-04T11:53:06.223739",
     "exception": false,
     "start_time": "2020-09-04T11:53:03.965132",
     "status": "completed"
    },
    "tags": []
   },
   "outputs": [],
   "source": [
    "train_df, test_df, le_dict = encode_cat_cols(train_data,test_data,cat_cols)"
   ]
  },
  {
   "cell_type": "code",
   "execution_count": 12,
   "metadata": {
    "execution": {
     "iopub.execute_input": "2020-09-04T11:53:06.297015Z",
     "iopub.status.busy": "2020-09-04T11:53:06.287120Z",
     "iopub.status.idle": "2020-09-04T11:53:08.140124Z",
     "shell.execute_reply": "2020-09-04T11:53:08.139400Z"
    },
    "papermill": {
     "duration": 1.894108,
     "end_time": "2020-09-04T11:53:08.140258",
     "exception": false,
     "start_time": "2020-09-04T11:53:06.246150",
     "status": "completed"
    },
    "tags": []
   },
   "outputs": [],
   "source": [
    "train_df['train'] =1\n",
    "\n",
    "test_df['train'] = 0\n",
    "\n",
    "combined_data = pd.concat([train_df,test_df],axis =0)\n",
    "\n",
    "combined_data = combined_data.reset_index(drop = True)\n",
    "\n",
    "combined_data[\"Patient_Count\"] = combined_data.groupby('Hospital_code')['patientid'].transform('nunique') #improvement\n",
    "\n",
    "combined_data[\"Avg_Extra_Rooms\"] = combined_data.groupby('Hospital_code')['Available Extra Rooms in Hospital'].transform('mean')#improvement\n",
    "\n",
    "combined_data[\"Avg_Bed_Grade\"] = combined_data.groupby('Hospital_code')['Bed Grade'].transform('mean') #improvement\n",
    "\n",
    "combined_data[\"No_of_Visits\"] = combined_data.groupby('patientid')['patientid'].transform('count') #improvement\n",
    "\n",
    "combined_data[\"Type_Admn_Per_Patient\"] = combined_data.groupby('patientid')['Type of Admission'].transform('nunique')#improvement\n",
    "\n",
    "combined_data[\"No_Hospitals_Visited_Per_Patient\"] = combined_data.groupby('patientid')['Hospital_code'].transform('nunique') ### good improvement\n",
    "\n",
    "combined_data[\"No_City_Visited_Per_Patient\"] = combined_data.groupby('patientid')['City_Code_Hospital'].transform('nunique')## good improvement\n",
    "\n",
    "combined_data[\"No_Rooms_Available_Per_Patient\"] = combined_data.groupby('patientid')['Available Extra Rooms in Hospital'].transform('nunique')##improvement\n",
    "\n",
    "combined_data[\"Sdev_Visitors_Per_Patient\"] = combined_data.groupby('patientid')['Visitors with Patient'].transform('std').fillna(-1)\n",
    "\n",
    "combined_data[\"Unq_Hospitals_Per_Pateint_Ill_Admn\"] = combined_data.groupby(['patientid','Severity of Illness','Type of Admission'])['Hospital_code'].transform('nunique')\n",
    "\n",
    "combined_data[\"Unq_City_Per_Pateint_Ill_Admn\"] = combined_data.groupby(['patientid','Severity of Illness','Type of Admission'])['City_Code_Hospital'].transform('nunique')\n",
    "\n",
    "combined_data[\"Unq_Ward_Per_Pateint_Ill_Admn\"] = combined_data.groupby(['patientid','Severity of Illness','Type of Admission'])['Ward_Type'].transform('nunique')\n",
    "\n",
    "combined_data[\"Sdev_Rooms_Per_Hospital_Ill_Admn\"] = combined_data.groupby(['Hospital_code','Severity of Illness','Type of Admission'])['Available Extra Rooms in Hospital'].transform('std').fillna(-1)\n",
    "\n",
    "combined_data[\"Sdev_Bed_Per_Hospital_Ill_Admn\"] = combined_data.groupby(['Hospital_code','Severity of Illness','Type of Admission'])['Bed Grade'].transform('std').fillna(-1)\n",
    "\n",
    "combined_data[\"Sdev_Deposit_Per_Hospital_Ill_Admn\"] = combined_data.groupby(['Hospital_code','Severity of Illness','Type of Admission'])['Admission_Deposit'].transform('std').fillna(-1)\n",
    "\n",
    "combined_data[\"Avg_Rooms_Per_Hospital_Ill_Admn\"] = combined_data.groupby(['Hospital_code','Severity of Illness','Type of Admission'])['Available Extra Rooms in Hospital'].transform('mean')\n",
    "\n",
    "htc_vc = combined_data['Hospital_type_code'].value_counts(normalize=True).to_dict()\n",
    "\n",
    "#combined_data['HTC_Count'] = combined_data['Hospital_type_code'].map(htc_vc)\n",
    "\n",
    "ccp_vc = combined_data['City_Code_Patient'].value_counts(normalize=True).to_dict()\n",
    "\n",
    "combined_data['CCP_Count'] = combined_data['City_Code_Patient'].map(ccp_vc)"
   ]
  },
  {
   "cell_type": "code",
   "execution_count": 13,
   "metadata": {
    "execution": {
     "iopub.execute_input": "2020-09-04T11:53:08.201626Z",
     "iopub.status.busy": "2020-09-04T11:53:08.200750Z",
     "iopub.status.idle": "2020-09-04T13:23:57.163213Z",
     "shell.execute_reply": "2020-09-04T13:23:57.163792Z"
    },
    "papermill": {
     "duration": 5449.001399,
     "end_time": "2020-09-04T13:23:57.164014",
     "exception": false,
     "start_time": "2020-09-04T11:53:08.162615",
     "status": "completed"
    },
    "tags": []
   },
   "outputs": [
    {
     "data": {
      "application/vnd.jupyter.widget-view+json": {
       "model_id": "f639bdd276044165aaeaa78734060ad8",
       "version_major": 2,
       "version_minor": 0
      },
      "text/plain": [
       "HBox(children=(FloatProgress(value=0.0, max=455495.0), HTML(value='')))"
      ]
     },
     "metadata": {},
     "output_type": "display_data"
    },
    {
     "name": "stdout",
     "output_type": "stream",
     "text": [
      "\n"
     ]
    }
   ],
   "source": [
    "combined_data['city_change'] = [0] *len(combined_data) \n",
    "\n",
    "combined_data['dep_change'] = [0] *len(combined_data) \n",
    "\n",
    "combined_data['hos_type_change'] = [0] *len(combined_data) \n",
    "\n",
    "combined_data['hos_region_change'] = [0] *len(combined_data) \n",
    "\n",
    "#combined_data['rooms_change'] = [0] *len(combined_data) ##\n",
    "\n",
    "combined_data['hos_change'] = [0] *len(combined_data) ##\n",
    "\n",
    "combined_data['grp_first'] = [0] *len(combined_data) \n",
    "\n",
    "combined_data['grp_last'] = [0] *len(combined_data) \n",
    "\n",
    "combined_data['condition_same'] = [0] *len(combined_data) \n",
    "\n",
    "combined_data['condition_worse'] = [0] *len(combined_data) \n",
    "\n",
    "combined_data['condition_better'] = [0] *len(combined_data) \n",
    "\n",
    "for idx in tnrange(len(combined_data)):\n",
    "    \n",
    "    if idx!=0:\n",
    "        \n",
    "        if combined_data.loc[idx,'patientid'] == combined_data.loc[idx-1,'patientid']:\n",
    "            \n",
    "            if combined_data.loc[idx,'City_Code_Hospital'] != combined_data.loc[idx-1,'City_Code_Hospital']:\n",
    "                \n",
    "                combined_data.loc[idx,'city_change'] = 1\n",
    "            \n",
    "            if combined_data.loc[idx,'Department'] != combined_data.loc[idx-1,'Department']:\n",
    "                \n",
    "                combined_data.loc[idx,'dep_change'] = 1\n",
    "            \n",
    "            if combined_data.loc[idx,'Hospital_type_code'] != combined_data.loc[idx-1,'Hospital_type_code']:\n",
    "                \n",
    "                combined_data.loc[idx,'hos_type_change'] = 1\n",
    "                \n",
    "            if combined_data.loc[idx,'Hospital_region_code'] != combined_data.loc[idx-1,'Hospital_region_code']:\n",
    "                \n",
    "                combined_data.loc[idx,'hos_region_change'] = 1\n",
    "                \n",
    "            #if combined_data.loc[idx,'Available Extra Rooms in Hospital'] != combined_data.loc[idx-1,'Available Extra Rooms in Hospital']:\n",
    "                \n",
    "                #combined_data.loc[idx,'rooms_change'] = 1\n",
    "                \n",
    "            if combined_data.loc[idx,'Hospital_code'] != combined_data.loc[idx-1,'Hospital_code']:\n",
    "                \n",
    "                combined_data.loc[idx,'hos_change'] = 1\n",
    "            \n",
    "            if combined_data.loc[idx,'Type of Admission'] == combined_data.loc[idx-1,'Type of Admission']:\n",
    "                \n",
    "                combined_data.loc[idx,'condition_same'] = 1\n",
    "            \n",
    "            elif combined_data.loc[idx,'Type of Admission'] > combined_data.loc[idx-1,'Type of Admission']:\n",
    "                \n",
    "                combined_data.loc[idx,'condition_worse'] = 1\n",
    "            \n",
    "            else:\n",
    "                combined_data.loc[idx,'condition_better'] = 1\n",
    "        \n",
    "        else:\n",
    "            \n",
    "            combined_data.loc[idx,'city_change'] = 1\n",
    "            \n",
    "            combined_data.loc[idx,'dep_change'] = 1\n",
    "            \n",
    "            combined_data.loc[idx,'hos_type_change'] = 1\n",
    "            \n",
    "            combined_data.loc[idx,'hos_region_change'] = 1\n",
    "            \n",
    "            #combined_data.loc[idx,'rooms_change'] = 1\n",
    "            \n",
    "            combined_data.loc[idx,'hos_change'] = 1\n",
    "            \n",
    "            combined_data.loc[idx,'grp_first'] = 1\n",
    "            \n",
    "            combined_data.loc[idx-1,'grp_last'] = 1\n",
    "            \n",
    "            combined_data.loc[idx,'condition_worse'] = 1\n",
    "    \n",
    "    else:\n",
    "        \n",
    "        combined_data.loc[idx,'city_change'] = 1\n",
    "        \n",
    "        combined_data.loc[idx,'dep_change'] = 1\n",
    "        \n",
    "        combined_data.loc[idx,'hos_type_change'] = 1\n",
    "        \n",
    "        combined_data.loc[idx,'hos_region_change'] = 1\n",
    "        \n",
    "        #combined_data.loc[idx,'rooms_change'] = 1\n",
    "        \n",
    "        combined_data.loc[idx,'hos_change'] = 1\n",
    "        \n",
    "        combined_data.loc[idx,'grp_first'] = 1\n",
    "        \n",
    "        combined_data.loc[idx,'condition_worse'] = 1\n",
    "\n",
    "combined_data.loc[combined_data.index[-1],'grp_last'] = 1"
   ]
  },
  {
   "cell_type": "code",
   "execution_count": 14,
   "metadata": {
    "execution": {
     "iopub.execute_input": "2020-09-04T13:23:57.248852Z",
     "iopub.status.busy": "2020-09-04T13:23:57.245904Z",
     "iopub.status.idle": "2020-09-04T13:23:57.252866Z",
     "shell.execute_reply": "2020-09-04T13:23:57.252085Z"
    },
    "papermill": {
     "duration": 0.064589,
     "end_time": "2020-09-04T13:23:57.252999",
     "exception": false,
     "start_time": "2020-09-04T13:23:57.188410",
     "status": "completed"
    },
    "tags": []
   },
   "outputs": [],
   "source": [
    "def calculate_probs_features(df_train,colName,newColName,label):\n",
    "\n",
    "    df = df_train.copy()\n",
    "    \n",
    "    probs_stay_df = pd.DataFrame(index= list(range(0,len(df[colName].unique()))),\n",
    "                                 columns= [colName,newColName + '_p_0',newColName + '_p_1',\n",
    "                                                   newColName + '_p_2',newColName + '_p_3',\n",
    "                                                   newColName + '_p_4',\n",
    "                                                   newColName + '_p_5',newColName + '_p_6',\n",
    "                                                   newColName + '_p_7',\n",
    "                                                   newColName + '_p_8',newColName + '_p_9'],\n",
    "                                          dtype = 'float')\n",
    "\n",
    "    for i,j in enumerate(train_df[colName].unique()):\n",
    "\n",
    "        probs_stay_df.iloc[i,0] = j   \n",
    "\n",
    "        probs_stay_df.iloc[i,1] = len(df.loc[(df[colName]==j) &  (df[label] ==0),:])/len(df.loc[(df[colName]==j) ,:])\n",
    "\n",
    "        probs_stay_df.iloc[i,2] = len(df.loc[(df[colName]==j) &  (df[label] ==1),:])/len(df.loc[(df[colName]==j) ,:])\n",
    "\n",
    "        probs_stay_df.iloc[i,3] = len(df.loc[(df[colName]==j) &  (df[label] ==2),:])/len(df.loc[(df[colName]==j) ,:])\n",
    "\n",
    "        probs_stay_df.iloc[i,4] = len(df.loc[(df[colName]==j) &  (df[label] ==3),:])/len(df.loc[(df[colName]==j) ,:])\n",
    "\n",
    "        probs_stay_df.iloc[i,5] = len(df.loc[(df[colName]==j) &  (df[label] ==4),:])/len(df.loc[(df[colName]==j) ,:])\n",
    "\n",
    "        probs_stay_df.iloc[i,6] = len(df.loc[(df[colName]==j) &  (df[label] ==5),:])/len(df.loc[(df[colName]==j) ,:])\n",
    "\n",
    "        probs_stay_df.iloc[i,7] = len(df.loc[(df[colName]==j) &  (df[label] ==6),:])/len(df.loc[(df[colName]==j) ,:])\n",
    "\n",
    "        probs_stay_df.iloc[i,8] = len(df.loc[(df[colName]==j) &  (df[label] ==7),:])/len(df.loc[(df[colName]==j) ,:])\n",
    "\n",
    "        probs_stay_df.iloc[i,9] = len(df.loc[(df[colName]==j) &  (df[label] ==8),:])/len(df.loc[(df[colName]==j) ,:])\n",
    "\n",
    "        probs_stay_df.iloc[i,10] = len(df.loc[(df[colName]==j) &  (df[label] ==9),:])/len(df.loc[(df[colName]==j) ,:])\n",
    "        \n",
    "    return probs_stay_df"
   ]
  },
  {
   "cell_type": "code",
   "execution_count": 15,
   "metadata": {
    "execution": {
     "iopub.execute_input": "2020-09-04T13:23:57.309739Z",
     "iopub.status.busy": "2020-09-04T13:23:57.308904Z",
     "iopub.status.idle": "2020-09-04T13:23:57.460407Z",
     "shell.execute_reply": "2020-09-04T13:23:57.459339Z"
    },
    "papermill": {
     "duration": 0.182638,
     "end_time": "2020-09-04T13:23:57.460610",
     "exception": false,
     "start_time": "2020-09-04T13:23:57.277972",
     "status": "completed"
    },
    "tags": []
   },
   "outputs": [],
   "source": [
    "train_df = combined_data[combined_data['train']==1]\n",
    "\n",
    "test_df = combined_data[combined_data['train']==0]"
   ]
  },
  {
   "cell_type": "code",
   "execution_count": 16,
   "metadata": {
    "execution": {
     "iopub.execute_input": "2020-09-04T13:23:57.521136Z",
     "iopub.status.busy": "2020-09-04T13:23:57.519521Z",
     "iopub.status.idle": "2020-09-04T13:24:09.020430Z",
     "shell.execute_reply": "2020-09-04T13:24:09.019500Z"
    },
    "papermill": {
     "duration": 11.534543,
     "end_time": "2020-09-04T13:24:09.020602",
     "exception": false,
     "start_time": "2020-09-04T13:23:57.486059",
     "status": "completed"
    },
    "tags": []
   },
   "outputs": [],
   "source": [
    "#create prob features\n",
    "probs_visitor_df = calculate_probs_features(train_df,'Visitors with Patient','Visitors',label)\n",
    "\n",
    "probs_hospital_code_df = calculate_probs_features(train_df,'Hospital_code','Hospital_code',label) #new\n",
    "\n",
    "probs_city_code_hospital_df = calculate_probs_features(train_df,'City_Code_Hospital','City_Code_Hospital',label) #new\n",
    "\n",
    "probs_wards_facilty_df = calculate_probs_features(train_df,'Ward_Facility_Code','Ward_Facility_Code',label) #new\n",
    "\n",
    "probs_city_code_patient_df = calculate_probs_features(train_df,'City_Code_Patient','City_Code_Patient',label) #new"
   ]
  },
  {
   "cell_type": "code",
   "execution_count": 17,
   "metadata": {
    "execution": {
     "iopub.execute_input": "2020-09-04T13:24:09.085060Z",
     "iopub.status.busy": "2020-09-04T13:24:09.084003Z",
     "iopub.status.idle": "2020-09-04T13:24:10.094195Z",
     "shell.execute_reply": "2020-09-04T13:24:10.093389Z"
    },
    "papermill": {
     "duration": 1.048115,
     "end_time": "2020-09-04T13:24:10.094326",
     "exception": false,
     "start_time": "2020-09-04T13:24:09.046211",
     "status": "completed"
    },
    "tags": []
   },
   "outputs": [],
   "source": [
    "#merge prob features with train df\n",
    "train_df = pd.merge(train_df,probs_visitor_df ,on='Visitors with Patient',how='left')\n",
    "\n",
    "train_df = pd.merge(train_df,probs_hospital_code_df ,on='Hospital_code',how='left')\n",
    "\n",
    "train_df = pd.merge(train_df,probs_city_code_hospital_df ,on='City_Code_Hospital',how='left')\n",
    "\n",
    "train_df = pd.merge(train_df,probs_wards_facilty_df ,on='Ward_Facility_Code',how='left')\n",
    "\n",
    "train_df = pd.merge(train_df,probs_city_code_patient_df ,on='City_Code_Patient',how='left')"
   ]
  },
  {
   "cell_type": "code",
   "execution_count": 18,
   "metadata": {
    "execution": {
     "iopub.execute_input": "2020-09-04T13:24:10.168329Z",
     "iopub.status.busy": "2020-09-04T13:24:10.154977Z",
     "iopub.status.idle": "2020-09-04T13:24:10.495951Z",
     "shell.execute_reply": "2020-09-04T13:24:10.495116Z"
    },
    "papermill": {
     "duration": 0.377423,
     "end_time": "2020-09-04T13:24:10.496088",
     "exception": false,
     "start_time": "2020-09-04T13:24:10.118665",
     "status": "completed"
    },
    "tags": []
   },
   "outputs": [],
   "source": [
    "#merge prob features with test df\n",
    "test_df = pd.merge(test_df,probs_visitor_df ,on='Visitors with Patient',how='left')\n",
    "\n",
    "test_df = pd.merge(test_df,probs_hospital_code_df ,on='Hospital_code',how='left')\n",
    "\n",
    "test_df = pd.merge(test_df,probs_city_code_hospital_df ,on='City_Code_Hospital',how='left')\n",
    "\n",
    "test_df = pd.merge(test_df,probs_wards_facilty_df ,on='Ward_Facility_Code',how='left')\n",
    "\n",
    "test_df = pd.merge(test_df,probs_city_code_patient_df ,on='City_Code_Patient',how='left')"
   ]
  },
  {
   "cell_type": "code",
   "execution_count": 19,
   "metadata": {
    "execution": {
     "iopub.execute_input": "2020-09-04T13:24:10.552165Z",
     "iopub.status.busy": "2020-09-04T13:24:10.551330Z",
     "iopub.status.idle": "2020-09-04T13:24:11.117136Z",
     "shell.execute_reply": "2020-09-04T13:24:11.116467Z"
    },
    "papermill": {
     "duration": 0.59609,
     "end_time": "2020-09-04T13:24:11.117283",
     "exception": false,
     "start_time": "2020-09-04T13:24:10.521193",
     "status": "completed"
    },
    "tags": []
   },
   "outputs": [],
   "source": [
    "combined_data = pd.concat([train_df,test_df],axis =0)"
   ]
  },
  {
   "cell_type": "code",
   "execution_count": 20,
   "metadata": {
    "execution": {
     "iopub.execute_input": "2020-09-04T13:24:11.175856Z",
     "iopub.status.busy": "2020-09-04T13:24:11.174956Z",
     "iopub.status.idle": "2020-09-04T13:25:30.495194Z",
     "shell.execute_reply": "2020-09-04T13:25:30.494204Z"
    },
    "papermill": {
     "duration": 79.35262,
     "end_time": "2020-09-04T13:25:30.495362",
     "exception": false,
     "start_time": "2020-09-04T13:24:11.142742",
     "status": "completed"
    },
    "tags": []
   },
   "outputs": [],
   "source": [
    "combined_data.to_csv('combined.csv',index = False)"
   ]
  }
 ],
 "metadata": {
  "kernelspec": {
   "display_name": "Python 3",
   "language": "python",
   "name": "python3"
  },
  "language_info": {
   "codemirror_mode": {
    "name": "ipython",
    "version": 3
   },
   "file_extension": ".py",
   "mimetype": "text/x-python",
   "name": "python",
   "nbconvert_exporter": "python",
   "pygments_lexer": "ipython3",
   "version": "3.7.6"
  },
  "papermill": {
   "duration": 5559.36785,
   "end_time": "2020-09-04T13:25:30.637345",
   "environment_variables": {},
   "exception": null,
   "input_path": "__notebook__.ipynb",
   "output_path": "__notebook__.ipynb",
   "parameters": {},
   "start_time": "2020-09-04T11:52:51.269495",
   "version": "2.1.0"
  },
  "widgets": {
   "application/vnd.jupyter.widget-state+json": {
    "state": {
     "2169d7797b804a2c98b77048d0d15098": {
      "model_module": "@jupyter-widgets/base",
      "model_module_version": "1.2.0",
      "model_name": "LayoutModel",
      "state": {
       "_model_module": "@jupyter-widgets/base",
       "_model_module_version": "1.2.0",
       "_model_name": "LayoutModel",
       "_view_count": null,
       "_view_module": "@jupyter-widgets/base",
       "_view_module_version": "1.2.0",
       "_view_name": "LayoutView",
       "align_content": null,
       "align_items": null,
       "align_self": null,
       "border": null,
       "bottom": null,
       "display": null,
       "flex": null,
       "flex_flow": null,
       "grid_area": null,
       "grid_auto_columns": null,
       "grid_auto_flow": null,
       "grid_auto_rows": null,
       "grid_column": null,
       "grid_gap": null,
       "grid_row": null,
       "grid_template_areas": null,
       "grid_template_columns": null,
       "grid_template_rows": null,
       "height": null,
       "justify_content": null,
       "justify_items": null,
       "left": null,
       "margin": null,
       "max_height": null,
       "max_width": null,
       "min_height": null,
       "min_width": null,
       "object_fit": null,
       "object_position": null,
       "order": null,
       "overflow": null,
       "overflow_x": null,
       "overflow_y": null,
       "padding": null,
       "right": null,
       "top": null,
       "visibility": null,
       "width": null
      }
     },
     "4d6dfb3ef06f4a5fb80e053f303e052a": {
      "model_module": "@jupyter-widgets/base",
      "model_module_version": "1.2.0",
      "model_name": "LayoutModel",
      "state": {
       "_model_module": "@jupyter-widgets/base",
       "_model_module_version": "1.2.0",
       "_model_name": "LayoutModel",
       "_view_count": null,
       "_view_module": "@jupyter-widgets/base",
       "_view_module_version": "1.2.0",
       "_view_name": "LayoutView",
       "align_content": null,
       "align_items": null,
       "align_self": null,
       "border": null,
       "bottom": null,
       "display": null,
       "flex": null,
       "flex_flow": null,
       "grid_area": null,
       "grid_auto_columns": null,
       "grid_auto_flow": null,
       "grid_auto_rows": null,
       "grid_column": null,
       "grid_gap": null,
       "grid_row": null,
       "grid_template_areas": null,
       "grid_template_columns": null,
       "grid_template_rows": null,
       "height": null,
       "justify_content": null,
       "justify_items": null,
       "left": null,
       "margin": null,
       "max_height": null,
       "max_width": null,
       "min_height": null,
       "min_width": null,
       "object_fit": null,
       "object_position": null,
       "order": null,
       "overflow": null,
       "overflow_x": null,
       "overflow_y": null,
       "padding": null,
       "right": null,
       "top": null,
       "visibility": null,
       "width": null
      }
     },
     "77783d06f796452995227b42cc668ae0": {
      "model_module": "@jupyter-widgets/controls",
      "model_module_version": "1.5.0",
      "model_name": "DescriptionStyleModel",
      "state": {
       "_model_module": "@jupyter-widgets/controls",
       "_model_module_version": "1.5.0",
       "_model_name": "DescriptionStyleModel",
       "_view_count": null,
       "_view_module": "@jupyter-widgets/base",
       "_view_module_version": "1.2.0",
       "_view_name": "StyleView",
       "description_width": ""
      }
     },
     "80b5046612594f30bf8bcda4e9e0de02": {
      "model_module": "@jupyter-widgets/controls",
      "model_module_version": "1.5.0",
      "model_name": "ProgressStyleModel",
      "state": {
       "_model_module": "@jupyter-widgets/controls",
       "_model_module_version": "1.5.0",
       "_model_name": "ProgressStyleModel",
       "_view_count": null,
       "_view_module": "@jupyter-widgets/base",
       "_view_module_version": "1.2.0",
       "_view_name": "StyleView",
       "bar_color": null,
       "description_width": "initial"
      }
     },
     "a22e753da6574a6d83148ac2f0a790ce": {
      "model_module": "@jupyter-widgets/controls",
      "model_module_version": "1.5.0",
      "model_name": "FloatProgressModel",
      "state": {
       "_dom_classes": [],
       "_model_module": "@jupyter-widgets/controls",
       "_model_module_version": "1.5.0",
       "_model_name": "FloatProgressModel",
       "_view_count": null,
       "_view_module": "@jupyter-widgets/controls",
       "_view_module_version": "1.5.0",
       "_view_name": "ProgressView",
       "bar_style": "success",
       "description": "100%",
       "description_tooltip": null,
       "layout": "IPY_MODEL_4d6dfb3ef06f4a5fb80e053f303e052a",
       "max": 455495.0,
       "min": 0.0,
       "orientation": "horizontal",
       "style": "IPY_MODEL_80b5046612594f30bf8bcda4e9e0de02",
       "value": 455495.0
      }
     },
     "d5f9d1dda8d34926b08e63265bb2b0db": {
      "model_module": "@jupyter-widgets/controls",
      "model_module_version": "1.5.0",
      "model_name": "HTMLModel",
      "state": {
       "_dom_classes": [],
       "_model_module": "@jupyter-widgets/controls",
       "_model_module_version": "1.5.0",
       "_model_name": "HTMLModel",
       "_view_count": null,
       "_view_module": "@jupyter-widgets/controls",
       "_view_module_version": "1.5.0",
       "_view_name": "HTMLView",
       "description": "",
       "description_tooltip": null,
       "layout": "IPY_MODEL_2169d7797b804a2c98b77048d0d15098",
       "placeholder": "​",
       "style": "IPY_MODEL_77783d06f796452995227b42cc668ae0",
       "value": " 455495/455495 [1:30:46&lt;00:00, 83.63it/s]"
      }
     },
     "e3be44576bb44f1ea44e28ea5122d545": {
      "model_module": "@jupyter-widgets/base",
      "model_module_version": "1.2.0",
      "model_name": "LayoutModel",
      "state": {
       "_model_module": "@jupyter-widgets/base",
       "_model_module_version": "1.2.0",
       "_model_name": "LayoutModel",
       "_view_count": null,
       "_view_module": "@jupyter-widgets/base",
       "_view_module_version": "1.2.0",
       "_view_name": "LayoutView",
       "align_content": null,
       "align_items": null,
       "align_self": null,
       "border": null,
       "bottom": null,
       "display": null,
       "flex": null,
       "flex_flow": null,
       "grid_area": null,
       "grid_auto_columns": null,
       "grid_auto_flow": null,
       "grid_auto_rows": null,
       "grid_column": null,
       "grid_gap": null,
       "grid_row": null,
       "grid_template_areas": null,
       "grid_template_columns": null,
       "grid_template_rows": null,
       "height": null,
       "justify_content": null,
       "justify_items": null,
       "left": null,
       "margin": null,
       "max_height": null,
       "max_width": null,
       "min_height": null,
       "min_width": null,
       "object_fit": null,
       "object_position": null,
       "order": null,
       "overflow": null,
       "overflow_x": null,
       "overflow_y": null,
       "padding": null,
       "right": null,
       "top": null,
       "visibility": null,
       "width": null
      }
     },
     "f639bdd276044165aaeaa78734060ad8": {
      "model_module": "@jupyter-widgets/controls",
      "model_module_version": "1.5.0",
      "model_name": "HBoxModel",
      "state": {
       "_dom_classes": [],
       "_model_module": "@jupyter-widgets/controls",
       "_model_module_version": "1.5.0",
       "_model_name": "HBoxModel",
       "_view_count": null,
       "_view_module": "@jupyter-widgets/controls",
       "_view_module_version": "1.5.0",
       "_view_name": "HBoxView",
       "box_style": "",
       "children": [
        "IPY_MODEL_a22e753da6574a6d83148ac2f0a790ce",
        "IPY_MODEL_d5f9d1dda8d34926b08e63265bb2b0db"
       ],
       "layout": "IPY_MODEL_e3be44576bb44f1ea44e28ea5122d545"
      }
     }
    },
    "version_major": 2,
    "version_minor": 0
   }
  }
 },
 "nbformat": 4,
 "nbformat_minor": 4
}
