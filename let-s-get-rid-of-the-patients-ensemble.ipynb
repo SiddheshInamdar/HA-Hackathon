{
 "cells": [
  {
   "cell_type": "markdown",
   "execution_count": null,
   "metadata": {
    "papermill": {
     "duration": 0.01139,
     "end_time": "2020-09-06T15:06:13.347498",
     "exception": false,
     "start_time": "2020-09-06T15:06:13.336108",
     "status": "completed"
    },
    "tags": []
   },
   "source": [
    "https://www.kaggle.com/c/siim-isic-melanoma-classification/discussion/175614"
   ]
  },
  {
   "cell_type": "code",
   "execution_count": 1,
   "metadata": {
    "_cell_guid": "b1076dfc-b9ad-4769-8c92-a6c4dae69d19",
    "_uuid": "8f2839f25d086af736a60e9eeb907d3b93b6e0e5",
    "execution": {
     "iopub.execute_input": "2020-09-06T15:06:13.375757Z",
     "iopub.status.busy": "2020-09-06T15:06:13.375028Z",
     "iopub.status.idle": "2020-09-06T15:06:13.506926Z",
     "shell.execute_reply": "2020-09-06T15:06:13.507989Z"
    },
    "papermill": {
     "duration": 0.150644,
     "end_time": "2020-09-06T15:06:13.508265",
     "exception": false,
     "start_time": "2020-09-06T15:06:13.357621",
     "status": "completed"
    },
    "tags": []
   },
   "outputs": [
    {
     "name": "stdout",
     "output_type": "stream",
     "text": [
      "/kaggle/input/lets-get-rid-of-the-patients-catboost/probs_73_0_1.csv\n",
      "/kaggle/input/lets-get-rid-of-the-patients-catboost/submission_432_0_1.csv\n",
      "/kaggle/input/lets-get-rid-of-the-patients-catboost/probs_32_1_4.csv\n",
      "/kaggle/input/lets-get-rid-of-the-patients-catboost/probs.csv\n",
      "/kaggle/input/lets-get-rid-of-the-patients-catboost/submission_32_0_0.csv\n",
      "/kaggle/input/lets-get-rid-of-the-patients-catboost/submission_432_4_2.csv\n",
      "/kaggle/input/lets-get-rid-of-the-patients-catboost/probs_32_3_3.csv\n",
      "/kaggle/input/lets-get-rid-of-the-patients-catboost/probs_432_2_1.csv\n",
      "/kaggle/input/lets-get-rid-of-the-patients-catboost/probs_432_1_3.csv\n",
      "/kaggle/input/lets-get-rid-of-the-patients-catboost/probs_432_1_0.csv\n",
      "/kaggle/input/lets-get-rid-of-the-patients-catboost/submission_32_1_4.csv\n",
      "/kaggle/input/lets-get-rid-of-the-patients-catboost/probs_32_2_3.csv\n",
      "/kaggle/input/lets-get-rid-of-the-patients-catboost/probs_73_0_4.csv\n",
      "/kaggle/input/lets-get-rid-of-the-patients-catboost/probs_432_4_3.csv\n",
      "/kaggle/input/lets-get-rid-of-the-patients-catboost/probs_73_3_0.csv\n",
      "/kaggle/input/lets-get-rid-of-the-patients-catboost/probs_32_0_4.csv\n",
      "/kaggle/input/lets-get-rid-of-the-patients-catboost/submission_432_4_3.csv\n",
      "/kaggle/input/lets-get-rid-of-the-patients-catboost/probs_432_3_2.csv\n",
      "/kaggle/input/lets-get-rid-of-the-patients-catboost/__results__.html\n",
      "/kaggle/input/lets-get-rid-of-the-patients-catboost/submission_32_3_4.csv\n",
      "/kaggle/input/lets-get-rid-of-the-patients-catboost/probs_73_1_4.csv\n",
      "/kaggle/input/lets-get-rid-of-the-patients-catboost/probs_32_0_3.csv\n",
      "/kaggle/input/lets-get-rid-of-the-patients-catboost/probs_73_2_4.csv\n",
      "/kaggle/input/lets-get-rid-of-the-patients-catboost/probs_32_3_4.csv\n",
      "/kaggle/input/lets-get-rid-of-the-patients-catboost/submission_432_3_2.csv\n",
      "/kaggle/input/lets-get-rid-of-the-patients-catboost/submission_432_1_0.csv\n",
      "/kaggle/input/lets-get-rid-of-the-patients-catboost/probs_73_3_2.csv\n",
      "/kaggle/input/lets-get-rid-of-the-patients-catboost/submission_73_0_2.csv\n",
      "/kaggle/input/lets-get-rid-of-the-patients-catboost/probs_432_3_1.csv\n",
      "/kaggle/input/lets-get-rid-of-the-patients-catboost/submission_73_0_4.csv\n",
      "/kaggle/input/lets-get-rid-of-the-patients-catboost/submission_32_1_2.csv\n",
      "/kaggle/input/lets-get-rid-of-the-patients-catboost/probs_73_4_2.csv\n",
      "/kaggle/input/lets-get-rid-of-the-patients-catboost/submission_432_3_1.csv\n",
      "/kaggle/input/lets-get-rid-of-the-patients-catboost/submission_73_1_3.csv\n",
      "/kaggle/input/lets-get-rid-of-the-patients-catboost/probs_73_0_0.csv\n",
      "/kaggle/input/lets-get-rid-of-the-patients-catboost/probs_432_0_2.csv\n",
      "/kaggle/input/lets-get-rid-of-the-patients-catboost/submission_432_2_2.csv\n",
      "/kaggle/input/lets-get-rid-of-the-patients-catboost/submission_432_3_0.csv\n",
      "/kaggle/input/lets-get-rid-of-the-patients-catboost/probs_73_1_3.csv\n",
      "/kaggle/input/lets-get-rid-of-the-patients-catboost/submission_32_0_4.csv\n",
      "/kaggle/input/lets-get-rid-of-the-patients-catboost/probs_32_4_2.csv\n",
      "/kaggle/input/lets-get-rid-of-the-patients-catboost/probs_32_4_1.csv\n",
      "/kaggle/input/lets-get-rid-of-the-patients-catboost/probs_432_2_4.csv\n",
      "/kaggle/input/lets-get-rid-of-the-patients-catboost/submission_32_0_2.csv\n",
      "/kaggle/input/lets-get-rid-of-the-patients-catboost/submission.csv\n",
      "/kaggle/input/lets-get-rid-of-the-patients-catboost/probs_432_4_2.csv\n",
      "/kaggle/input/lets-get-rid-of-the-patients-catboost/submission_32_0_1.csv\n",
      "/kaggle/input/lets-get-rid-of-the-patients-catboost/submission_32_4_2.csv\n",
      "/kaggle/input/lets-get-rid-of-the-patients-catboost/probs_32_0_2.csv\n",
      "/kaggle/input/lets-get-rid-of-the-patients-catboost/submission_73_2_4.csv\n",
      "/kaggle/input/lets-get-rid-of-the-patients-catboost/submission_32_4_4.csv\n",
      "/kaggle/input/lets-get-rid-of-the-patients-catboost/probs_73_4_4.csv\n",
      "/kaggle/input/lets-get-rid-of-the-patients-catboost/probs_32_3_0.csv\n",
      "/kaggle/input/lets-get-rid-of-the-patients-catboost/submission_432_4_1.csv\n",
      "/kaggle/input/lets-get-rid-of-the-patients-catboost/submission_432_2_1.csv\n",
      "/kaggle/input/lets-get-rid-of-the-patients-catboost/probs_73_4_0.csv\n",
      "/kaggle/input/lets-get-rid-of-the-patients-catboost/probs_32_3_2.csv\n",
      "/kaggle/input/lets-get-rid-of-the-patients-catboost/probs_432_3_4.csv\n",
      "/kaggle/input/lets-get-rid-of-the-patients-catboost/submission_73_2_3.csv\n",
      "/kaggle/input/lets-get-rid-of-the-patients-catboost/submission_73_4_3.csv\n",
      "/kaggle/input/lets-get-rid-of-the-patients-catboost/submission_32_1_0.csv\n",
      "/kaggle/input/lets-get-rid-of-the-patients-catboost/probs_73_2_2.csv\n",
      "/kaggle/input/lets-get-rid-of-the-patients-catboost/probs_32_0_1.csv\n",
      "/kaggle/input/lets-get-rid-of-the-patients-catboost/submission_432_3_3.csv\n",
      "/kaggle/input/lets-get-rid-of-the-patients-catboost/submission_32_2_3.csv\n",
      "/kaggle/input/lets-get-rid-of-the-patients-catboost/submission_73_1_2.csv\n",
      "/kaggle/input/lets-get-rid-of-the-patients-catboost/probs_32_1_3.csv\n",
      "/kaggle/input/lets-get-rid-of-the-patients-catboost/probs_32_0_0.csv\n",
      "/kaggle/input/lets-get-rid-of-the-patients-catboost/submission_73_4_2.csv\n",
      "/kaggle/input/lets-get-rid-of-the-patients-catboost/submission_432_1_4.csv\n",
      "/kaggle/input/lets-get-rid-of-the-patients-catboost/probs_73_0_2.csv\n",
      "/kaggle/input/lets-get-rid-of-the-patients-catboost/submission_432_1_1.csv\n",
      "/kaggle/input/lets-get-rid-of-the-patients-catboost/submission_73_1_1.csv\n",
      "/kaggle/input/lets-get-rid-of-the-patients-catboost/probs_73_2_0.csv\n",
      "/kaggle/input/lets-get-rid-of-the-patients-catboost/submission_432_2_4.csv\n",
      "/kaggle/input/lets-get-rid-of-the-patients-catboost/probs_32_1_0.csv\n",
      "/kaggle/input/lets-get-rid-of-the-patients-catboost/probs_432_0_0.csv\n",
      "/kaggle/input/lets-get-rid-of-the-patients-catboost/probs_73_1_0.csv\n",
      "/kaggle/input/lets-get-rid-of-the-patients-catboost/submission_432_1_3.csv\n",
      "/kaggle/input/lets-get-rid-of-the-patients-catboost/probs_432_4_1.csv\n",
      "/kaggle/input/lets-get-rid-of-the-patients-catboost/submission_32_2_0.csv\n",
      "/kaggle/input/lets-get-rid-of-the-patients-catboost/submission_73_4_0.csv\n",
      "/kaggle/input/lets-get-rid-of-the-patients-catboost/submission_32_2_1.csv\n",
      "/kaggle/input/lets-get-rid-of-the-patients-catboost/submission_432_2_0.csv\n",
      "/kaggle/input/lets-get-rid-of-the-patients-catboost/submission_73_3_0.csv\n",
      "/kaggle/input/lets-get-rid-of-the-patients-catboost/probs_73_1_1.csv\n",
      "/kaggle/input/lets-get-rid-of-the-patients-catboost/probs_32_2_0.csv\n",
      "/kaggle/input/lets-get-rid-of-the-patients-catboost/probs_32_4_0.csv\n",
      "/kaggle/input/lets-get-rid-of-the-patients-catboost/custom.css\n",
      "/kaggle/input/lets-get-rid-of-the-patients-catboost/submission_73_4_4.csv\n",
      "/kaggle/input/lets-get-rid-of-the-patients-catboost/submission_32_2_2.csv\n",
      "/kaggle/input/lets-get-rid-of-the-patients-catboost/probs_32_2_4.csv\n",
      "/kaggle/input/lets-get-rid-of-the-patients-catboost/submission_73_3_1.csv\n",
      "/kaggle/input/lets-get-rid-of-the-patients-catboost/probs_73_2_3.csv\n",
      "/kaggle/input/lets-get-rid-of-the-patients-catboost/submission_432_0_4.csv\n",
      "/kaggle/input/lets-get-rid-of-the-patients-catboost/model_stats.csv\n",
      "/kaggle/input/lets-get-rid-of-the-patients-catboost/submission_32_0_3.csv\n",
      "/kaggle/input/lets-get-rid-of-the-patients-catboost/probs_32_1_2.csv\n",
      "/kaggle/input/lets-get-rid-of-the-patients-catboost/probs_32_2_2.csv\n",
      "/kaggle/input/lets-get-rid-of-the-patients-catboost/submission_73_1_4.csv\n",
      "/kaggle/input/lets-get-rid-of-the-patients-catboost/probs_432_3_3.csv\n",
      "/kaggle/input/lets-get-rid-of-the-patients-catboost/probs_432_0_4.csv\n",
      "/kaggle/input/lets-get-rid-of-the-patients-catboost/submission_432_3_4.csv\n",
      "/kaggle/input/lets-get-rid-of-the-patients-catboost/probs_73_4_3.csv\n",
      "/kaggle/input/lets-get-rid-of-the-patients-catboost/submission_32_2_4.csv\n",
      "/kaggle/input/lets-get-rid-of-the-patients-catboost/probs_32_4_4.csv\n",
      "/kaggle/input/lets-get-rid-of-the-patients-catboost/probs_432_4_0.csv\n",
      "/kaggle/input/lets-get-rid-of-the-patients-catboost/probs_432_2_2.csv\n",
      "/kaggle/input/lets-get-rid-of-the-patients-catboost/submission_32_3_3.csv\n",
      "/kaggle/input/lets-get-rid-of-the-patients-catboost/submission_32_3_1.csv\n",
      "/kaggle/input/lets-get-rid-of-the-patients-catboost/submission_432_4_4.csv\n",
      "/kaggle/input/lets-get-rid-of-the-patients-catboost/submission_32_3_0.csv\n",
      "/kaggle/input/lets-get-rid-of-the-patients-catboost/probs_73_3_4.csv\n",
      "/kaggle/input/lets-get-rid-of-the-patients-catboost/probs_432_0_3.csv\n",
      "/kaggle/input/lets-get-rid-of-the-patients-catboost/probs_432_0_1.csv\n",
      "/kaggle/input/lets-get-rid-of-the-patients-catboost/submission_432_0_2.csv\n",
      "/kaggle/input/lets-get-rid-of-the-patients-catboost/probs_432_2_0.csv\n",
      "/kaggle/input/lets-get-rid-of-the-patients-catboost/submission_73_1_0.csv\n",
      "/kaggle/input/lets-get-rid-of-the-patients-catboost/probs_432_1_1.csv\n",
      "/kaggle/input/lets-get-rid-of-the-patients-catboost/probs_432_1_2.csv\n",
      "/kaggle/input/lets-get-rid-of-the-patients-catboost/submission_32_4_1.csv\n",
      "/kaggle/input/lets-get-rid-of-the-patients-catboost/submission_73_2_0.csv\n",
      "/kaggle/input/lets-get-rid-of-the-patients-catboost/submission_73_2_1.csv\n",
      "/kaggle/input/lets-get-rid-of-the-patients-catboost/submission_73_0_0.csv\n",
      "/kaggle/input/lets-get-rid-of-the-patients-catboost/probs_32_4_3.csv\n",
      "/kaggle/input/lets-get-rid-of-the-patients-catboost/submission_432_1_2.csv\n",
      "/kaggle/input/lets-get-rid-of-the-patients-catboost/submission_73_0_3.csv\n",
      "/kaggle/input/lets-get-rid-of-the-patients-catboost/probs_73_3_3.csv\n",
      "/kaggle/input/lets-get-rid-of-the-patients-catboost/submission_73_3_4.csv\n",
      "/kaggle/input/lets-get-rid-of-the-patients-catboost/submission_32_4_3.csv\n",
      "/kaggle/input/lets-get-rid-of-the-patients-catboost/submission_32_1_3.csv\n",
      "/kaggle/input/lets-get-rid-of-the-patients-catboost/probs_73_0_3.csv\n",
      "/kaggle/input/lets-get-rid-of-the-patients-catboost/probs_73_4_1.csv\n",
      "/kaggle/input/lets-get-rid-of-the-patients-catboost/probs_32_1_1.csv\n",
      "/kaggle/input/lets-get-rid-of-the-patients-catboost/__notebook__.ipynb\n",
      "/kaggle/input/lets-get-rid-of-the-patients-catboost/submission_432_4_0.csv\n",
      "/kaggle/input/lets-get-rid-of-the-patients-catboost/probs_432_2_3.csv\n",
      "/kaggle/input/lets-get-rid-of-the-patients-catboost/submission_73_0_1.csv\n",
      "/kaggle/input/lets-get-rid-of-the-patients-catboost/submission_432_0_3.csv\n",
      "/kaggle/input/lets-get-rid-of-the-patients-catboost/submission_32_1_1.csv\n",
      "/kaggle/input/lets-get-rid-of-the-patients-catboost/probs_432_4_4.csv\n",
      "/kaggle/input/lets-get-rid-of-the-patients-catboost/probs_432_3_0.csv\n",
      "/kaggle/input/lets-get-rid-of-the-patients-catboost/submission_432_2_3.csv\n",
      "/kaggle/input/lets-get-rid-of-the-patients-catboost/__output__.json\n",
      "/kaggle/input/lets-get-rid-of-the-patients-catboost/probs_32_3_1.csv\n",
      "/kaggle/input/lets-get-rid-of-the-patients-catboost/probs_32_2_1.csv\n",
      "/kaggle/input/lets-get-rid-of-the-patients-catboost/submission_73_3_2.csv\n",
      "/kaggle/input/lets-get-rid-of-the-patients-catboost/submission_32_3_2.csv\n",
      "/kaggle/input/lets-get-rid-of-the-patients-catboost/submission_73_3_3.csv\n",
      "/kaggle/input/lets-get-rid-of-the-patients-catboost/submission_73_2_2.csv\n",
      "/kaggle/input/lets-get-rid-of-the-patients-catboost/probs_73_3_1.csv\n",
      "/kaggle/input/lets-get-rid-of-the-patients-catboost/probs_73_2_1.csv\n",
      "/kaggle/input/lets-get-rid-of-the-patients-catboost/probs_432_1_4.csv\n",
      "/kaggle/input/lets-get-rid-of-the-patients-catboost/submission_32_4_0.csv\n",
      "/kaggle/input/lets-get-rid-of-the-patients-catboost/submission_73_4_1.csv\n",
      "/kaggle/input/lets-get-rid-of-the-patients-catboost/submission_432_0_0.csv\n",
      "/kaggle/input/lets-get-rid-of-the-patients-catboost/probs_73_1_2.csv\n",
      "/kaggle/input/lets-get-rid-of-the-patients-catboost/catboost_info/catboost_training.json\n",
      "/kaggle/input/lets-get-rid-of-the-patients-catboost/catboost_info/test_error.tsv\n",
      "/kaggle/input/lets-get-rid-of-the-patients-catboost/catboost_info/time_left.tsv\n",
      "/kaggle/input/lets-get-rid-of-the-patients-catboost/catboost_info/learn_error.tsv\n",
      "/kaggle/input/lets-get-rid-of-the-patients-catboost/catboost_info/test/events.out.tfevents\n",
      "/kaggle/input/lets-get-rid-of-the-patients-catboost/catboost_info/learn/events.out.tfevents\n",
      "/kaggle/input/lets-get-rid-of-the-patients-catboost/__results___files/__results___22_1.png\n",
      "/kaggle/input/lets-get-rid-of-the-patients-catboost/__results___files/__results___7_0.png\n",
      "/kaggle/input/lets-get-rid-of-the-patients-catboost/__results___files/__results___6_1.png\n",
      "/kaggle/input/lets-get-rid-of-the-patients-catboost/__results___files/__results___8_0.png\n",
      "/kaggle/input/lets-get-rid-of-the-patients-catboost/__results___files/__results___9_0.png\n",
      "/kaggle/input/a-model-built-on-garbage-deeptables-pnn/probs_73_0_1.csv\n",
      "/kaggle/input/a-model-built-on-garbage-deeptables-pnn/submission_432_0_1.csv\n",
      "/kaggle/input/a-model-built-on-garbage-deeptables-pnn/probs_32_1_4.csv\n",
      "/kaggle/input/a-model-built-on-garbage-deeptables-pnn/probs.csv\n",
      "/kaggle/input/a-model-built-on-garbage-deeptables-pnn/submission_32_0_0.csv\n",
      "/kaggle/input/a-model-built-on-garbage-deeptables-pnn/submission_432_4_2.csv\n",
      "/kaggle/input/a-model-built-on-garbage-deeptables-pnn/probs_32_3_3.csv\n",
      "/kaggle/input/a-model-built-on-garbage-deeptables-pnn/probs_432_2_1.csv\n",
      "/kaggle/input/a-model-built-on-garbage-deeptables-pnn/probs_432_1_3.csv\n",
      "/kaggle/input/a-model-built-on-garbage-deeptables-pnn/probs_432_1_0.csv\n",
      "/kaggle/input/a-model-built-on-garbage-deeptables-pnn/submission_32_1_4.csv\n",
      "/kaggle/input/a-model-built-on-garbage-deeptables-pnn/probs_32_2_3.csv\n",
      "/kaggle/input/a-model-built-on-garbage-deeptables-pnn/probs_73_0_4.csv\n",
      "/kaggle/input/a-model-built-on-garbage-deeptables-pnn/probs_432_4_3.csv\n",
      "/kaggle/input/a-model-built-on-garbage-deeptables-pnn/probs_73_3_0.csv\n",
      "/kaggle/input/a-model-built-on-garbage-deeptables-pnn/probs_32_0_4.csv\n",
      "/kaggle/input/a-model-built-on-garbage-deeptables-pnn/submission_432_4_3.csv\n",
      "/kaggle/input/a-model-built-on-garbage-deeptables-pnn/probs_432_3_2.csv\n",
      "/kaggle/input/a-model-built-on-garbage-deeptables-pnn/__results__.html\n",
      "/kaggle/input/a-model-built-on-garbage-deeptables-pnn/submission_32_3_4.csv\n",
      "/kaggle/input/a-model-built-on-garbage-deeptables-pnn/probs_73_1_4.csv\n",
      "/kaggle/input/a-model-built-on-garbage-deeptables-pnn/probs_32_0_3.csv\n",
      "/kaggle/input/a-model-built-on-garbage-deeptables-pnn/probs_73_2_4.csv\n",
      "/kaggle/input/a-model-built-on-garbage-deeptables-pnn/probs_32_3_4.csv\n",
      "/kaggle/input/a-model-built-on-garbage-deeptables-pnn/submission_432_3_2.csv\n",
      "/kaggle/input/a-model-built-on-garbage-deeptables-pnn/submission_432_1_0.csv\n",
      "/kaggle/input/a-model-built-on-garbage-deeptables-pnn/probs_73_3_2.csv\n",
      "/kaggle/input/a-model-built-on-garbage-deeptables-pnn/submission_73_0_2.csv\n",
      "/kaggle/input/a-model-built-on-garbage-deeptables-pnn/probs_432_3_1.csv\n",
      "/kaggle/input/a-model-built-on-garbage-deeptables-pnn/submission_73_0_4.csv\n",
      "/kaggle/input/a-model-built-on-garbage-deeptables-pnn/submission_32_1_2.csv\n",
      "/kaggle/input/a-model-built-on-garbage-deeptables-pnn/probs_73_4_2.csv\n",
      "/kaggle/input/a-model-built-on-garbage-deeptables-pnn/submission_432_3_1.csv\n",
      "/kaggle/input/a-model-built-on-garbage-deeptables-pnn/submission_73_1_3.csv\n",
      "/kaggle/input/a-model-built-on-garbage-deeptables-pnn/probs_73_0_0.csv\n",
      "/kaggle/input/a-model-built-on-garbage-deeptables-pnn/probs_432_0_2.csv\n",
      "/kaggle/input/a-model-built-on-garbage-deeptables-pnn/submission_432_2_2.csv\n",
      "/kaggle/input/a-model-built-on-garbage-deeptables-pnn/submission_432_3_0.csv\n",
      "/kaggle/input/a-model-built-on-garbage-deeptables-pnn/probs_73_1_3.csv\n",
      "/kaggle/input/a-model-built-on-garbage-deeptables-pnn/submission_32_0_4.csv\n",
      "/kaggle/input/a-model-built-on-garbage-deeptables-pnn/probs_32_4_2.csv\n",
      "/kaggle/input/a-model-built-on-garbage-deeptables-pnn/probs_32_4_1.csv\n",
      "/kaggle/input/a-model-built-on-garbage-deeptables-pnn/probs_432_2_4.csv\n",
      "/kaggle/input/a-model-built-on-garbage-deeptables-pnn/submission_32_0_2.csv\n",
      "/kaggle/input/a-model-built-on-garbage-deeptables-pnn/submission.csv\n",
      "/kaggle/input/a-model-built-on-garbage-deeptables-pnn/probs_432_4_2.csv\n",
      "/kaggle/input/a-model-built-on-garbage-deeptables-pnn/submission_32_0_1.csv\n",
      "/kaggle/input/a-model-built-on-garbage-deeptables-pnn/submission_32_4_2.csv\n",
      "/kaggle/input/a-model-built-on-garbage-deeptables-pnn/probs_32_0_2.csv\n",
      "/kaggle/input/a-model-built-on-garbage-deeptables-pnn/submission_73_2_4.csv\n",
      "/kaggle/input/a-model-built-on-garbage-deeptables-pnn/submission_32_4_4.csv\n",
      "/kaggle/input/a-model-built-on-garbage-deeptables-pnn/probs_73_4_4.csv\n",
      "/kaggle/input/a-model-built-on-garbage-deeptables-pnn/probs_32_3_0.csv\n",
      "/kaggle/input/a-model-built-on-garbage-deeptables-pnn/submission_432_4_1.csv\n",
      "/kaggle/input/a-model-built-on-garbage-deeptables-pnn/submission_432_2_1.csv\n",
      "/kaggle/input/a-model-built-on-garbage-deeptables-pnn/probs_73_4_0.csv\n",
      "/kaggle/input/a-model-built-on-garbage-deeptables-pnn/probs_32_3_2.csv\n",
      "/kaggle/input/a-model-built-on-garbage-deeptables-pnn/probs_432_3_4.csv\n",
      "/kaggle/input/a-model-built-on-garbage-deeptables-pnn/submission_73_2_3.csv\n",
      "/kaggle/input/a-model-built-on-garbage-deeptables-pnn/submission_73_4_3.csv\n",
      "/kaggle/input/a-model-built-on-garbage-deeptables-pnn/submission_32_1_0.csv\n",
      "/kaggle/input/a-model-built-on-garbage-deeptables-pnn/probs_73_2_2.csv\n",
      "/kaggle/input/a-model-built-on-garbage-deeptables-pnn/probs_32_0_1.csv\n",
      "/kaggle/input/a-model-built-on-garbage-deeptables-pnn/submission_432_3_3.csv\n",
      "/kaggle/input/a-model-built-on-garbage-deeptables-pnn/submission_32_2_3.csv\n",
      "/kaggle/input/a-model-built-on-garbage-deeptables-pnn/submission_73_1_2.csv\n",
      "/kaggle/input/a-model-built-on-garbage-deeptables-pnn/probs_32_1_3.csv\n",
      "/kaggle/input/a-model-built-on-garbage-deeptables-pnn/probs_32_0_0.csv\n",
      "/kaggle/input/a-model-built-on-garbage-deeptables-pnn/submission_73_4_2.csv\n",
      "/kaggle/input/a-model-built-on-garbage-deeptables-pnn/submission_432_1_4.csv\n",
      "/kaggle/input/a-model-built-on-garbage-deeptables-pnn/probs_73_0_2.csv\n",
      "/kaggle/input/a-model-built-on-garbage-deeptables-pnn/submission_432_1_1.csv\n",
      "/kaggle/input/a-model-built-on-garbage-deeptables-pnn/submission_73_1_1.csv\n",
      "/kaggle/input/a-model-built-on-garbage-deeptables-pnn/probs_73_2_0.csv\n",
      "/kaggle/input/a-model-built-on-garbage-deeptables-pnn/submission_432_2_4.csv\n",
      "/kaggle/input/a-model-built-on-garbage-deeptables-pnn/probs_32_1_0.csv\n",
      "/kaggle/input/a-model-built-on-garbage-deeptables-pnn/probs_432_0_0.csv\n",
      "/kaggle/input/a-model-built-on-garbage-deeptables-pnn/probs_73_1_0.csv\n",
      "/kaggle/input/a-model-built-on-garbage-deeptables-pnn/submission_432_1_3.csv\n",
      "/kaggle/input/a-model-built-on-garbage-deeptables-pnn/probs_432_4_1.csv\n",
      "/kaggle/input/a-model-built-on-garbage-deeptables-pnn/submission_32_2_0.csv\n",
      "/kaggle/input/a-model-built-on-garbage-deeptables-pnn/submission_73_4_0.csv\n",
      "/kaggle/input/a-model-built-on-garbage-deeptables-pnn/model.png\n",
      "/kaggle/input/a-model-built-on-garbage-deeptables-pnn/submission_32_2_1.csv\n",
      "/kaggle/input/a-model-built-on-garbage-deeptables-pnn/submission_432_2_0.csv\n",
      "/kaggle/input/a-model-built-on-garbage-deeptables-pnn/submission_73_3_0.csv\n",
      "/kaggle/input/a-model-built-on-garbage-deeptables-pnn/probs_73_1_1.csv\n",
      "/kaggle/input/a-model-built-on-garbage-deeptables-pnn/probs_32_2_0.csv\n",
      "/kaggle/input/a-model-built-on-garbage-deeptables-pnn/probs_32_4_0.csv\n",
      "/kaggle/input/a-model-built-on-garbage-deeptables-pnn/custom.css\n",
      "/kaggle/input/a-model-built-on-garbage-deeptables-pnn/submission_73_4_4.csv\n",
      "/kaggle/input/a-model-built-on-garbage-deeptables-pnn/submission_32_2_2.csv\n",
      "/kaggle/input/a-model-built-on-garbage-deeptables-pnn/probs_32_2_4.csv\n",
      "/kaggle/input/a-model-built-on-garbage-deeptables-pnn/submission_73_3_1.csv\n",
      "/kaggle/input/a-model-built-on-garbage-deeptables-pnn/probs_73_2_3.csv\n",
      "/kaggle/input/a-model-built-on-garbage-deeptables-pnn/submission_432_0_4.csv\n",
      "/kaggle/input/a-model-built-on-garbage-deeptables-pnn/model_stats.csv\n",
      "/kaggle/input/a-model-built-on-garbage-deeptables-pnn/submission_32_0_3.csv\n",
      "/kaggle/input/a-model-built-on-garbage-deeptables-pnn/probs_32_1_2.csv\n",
      "/kaggle/input/a-model-built-on-garbage-deeptables-pnn/probs_32_2_2.csv\n",
      "/kaggle/input/a-model-built-on-garbage-deeptables-pnn/submission_73_1_4.csv\n",
      "/kaggle/input/a-model-built-on-garbage-deeptables-pnn/probs_432_3_3.csv\n",
      "/kaggle/input/a-model-built-on-garbage-deeptables-pnn/probs_432_0_4.csv\n",
      "/kaggle/input/a-model-built-on-garbage-deeptables-pnn/submission_432_3_4.csv\n",
      "/kaggle/input/a-model-built-on-garbage-deeptables-pnn/probs_73_4_3.csv\n",
      "/kaggle/input/a-model-built-on-garbage-deeptables-pnn/submission_32_2_4.csv\n",
      "/kaggle/input/a-model-built-on-garbage-deeptables-pnn/probs_32_4_4.csv\n",
      "/kaggle/input/a-model-built-on-garbage-deeptables-pnn/probs_432_4_0.csv\n",
      "/kaggle/input/a-model-built-on-garbage-deeptables-pnn/probs_432_2_2.csv\n",
      "/kaggle/input/a-model-built-on-garbage-deeptables-pnn/submission_32_3_3.csv\n",
      "/kaggle/input/a-model-built-on-garbage-deeptables-pnn/submission_32_3_1.csv\n",
      "/kaggle/input/a-model-built-on-garbage-deeptables-pnn/submission_432_4_4.csv\n",
      "/kaggle/input/a-model-built-on-garbage-deeptables-pnn/submission_32_3_0.csv\n",
      "/kaggle/input/a-model-built-on-garbage-deeptables-pnn/probs_73_3_4.csv\n",
      "/kaggle/input/a-model-built-on-garbage-deeptables-pnn/probs_432_0_3.csv\n",
      "/kaggle/input/a-model-built-on-garbage-deeptables-pnn/probs_432_0_1.csv\n",
      "/kaggle/input/a-model-built-on-garbage-deeptables-pnn/submission_432_0_2.csv\n",
      "/kaggle/input/a-model-built-on-garbage-deeptables-pnn/probs_432_2_0.csv\n",
      "/kaggle/input/a-model-built-on-garbage-deeptables-pnn/submission_73_1_0.csv\n",
      "/kaggle/input/a-model-built-on-garbage-deeptables-pnn/probs_432_1_1.csv\n",
      "/kaggle/input/a-model-built-on-garbage-deeptables-pnn/probs_432_1_2.csv\n",
      "/kaggle/input/a-model-built-on-garbage-deeptables-pnn/submission_32_4_1.csv\n",
      "/kaggle/input/a-model-built-on-garbage-deeptables-pnn/submission_73_2_0.csv\n",
      "/kaggle/input/a-model-built-on-garbage-deeptables-pnn/submission_73_2_1.csv\n",
      "/kaggle/input/a-model-built-on-garbage-deeptables-pnn/submission_73_0_0.csv\n",
      "/kaggle/input/a-model-built-on-garbage-deeptables-pnn/probs_32_4_3.csv\n",
      "/kaggle/input/a-model-built-on-garbage-deeptables-pnn/submission_432_1_2.csv\n",
      "/kaggle/input/a-model-built-on-garbage-deeptables-pnn/submission_73_0_3.csv\n",
      "/kaggle/input/a-model-built-on-garbage-deeptables-pnn/probs_73_3_3.csv\n",
      "/kaggle/input/a-model-built-on-garbage-deeptables-pnn/submission_73_3_4.csv\n",
      "/kaggle/input/a-model-built-on-garbage-deeptables-pnn/submission_32_4_3.csv\n",
      "/kaggle/input/a-model-built-on-garbage-deeptables-pnn/submission_32_1_3.csv\n",
      "/kaggle/input/a-model-built-on-garbage-deeptables-pnn/probs_73_0_3.csv\n",
      "/kaggle/input/a-model-built-on-garbage-deeptables-pnn/probs_73_4_1.csv\n",
      "/kaggle/input/a-model-built-on-garbage-deeptables-pnn/probs_32_1_1.csv\n",
      "/kaggle/input/a-model-built-on-garbage-deeptables-pnn/__notebook__.ipynb\n",
      "/kaggle/input/a-model-built-on-garbage-deeptables-pnn/submission_432_4_0.csv\n",
      "/kaggle/input/a-model-built-on-garbage-deeptables-pnn/probs_432_2_3.csv\n",
      "/kaggle/input/a-model-built-on-garbage-deeptables-pnn/submission_73_0_1.csv\n",
      "/kaggle/input/a-model-built-on-garbage-deeptables-pnn/submission_432_0_3.csv\n",
      "/kaggle/input/a-model-built-on-garbage-deeptables-pnn/submission_32_1_1.csv\n",
      "/kaggle/input/a-model-built-on-garbage-deeptables-pnn/probs_432_4_4.csv\n",
      "/kaggle/input/a-model-built-on-garbage-deeptables-pnn/probs_432_3_0.csv\n",
      "/kaggle/input/a-model-built-on-garbage-deeptables-pnn/submission_432_2_3.csv\n",
      "/kaggle/input/a-model-built-on-garbage-deeptables-pnn/__output__.json\n",
      "/kaggle/input/a-model-built-on-garbage-deeptables-pnn/probs_32_3_1.csv\n",
      "/kaggle/input/a-model-built-on-garbage-deeptables-pnn/probs_32_2_1.csv\n",
      "/kaggle/input/a-model-built-on-garbage-deeptables-pnn/submission_73_3_2.csv\n",
      "/kaggle/input/a-model-built-on-garbage-deeptables-pnn/submission_32_3_2.csv\n",
      "/kaggle/input/a-model-built-on-garbage-deeptables-pnn/submission_73_3_3.csv\n",
      "/kaggle/input/a-model-built-on-garbage-deeptables-pnn/submission_73_2_2.csv\n",
      "/kaggle/input/a-model-built-on-garbage-deeptables-pnn/probs_73_3_1.csv\n",
      "/kaggle/input/a-model-built-on-garbage-deeptables-pnn/probs_73_2_1.csv\n",
      "/kaggle/input/a-model-built-on-garbage-deeptables-pnn/probs_432_1_4.csv\n",
      "/kaggle/input/a-model-built-on-garbage-deeptables-pnn/submission_32_4_0.csv\n",
      "/kaggle/input/a-model-built-on-garbage-deeptables-pnn/submission_73_4_1.csv\n",
      "/kaggle/input/a-model-built-on-garbage-deeptables-pnn/submission_432_0_0.csv\n",
      "/kaggle/input/a-model-built-on-garbage-deeptables-pnn/probs_73_1_2.csv\n",
      "/kaggle/input/a-model-built-on-garbage-deeptables-pnn/__results___files/__results___22_1.png\n",
      "/kaggle/input/a-model-built-on-garbage-deeptables-pnn/__results___files/__results___7_1.png\n",
      "/kaggle/input/a-model-built-on-garbage-deeptables-pnn/__results___files/__results___10_0.png\n",
      "/kaggle/input/a-model-built-on-garbage-deeptables-pnn/__results___files/__results___32_0.png\n",
      "/kaggle/input/a-model-built-on-garbage-deeptables-pnn/__results___files/__results___8_0.png\n",
      "/kaggle/input/a-model-built-on-garbage-deeptables-pnn/__results___files/__results___9_0.png\n",
      "/kaggle/input/a-model-built-on-garbage-deeptables/probs_73_0_1.csv\n",
      "/kaggle/input/a-model-built-on-garbage-deeptables/submission_432_0_1.csv\n",
      "/kaggle/input/a-model-built-on-garbage-deeptables/probs_32_1_4.csv\n",
      "/kaggle/input/a-model-built-on-garbage-deeptables/probs.csv\n",
      "/kaggle/input/a-model-built-on-garbage-deeptables/submission_32_0_0.csv\n",
      "/kaggle/input/a-model-built-on-garbage-deeptables/submission_432_4_2.csv\n",
      "/kaggle/input/a-model-built-on-garbage-deeptables/probs_32_3_3.csv\n",
      "/kaggle/input/a-model-built-on-garbage-deeptables/probs_432_2_1.csv\n",
      "/kaggle/input/a-model-built-on-garbage-deeptables/probs_432_1_3.csv\n",
      "/kaggle/input/a-model-built-on-garbage-deeptables/probs_432_1_0.csv\n",
      "/kaggle/input/a-model-built-on-garbage-deeptables/submission_32_1_4.csv\n",
      "/kaggle/input/a-model-built-on-garbage-deeptables/probs_32_2_3.csv\n",
      "/kaggle/input/a-model-built-on-garbage-deeptables/probs_73_0_4.csv\n",
      "/kaggle/input/a-model-built-on-garbage-deeptables/probs_432_4_3.csv\n",
      "/kaggle/input/a-model-built-on-garbage-deeptables/probs_73_3_0.csv\n",
      "/kaggle/input/a-model-built-on-garbage-deeptables/probs_32_0_4.csv\n",
      "/kaggle/input/a-model-built-on-garbage-deeptables/submission_432_4_3.csv\n",
      "/kaggle/input/a-model-built-on-garbage-deeptables/probs_432_3_2.csv\n",
      "/kaggle/input/a-model-built-on-garbage-deeptables/__results__.html\n",
      "/kaggle/input/a-model-built-on-garbage-deeptables/submission_32_3_4.csv\n",
      "/kaggle/input/a-model-built-on-garbage-deeptables/probs_73_1_4.csv\n",
      "/kaggle/input/a-model-built-on-garbage-deeptables/probs_32_0_3.csv\n",
      "/kaggle/input/a-model-built-on-garbage-deeptables/probs_73_2_4.csv\n",
      "/kaggle/input/a-model-built-on-garbage-deeptables/probs_32_3_4.csv\n",
      "/kaggle/input/a-model-built-on-garbage-deeptables/submission_432_3_2.csv\n",
      "/kaggle/input/a-model-built-on-garbage-deeptables/submission_432_1_0.csv\n",
      "/kaggle/input/a-model-built-on-garbage-deeptables/probs_73_3_2.csv\n",
      "/kaggle/input/a-model-built-on-garbage-deeptables/submission_73_0_2.csv\n",
      "/kaggle/input/a-model-built-on-garbage-deeptables/probs_432_3_1.csv\n",
      "/kaggle/input/a-model-built-on-garbage-deeptables/submission_73_0_4.csv\n",
      "/kaggle/input/a-model-built-on-garbage-deeptables/submission_32_1_2.csv\n",
      "/kaggle/input/a-model-built-on-garbage-deeptables/probs_73_4_2.csv\n",
      "/kaggle/input/a-model-built-on-garbage-deeptables/submission_432_3_1.csv\n",
      "/kaggle/input/a-model-built-on-garbage-deeptables/submission_73_1_3.csv\n",
      "/kaggle/input/a-model-built-on-garbage-deeptables/probs_73_0_0.csv\n",
      "/kaggle/input/a-model-built-on-garbage-deeptables/probs_432_0_2.csv\n",
      "/kaggle/input/a-model-built-on-garbage-deeptables/submission_432_2_2.csv\n",
      "/kaggle/input/a-model-built-on-garbage-deeptables/submission_432_3_0.csv\n",
      "/kaggle/input/a-model-built-on-garbage-deeptables/probs_73_1_3.csv\n",
      "/kaggle/input/a-model-built-on-garbage-deeptables/submission_32_0_4.csv\n",
      "/kaggle/input/a-model-built-on-garbage-deeptables/probs_32_4_2.csv\n",
      "/kaggle/input/a-model-built-on-garbage-deeptables/probs_32_4_1.csv\n",
      "/kaggle/input/a-model-built-on-garbage-deeptables/probs_432_2_4.csv\n",
      "/kaggle/input/a-model-built-on-garbage-deeptables/submission_32_0_2.csv\n",
      "/kaggle/input/a-model-built-on-garbage-deeptables/submission.csv\n",
      "/kaggle/input/a-model-built-on-garbage-deeptables/probs_432_4_2.csv\n",
      "/kaggle/input/a-model-built-on-garbage-deeptables/submission_32_0_1.csv\n",
      "/kaggle/input/a-model-built-on-garbage-deeptables/submission_32_4_2.csv\n",
      "/kaggle/input/a-model-built-on-garbage-deeptables/probs_32_0_2.csv\n",
      "/kaggle/input/a-model-built-on-garbage-deeptables/submission_73_2_4.csv\n",
      "/kaggle/input/a-model-built-on-garbage-deeptables/submission_32_4_4.csv\n",
      "/kaggle/input/a-model-built-on-garbage-deeptables/probs_73_4_4.csv\n",
      "/kaggle/input/a-model-built-on-garbage-deeptables/probs_32_3_0.csv\n",
      "/kaggle/input/a-model-built-on-garbage-deeptables/submission_432_4_1.csv\n",
      "/kaggle/input/a-model-built-on-garbage-deeptables/submission_432_2_1.csv\n",
      "/kaggle/input/a-model-built-on-garbage-deeptables/probs_73_4_0.csv\n",
      "/kaggle/input/a-model-built-on-garbage-deeptables/probs_32_3_2.csv\n",
      "/kaggle/input/a-model-built-on-garbage-deeptables/probs_432_3_4.csv\n",
      "/kaggle/input/a-model-built-on-garbage-deeptables/submission_73_2_3.csv\n",
      "/kaggle/input/a-model-built-on-garbage-deeptables/submission_73_4_3.csv\n",
      "/kaggle/input/a-model-built-on-garbage-deeptables/submission_32_1_0.csv\n",
      "/kaggle/input/a-model-built-on-garbage-deeptables/probs_73_2_2.csv\n",
      "/kaggle/input/a-model-built-on-garbage-deeptables/probs_32_0_1.csv\n",
      "/kaggle/input/a-model-built-on-garbage-deeptables/submission_432_3_3.csv\n",
      "/kaggle/input/a-model-built-on-garbage-deeptables/submission_32_2_3.csv\n",
      "/kaggle/input/a-model-built-on-garbage-deeptables/submission_73_1_2.csv\n",
      "/kaggle/input/a-model-built-on-garbage-deeptables/probs_32_1_3.csv\n",
      "/kaggle/input/a-model-built-on-garbage-deeptables/probs_32_0_0.csv\n",
      "/kaggle/input/a-model-built-on-garbage-deeptables/submission_73_4_2.csv\n",
      "/kaggle/input/a-model-built-on-garbage-deeptables/submission_432_1_4.csv\n",
      "/kaggle/input/a-model-built-on-garbage-deeptables/probs_73_0_2.csv\n",
      "/kaggle/input/a-model-built-on-garbage-deeptables/submission_432_1_1.csv\n",
      "/kaggle/input/a-model-built-on-garbage-deeptables/submission_73_1_1.csv\n",
      "/kaggle/input/a-model-built-on-garbage-deeptables/probs_73_2_0.csv\n",
      "/kaggle/input/a-model-built-on-garbage-deeptables/submission_432_2_4.csv\n",
      "/kaggle/input/a-model-built-on-garbage-deeptables/probs_32_1_0.csv\n",
      "/kaggle/input/a-model-built-on-garbage-deeptables/probs_432_0_0.csv\n",
      "/kaggle/input/a-model-built-on-garbage-deeptables/probs_73_1_0.csv\n",
      "/kaggle/input/a-model-built-on-garbage-deeptables/submission_432_1_3.csv\n",
      "/kaggle/input/a-model-built-on-garbage-deeptables/probs_432_4_1.csv\n",
      "/kaggle/input/a-model-built-on-garbage-deeptables/submission_32_2_0.csv\n",
      "/kaggle/input/a-model-built-on-garbage-deeptables/submission_73_4_0.csv\n",
      "/kaggle/input/a-model-built-on-garbage-deeptables/model.png\n",
      "/kaggle/input/a-model-built-on-garbage-deeptables/submission_32_2_1.csv\n",
      "/kaggle/input/a-model-built-on-garbage-deeptables/submission_432_2_0.csv\n",
      "/kaggle/input/a-model-built-on-garbage-deeptables/submission_73_3_0.csv\n",
      "/kaggle/input/a-model-built-on-garbage-deeptables/probs_73_1_1.csv\n",
      "/kaggle/input/a-model-built-on-garbage-deeptables/probs_32_2_0.csv\n",
      "/kaggle/input/a-model-built-on-garbage-deeptables/probs_32_4_0.csv\n",
      "/kaggle/input/a-model-built-on-garbage-deeptables/custom.css\n",
      "/kaggle/input/a-model-built-on-garbage-deeptables/submission_73_4_4.csv\n",
      "/kaggle/input/a-model-built-on-garbage-deeptables/submission_32_2_2.csv\n",
      "/kaggle/input/a-model-built-on-garbage-deeptables/probs_32_2_4.csv\n",
      "/kaggle/input/a-model-built-on-garbage-deeptables/submission_73_3_1.csv\n",
      "/kaggle/input/a-model-built-on-garbage-deeptables/probs_73_2_3.csv\n",
      "/kaggle/input/a-model-built-on-garbage-deeptables/submission_432_0_4.csv\n",
      "/kaggle/input/a-model-built-on-garbage-deeptables/model_stats.csv\n",
      "/kaggle/input/a-model-built-on-garbage-deeptables/submission_32_0_3.csv\n",
      "/kaggle/input/a-model-built-on-garbage-deeptables/probs_32_1_2.csv\n",
      "/kaggle/input/a-model-built-on-garbage-deeptables/probs_32_2_2.csv\n",
      "/kaggle/input/a-model-built-on-garbage-deeptables/submission_73_1_4.csv\n",
      "/kaggle/input/a-model-built-on-garbage-deeptables/probs_432_3_3.csv\n",
      "/kaggle/input/a-model-built-on-garbage-deeptables/probs_432_0_4.csv\n",
      "/kaggle/input/a-model-built-on-garbage-deeptables/submission_432_3_4.csv\n",
      "/kaggle/input/a-model-built-on-garbage-deeptables/probs_73_4_3.csv\n",
      "/kaggle/input/a-model-built-on-garbage-deeptables/submission_32_2_4.csv\n",
      "/kaggle/input/a-model-built-on-garbage-deeptables/probs_32_4_4.csv\n",
      "/kaggle/input/a-model-built-on-garbage-deeptables/probs_432_4_0.csv\n",
      "/kaggle/input/a-model-built-on-garbage-deeptables/probs_432_2_2.csv\n",
      "/kaggle/input/a-model-built-on-garbage-deeptables/submission_32_3_3.csv\n",
      "/kaggle/input/a-model-built-on-garbage-deeptables/submission_32_3_1.csv\n",
      "/kaggle/input/a-model-built-on-garbage-deeptables/submission_432_4_4.csv\n",
      "/kaggle/input/a-model-built-on-garbage-deeptables/submission_32_3_0.csv\n",
      "/kaggle/input/a-model-built-on-garbage-deeptables/probs_73_3_4.csv\n",
      "/kaggle/input/a-model-built-on-garbage-deeptables/probs_432_0_3.csv\n",
      "/kaggle/input/a-model-built-on-garbage-deeptables/probs_432_0_1.csv\n",
      "/kaggle/input/a-model-built-on-garbage-deeptables/submission_432_0_2.csv\n",
      "/kaggle/input/a-model-built-on-garbage-deeptables/probs_432_2_0.csv\n",
      "/kaggle/input/a-model-built-on-garbage-deeptables/submission_73_1_0.csv\n",
      "/kaggle/input/a-model-built-on-garbage-deeptables/probs_432_1_1.csv\n",
      "/kaggle/input/a-model-built-on-garbage-deeptables/probs_432_1_2.csv\n",
      "/kaggle/input/a-model-built-on-garbage-deeptables/submission_32_4_1.csv\n",
      "/kaggle/input/a-model-built-on-garbage-deeptables/submission_73_2_0.csv\n",
      "/kaggle/input/a-model-built-on-garbage-deeptables/submission_73_2_1.csv\n",
      "/kaggle/input/a-model-built-on-garbage-deeptables/submission_73_0_0.csv\n",
      "/kaggle/input/a-model-built-on-garbage-deeptables/probs_32_4_3.csv\n",
      "/kaggle/input/a-model-built-on-garbage-deeptables/submission_432_1_2.csv\n",
      "/kaggle/input/a-model-built-on-garbage-deeptables/submission_73_0_3.csv\n",
      "/kaggle/input/a-model-built-on-garbage-deeptables/probs_73_3_3.csv\n",
      "/kaggle/input/a-model-built-on-garbage-deeptables/submission_73_3_4.csv\n",
      "/kaggle/input/a-model-built-on-garbage-deeptables/submission_32_4_3.csv\n",
      "/kaggle/input/a-model-built-on-garbage-deeptables/submission_32_1_3.csv\n",
      "/kaggle/input/a-model-built-on-garbage-deeptables/probs_73_0_3.csv\n",
      "/kaggle/input/a-model-built-on-garbage-deeptables/probs_73_4_1.csv\n",
      "/kaggle/input/a-model-built-on-garbage-deeptables/probs_32_1_1.csv\n",
      "/kaggle/input/a-model-built-on-garbage-deeptables/__notebook__.ipynb\n",
      "/kaggle/input/a-model-built-on-garbage-deeptables/submission_432_4_0.csv\n",
      "/kaggle/input/a-model-built-on-garbage-deeptables/probs_432_2_3.csv\n",
      "/kaggle/input/a-model-built-on-garbage-deeptables/submission_73_0_1.csv\n",
      "/kaggle/input/a-model-built-on-garbage-deeptables/submission_432_0_3.csv\n",
      "/kaggle/input/a-model-built-on-garbage-deeptables/submission_32_1_1.csv\n",
      "/kaggle/input/a-model-built-on-garbage-deeptables/probs_432_4_4.csv\n",
      "/kaggle/input/a-model-built-on-garbage-deeptables/probs_432_3_0.csv\n",
      "/kaggle/input/a-model-built-on-garbage-deeptables/submission_432_2_3.csv\n",
      "/kaggle/input/a-model-built-on-garbage-deeptables/__output__.json\n",
      "/kaggle/input/a-model-built-on-garbage-deeptables/probs_32_3_1.csv\n",
      "/kaggle/input/a-model-built-on-garbage-deeptables/probs_32_2_1.csv\n",
      "/kaggle/input/a-model-built-on-garbage-deeptables/submission_73_3_2.csv\n",
      "/kaggle/input/a-model-built-on-garbage-deeptables/submission_32_3_2.csv\n",
      "/kaggle/input/a-model-built-on-garbage-deeptables/submission_73_3_3.csv\n",
      "/kaggle/input/a-model-built-on-garbage-deeptables/submission_73_2_2.csv\n",
      "/kaggle/input/a-model-built-on-garbage-deeptables/probs_73_3_1.csv\n",
      "/kaggle/input/a-model-built-on-garbage-deeptables/probs_73_2_1.csv\n",
      "/kaggle/input/a-model-built-on-garbage-deeptables/probs_432_1_4.csv\n",
      "/kaggle/input/a-model-built-on-garbage-deeptables/submission_32_4_0.csv\n",
      "/kaggle/input/a-model-built-on-garbage-deeptables/submission_73_4_1.csv\n",
      "/kaggle/input/a-model-built-on-garbage-deeptables/submission_432_0_0.csv\n",
      "/kaggle/input/a-model-built-on-garbage-deeptables/probs_73_1_2.csv\n",
      "/kaggle/input/a-model-built-on-garbage-deeptables/__results___files/__results___22_1.png\n",
      "/kaggle/input/a-model-built-on-garbage-deeptables/__results___files/__results___7_1.png\n",
      "/kaggle/input/a-model-built-on-garbage-deeptables/__results___files/__results___10_0.png\n",
      "/kaggle/input/a-model-built-on-garbage-deeptables/__results___files/__results___8_0.png\n",
      "/kaggle/input/a-model-built-on-garbage-deeptables/__results___files/__results___30_0.png\n",
      "/kaggle/input/a-model-built-on-garbage-deeptables/__results___files/__results___9_0.png\n",
      "/kaggle/input/lets-get-rid-of-the-patients-xgboost/probs_73_0_1.csv\n",
      "/kaggle/input/lets-get-rid-of-the-patients-xgboost/submission_432_0_1.csv\n",
      "/kaggle/input/lets-get-rid-of-the-patients-xgboost/probs_32_1_4.csv\n",
      "/kaggle/input/lets-get-rid-of-the-patients-xgboost/probs.csv\n",
      "/kaggle/input/lets-get-rid-of-the-patients-xgboost/submission_32_0_0.csv\n",
      "/kaggle/input/lets-get-rid-of-the-patients-xgboost/submission_432_4_2.csv\n",
      "/kaggle/input/lets-get-rid-of-the-patients-xgboost/probs_32_3_3.csv\n",
      "/kaggle/input/lets-get-rid-of-the-patients-xgboost/probs_432_2_1.csv\n",
      "/kaggle/input/lets-get-rid-of-the-patients-xgboost/probs_432_1_3.csv\n",
      "/kaggle/input/lets-get-rid-of-the-patients-xgboost/probs_432_1_0.csv\n",
      "/kaggle/input/lets-get-rid-of-the-patients-xgboost/submission_32_1_4.csv\n",
      "/kaggle/input/lets-get-rid-of-the-patients-xgboost/probs_32_2_3.csv\n",
      "/kaggle/input/lets-get-rid-of-the-patients-xgboost/probs_73_0_4.csv\n",
      "/kaggle/input/lets-get-rid-of-the-patients-xgboost/probs_432_4_3.csv\n",
      "/kaggle/input/lets-get-rid-of-the-patients-xgboost/probs_73_3_0.csv\n",
      "/kaggle/input/lets-get-rid-of-the-patients-xgboost/probs_32_0_4.csv\n",
      "/kaggle/input/lets-get-rid-of-the-patients-xgboost/submission_432_4_3.csv\n",
      "/kaggle/input/lets-get-rid-of-the-patients-xgboost/probs_432_3_2.csv\n",
      "/kaggle/input/lets-get-rid-of-the-patients-xgboost/__results__.html\n",
      "/kaggle/input/lets-get-rid-of-the-patients-xgboost/submission_32_3_4.csv\n",
      "/kaggle/input/lets-get-rid-of-the-patients-xgboost/probs_73_1_4.csv\n",
      "/kaggle/input/lets-get-rid-of-the-patients-xgboost/probs_32_0_3.csv\n",
      "/kaggle/input/lets-get-rid-of-the-patients-xgboost/probs_73_2_4.csv\n",
      "/kaggle/input/lets-get-rid-of-the-patients-xgboost/probs_32_3_4.csv\n",
      "/kaggle/input/lets-get-rid-of-the-patients-xgboost/submission_432_3_2.csv\n",
      "/kaggle/input/lets-get-rid-of-the-patients-xgboost/submission_432_1_0.csv\n",
      "/kaggle/input/lets-get-rid-of-the-patients-xgboost/probs_73_3_2.csv\n",
      "/kaggle/input/lets-get-rid-of-the-patients-xgboost/submission_73_0_2.csv\n",
      "/kaggle/input/lets-get-rid-of-the-patients-xgboost/probs_432_3_1.csv\n",
      "/kaggle/input/lets-get-rid-of-the-patients-xgboost/submission_73_0_4.csv\n",
      "/kaggle/input/lets-get-rid-of-the-patients-xgboost/submission_32_1_2.csv\n",
      "/kaggle/input/lets-get-rid-of-the-patients-xgboost/probs_73_4_2.csv\n",
      "/kaggle/input/lets-get-rid-of-the-patients-xgboost/submission_432_3_1.csv\n",
      "/kaggle/input/lets-get-rid-of-the-patients-xgboost/submission_73_1_3.csv\n",
      "/kaggle/input/lets-get-rid-of-the-patients-xgboost/probs_73_0_0.csv\n",
      "/kaggle/input/lets-get-rid-of-the-patients-xgboost/probs_432_0_2.csv\n",
      "/kaggle/input/lets-get-rid-of-the-patients-xgboost/submission_432_2_2.csv\n",
      "/kaggle/input/lets-get-rid-of-the-patients-xgboost/submission_432_3_0.csv\n",
      "/kaggle/input/lets-get-rid-of-the-patients-xgboost/probs_73_1_3.csv\n",
      "/kaggle/input/lets-get-rid-of-the-patients-xgboost/submission_32_0_4.csv\n",
      "/kaggle/input/lets-get-rid-of-the-patients-xgboost/probs_32_4_2.csv\n",
      "/kaggle/input/lets-get-rid-of-the-patients-xgboost/probs_32_4_1.csv\n",
      "/kaggle/input/lets-get-rid-of-the-patients-xgboost/probs_432_2_4.csv\n",
      "/kaggle/input/lets-get-rid-of-the-patients-xgboost/submission_32_0_2.csv\n",
      "/kaggle/input/lets-get-rid-of-the-patients-xgboost/submission.csv\n",
      "/kaggle/input/lets-get-rid-of-the-patients-xgboost/probs_432_4_2.csv\n",
      "/kaggle/input/lets-get-rid-of-the-patients-xgboost/submission_32_0_1.csv\n",
      "/kaggle/input/lets-get-rid-of-the-patients-xgboost/submission_32_4_2.csv\n",
      "/kaggle/input/lets-get-rid-of-the-patients-xgboost/probs_32_0_2.csv\n",
      "/kaggle/input/lets-get-rid-of-the-patients-xgboost/submission_73_2_4.csv\n",
      "/kaggle/input/lets-get-rid-of-the-patients-xgboost/submission_32_4_4.csv\n",
      "/kaggle/input/lets-get-rid-of-the-patients-xgboost/probs_73_4_4.csv\n",
      "/kaggle/input/lets-get-rid-of-the-patients-xgboost/probs_32_3_0.csv\n",
      "/kaggle/input/lets-get-rid-of-the-patients-xgboost/submission_432_4_1.csv\n",
      "/kaggle/input/lets-get-rid-of-the-patients-xgboost/submission_432_2_1.csv\n",
      "/kaggle/input/lets-get-rid-of-the-patients-xgboost/probs_73_4_0.csv\n",
      "/kaggle/input/lets-get-rid-of-the-patients-xgboost/probs_32_3_2.csv\n",
      "/kaggle/input/lets-get-rid-of-the-patients-xgboost/probs_432_3_4.csv\n",
      "/kaggle/input/lets-get-rid-of-the-patients-xgboost/submission_73_2_3.csv\n",
      "/kaggle/input/lets-get-rid-of-the-patients-xgboost/submission_73_4_3.csv\n",
      "/kaggle/input/lets-get-rid-of-the-patients-xgboost/submission_32_1_0.csv\n",
      "/kaggle/input/lets-get-rid-of-the-patients-xgboost/probs_73_2_2.csv\n",
      "/kaggle/input/lets-get-rid-of-the-patients-xgboost/probs_32_0_1.csv\n",
      "/kaggle/input/lets-get-rid-of-the-patients-xgboost/submission_432_3_3.csv\n",
      "/kaggle/input/lets-get-rid-of-the-patients-xgboost/submission_32_2_3.csv\n",
      "/kaggle/input/lets-get-rid-of-the-patients-xgboost/submission_73_1_2.csv\n",
      "/kaggle/input/lets-get-rid-of-the-patients-xgboost/probs_32_1_3.csv\n",
      "/kaggle/input/lets-get-rid-of-the-patients-xgboost/probs_32_0_0.csv\n",
      "/kaggle/input/lets-get-rid-of-the-patients-xgboost/submission_73_4_2.csv\n",
      "/kaggle/input/lets-get-rid-of-the-patients-xgboost/submission_432_1_4.csv\n",
      "/kaggle/input/lets-get-rid-of-the-patients-xgboost/probs_73_0_2.csv\n",
      "/kaggle/input/lets-get-rid-of-the-patients-xgboost/submission_432_1_1.csv\n",
      "/kaggle/input/lets-get-rid-of-the-patients-xgboost/submission_73_1_1.csv\n",
      "/kaggle/input/lets-get-rid-of-the-patients-xgboost/probs_73_2_0.csv\n",
      "/kaggle/input/lets-get-rid-of-the-patients-xgboost/submission_432_2_4.csv\n",
      "/kaggle/input/lets-get-rid-of-the-patients-xgboost/probs_32_1_0.csv\n",
      "/kaggle/input/lets-get-rid-of-the-patients-xgboost/probs_432_0_0.csv\n",
      "/kaggle/input/lets-get-rid-of-the-patients-xgboost/probs_73_1_0.csv\n",
      "/kaggle/input/lets-get-rid-of-the-patients-xgboost/submission_432_1_3.csv\n",
      "/kaggle/input/lets-get-rid-of-the-patients-xgboost/probs_432_4_1.csv\n",
      "/kaggle/input/lets-get-rid-of-the-patients-xgboost/submission_32_2_0.csv\n",
      "/kaggle/input/lets-get-rid-of-the-patients-xgboost/submission_73_4_0.csv\n",
      "/kaggle/input/lets-get-rid-of-the-patients-xgboost/submission_32_2_1.csv\n",
      "/kaggle/input/lets-get-rid-of-the-patients-xgboost/submission_432_2_0.csv\n",
      "/kaggle/input/lets-get-rid-of-the-patients-xgboost/submission_73_3_0.csv\n",
      "/kaggle/input/lets-get-rid-of-the-patients-xgboost/probs_73_1_1.csv\n",
      "/kaggle/input/lets-get-rid-of-the-patients-xgboost/probs_32_2_0.csv\n",
      "/kaggle/input/lets-get-rid-of-the-patients-xgboost/probs_32_4_0.csv\n",
      "/kaggle/input/lets-get-rid-of-the-patients-xgboost/custom.css\n",
      "/kaggle/input/lets-get-rid-of-the-patients-xgboost/submission_73_4_4.csv\n",
      "/kaggle/input/lets-get-rid-of-the-patients-xgboost/submission_32_2_2.csv\n",
      "/kaggle/input/lets-get-rid-of-the-patients-xgboost/probs_32_2_4.csv\n",
      "/kaggle/input/lets-get-rid-of-the-patients-xgboost/submission_73_3_1.csv\n",
      "/kaggle/input/lets-get-rid-of-the-patients-xgboost/probs_73_2_3.csv\n",
      "/kaggle/input/lets-get-rid-of-the-patients-xgboost/submission_432_0_4.csv\n",
      "/kaggle/input/lets-get-rid-of-the-patients-xgboost/model_stats.csv\n",
      "/kaggle/input/lets-get-rid-of-the-patients-xgboost/submission_32_0_3.csv\n",
      "/kaggle/input/lets-get-rid-of-the-patients-xgboost/probs_32_1_2.csv\n",
      "/kaggle/input/lets-get-rid-of-the-patients-xgboost/probs_32_2_2.csv\n",
      "/kaggle/input/lets-get-rid-of-the-patients-xgboost/submission_73_1_4.csv\n",
      "/kaggle/input/lets-get-rid-of-the-patients-xgboost/probs_432_3_3.csv\n",
      "/kaggle/input/lets-get-rid-of-the-patients-xgboost/probs_432_0_4.csv\n",
      "/kaggle/input/lets-get-rid-of-the-patients-xgboost/submission_432_3_4.csv\n",
      "/kaggle/input/lets-get-rid-of-the-patients-xgboost/probs_73_4_3.csv\n",
      "/kaggle/input/lets-get-rid-of-the-patients-xgboost/submission_32_2_4.csv\n",
      "/kaggle/input/lets-get-rid-of-the-patients-xgboost/probs_32_4_4.csv\n",
      "/kaggle/input/lets-get-rid-of-the-patients-xgboost/probs_432_4_0.csv\n",
      "/kaggle/input/lets-get-rid-of-the-patients-xgboost/probs_432_2_2.csv\n",
      "/kaggle/input/lets-get-rid-of-the-patients-xgboost/submission_32_3_3.csv\n",
      "/kaggle/input/lets-get-rid-of-the-patients-xgboost/submission_32_3_1.csv\n",
      "/kaggle/input/lets-get-rid-of-the-patients-xgboost/submission_432_4_4.csv\n",
      "/kaggle/input/lets-get-rid-of-the-patients-xgboost/submission_32_3_0.csv\n",
      "/kaggle/input/lets-get-rid-of-the-patients-xgboost/probs_73_3_4.csv\n",
      "/kaggle/input/lets-get-rid-of-the-patients-xgboost/probs_432_0_3.csv\n",
      "/kaggle/input/lets-get-rid-of-the-patients-xgboost/probs_432_0_1.csv\n",
      "/kaggle/input/lets-get-rid-of-the-patients-xgboost/submission_432_0_2.csv\n",
      "/kaggle/input/lets-get-rid-of-the-patients-xgboost/probs_432_2_0.csv\n",
      "/kaggle/input/lets-get-rid-of-the-patients-xgboost/submission_73_1_0.csv\n",
      "/kaggle/input/lets-get-rid-of-the-patients-xgboost/probs_432_1_1.csv\n",
      "/kaggle/input/lets-get-rid-of-the-patients-xgboost/probs_432_1_2.csv\n",
      "/kaggle/input/lets-get-rid-of-the-patients-xgboost/submission_32_4_1.csv\n",
      "/kaggle/input/lets-get-rid-of-the-patients-xgboost/submission_73_2_0.csv\n",
      "/kaggle/input/lets-get-rid-of-the-patients-xgboost/submission_73_2_1.csv\n",
      "/kaggle/input/lets-get-rid-of-the-patients-xgboost/submission_73_0_0.csv\n",
      "/kaggle/input/lets-get-rid-of-the-patients-xgboost/probs_32_4_3.csv\n",
      "/kaggle/input/lets-get-rid-of-the-patients-xgboost/submission_432_1_2.csv\n",
      "/kaggle/input/lets-get-rid-of-the-patients-xgboost/submission_73_0_3.csv\n",
      "/kaggle/input/lets-get-rid-of-the-patients-xgboost/probs_73_3_3.csv\n",
      "/kaggle/input/lets-get-rid-of-the-patients-xgboost/submission_73_3_4.csv\n",
      "/kaggle/input/lets-get-rid-of-the-patients-xgboost/submission_32_4_3.csv\n",
      "/kaggle/input/lets-get-rid-of-the-patients-xgboost/submission_32_1_3.csv\n",
      "/kaggle/input/lets-get-rid-of-the-patients-xgboost/probs_73_0_3.csv\n",
      "/kaggle/input/lets-get-rid-of-the-patients-xgboost/probs_73_4_1.csv\n",
      "/kaggle/input/lets-get-rid-of-the-patients-xgboost/probs_32_1_1.csv\n",
      "/kaggle/input/lets-get-rid-of-the-patients-xgboost/__notebook__.ipynb\n",
      "/kaggle/input/lets-get-rid-of-the-patients-xgboost/submission_432_4_0.csv\n",
      "/kaggle/input/lets-get-rid-of-the-patients-xgboost/probs_432_2_3.csv\n",
      "/kaggle/input/lets-get-rid-of-the-patients-xgboost/submission_73_0_1.csv\n",
      "/kaggle/input/lets-get-rid-of-the-patients-xgboost/submission_432_0_3.csv\n",
      "/kaggle/input/lets-get-rid-of-the-patients-xgboost/submission_32_1_1.csv\n",
      "/kaggle/input/lets-get-rid-of-the-patients-xgboost/probs_432_4_4.csv\n",
      "/kaggle/input/lets-get-rid-of-the-patients-xgboost/probs_432_3_0.csv\n",
      "/kaggle/input/lets-get-rid-of-the-patients-xgboost/submission_432_2_3.csv\n",
      "/kaggle/input/lets-get-rid-of-the-patients-xgboost/__output__.json\n",
      "/kaggle/input/lets-get-rid-of-the-patients-xgboost/probs_32_3_1.csv\n",
      "/kaggle/input/lets-get-rid-of-the-patients-xgboost/probs_32_2_1.csv\n",
      "/kaggle/input/lets-get-rid-of-the-patients-xgboost/submission_73_3_2.csv\n",
      "/kaggle/input/lets-get-rid-of-the-patients-xgboost/submission_32_3_2.csv\n",
      "/kaggle/input/lets-get-rid-of-the-patients-xgboost/submission_73_3_3.csv\n",
      "/kaggle/input/lets-get-rid-of-the-patients-xgboost/submission_73_2_2.csv\n",
      "/kaggle/input/lets-get-rid-of-the-patients-xgboost/probs_73_3_1.csv\n",
      "/kaggle/input/lets-get-rid-of-the-patients-xgboost/probs_73_2_1.csv\n",
      "/kaggle/input/lets-get-rid-of-the-patients-xgboost/probs_432_1_4.csv\n",
      "/kaggle/input/lets-get-rid-of-the-patients-xgboost/submission_32_4_0.csv\n",
      "/kaggle/input/lets-get-rid-of-the-patients-xgboost/submission_73_4_1.csv\n",
      "/kaggle/input/lets-get-rid-of-the-patients-xgboost/submission_432_0_0.csv\n",
      "/kaggle/input/lets-get-rid-of-the-patients-xgboost/probs_73_1_2.csv\n",
      "/kaggle/input/lets-get-rid-of-the-patients-xgboost/__results___files/__results___7_0.png\n",
      "/kaggle/input/lets-get-rid-of-the-patients-xgboost/__results___files/__results___6_1.png\n",
      "/kaggle/input/lets-get-rid-of-the-patients-xgboost/__results___files/__results___21_1.png\n",
      "/kaggle/input/lets-get-rid-of-the-patients-xgboost/__results___files/__results___8_0.png\n",
      "/kaggle/input/lets-get-rid-of-the-patients-xgboost/__results___files/__results___9_0.png\n",
      "/kaggle/input/healthcareanalyticsii/train_data_dict.csv\n",
      "/kaggle/input/healthcareanalyticsii/sample_submission.csv\n",
      "/kaggle/input/healthcareanalyticsii/test.csv\n",
      "/kaggle/input/healthcareanalyticsii/train.csv\n",
      "/kaggle/input/lets-get-rid-of-the-patients/probs_73_0_1.csv\n",
      "/kaggle/input/lets-get-rid-of-the-patients/submission_432_0_1.csv\n",
      "/kaggle/input/lets-get-rid-of-the-patients/probs_32_1_4.csv\n",
      "/kaggle/input/lets-get-rid-of-the-patients/probs.csv\n",
      "/kaggle/input/lets-get-rid-of-the-patients/submission_32_0_0.csv\n",
      "/kaggle/input/lets-get-rid-of-the-patients/submission_432_4_2.csv\n",
      "/kaggle/input/lets-get-rid-of-the-patients/probs_32_3_3.csv\n",
      "/kaggle/input/lets-get-rid-of-the-patients/probs_432_2_1.csv\n",
      "/kaggle/input/lets-get-rid-of-the-patients/probs_432_1_3.csv\n",
      "/kaggle/input/lets-get-rid-of-the-patients/probs_432_1_0.csv\n",
      "/kaggle/input/lets-get-rid-of-the-patients/submission_32_1_4.csv\n",
      "/kaggle/input/lets-get-rid-of-the-patients/probs_32_2_3.csv\n",
      "/kaggle/input/lets-get-rid-of-the-patients/probs_73_0_4.csv\n",
      "/kaggle/input/lets-get-rid-of-the-patients/probs_432_4_3.csv\n",
      "/kaggle/input/lets-get-rid-of-the-patients/probs_73_3_0.csv\n",
      "/kaggle/input/lets-get-rid-of-the-patients/probs_32_0_4.csv\n",
      "/kaggle/input/lets-get-rid-of-the-patients/submission_432_4_3.csv\n",
      "/kaggle/input/lets-get-rid-of-the-patients/probs_432_3_2.csv\n",
      "/kaggle/input/lets-get-rid-of-the-patients/__results__.html\n",
      "/kaggle/input/lets-get-rid-of-the-patients/submission_32_3_4.csv\n",
      "/kaggle/input/lets-get-rid-of-the-patients/probs_73_1_4.csv\n",
      "/kaggle/input/lets-get-rid-of-the-patients/probs_32_0_3.csv\n",
      "/kaggle/input/lets-get-rid-of-the-patients/probs_73_2_4.csv\n",
      "/kaggle/input/lets-get-rid-of-the-patients/probs_32_3_4.csv\n",
      "/kaggle/input/lets-get-rid-of-the-patients/submission_432_3_2.csv\n",
      "/kaggle/input/lets-get-rid-of-the-patients/submission_432_1_0.csv\n",
      "/kaggle/input/lets-get-rid-of-the-patients/probs_73_3_2.csv\n",
      "/kaggle/input/lets-get-rid-of-the-patients/submission_73_0_2.csv\n",
      "/kaggle/input/lets-get-rid-of-the-patients/probs_432_3_1.csv\n",
      "/kaggle/input/lets-get-rid-of-the-patients/submission_73_0_4.csv\n",
      "/kaggle/input/lets-get-rid-of-the-patients/submission_32_1_2.csv\n",
      "/kaggle/input/lets-get-rid-of-the-patients/probs_73_4_2.csv\n",
      "/kaggle/input/lets-get-rid-of-the-patients/submission_432_3_1.csv\n",
      "/kaggle/input/lets-get-rid-of-the-patients/submission_73_1_3.csv\n",
      "/kaggle/input/lets-get-rid-of-the-patients/probs_73_0_0.csv\n",
      "/kaggle/input/lets-get-rid-of-the-patients/probs_432_0_2.csv\n",
      "/kaggle/input/lets-get-rid-of-the-patients/submission_432_2_2.csv\n",
      "/kaggle/input/lets-get-rid-of-the-patients/submission_432_3_0.csv\n",
      "/kaggle/input/lets-get-rid-of-the-patients/probs_73_1_3.csv\n",
      "/kaggle/input/lets-get-rid-of-the-patients/submission_32_0_4.csv\n",
      "/kaggle/input/lets-get-rid-of-the-patients/probs_32_4_2.csv\n",
      "/kaggle/input/lets-get-rid-of-the-patients/probs_32_4_1.csv\n",
      "/kaggle/input/lets-get-rid-of-the-patients/probs_432_2_4.csv\n",
      "/kaggle/input/lets-get-rid-of-the-patients/submission_32_0_2.csv\n",
      "/kaggle/input/lets-get-rid-of-the-patients/submission.csv\n",
      "/kaggle/input/lets-get-rid-of-the-patients/probs_432_4_2.csv\n",
      "/kaggle/input/lets-get-rid-of-the-patients/submission_32_0_1.csv\n",
      "/kaggle/input/lets-get-rid-of-the-patients/submission_32_4_2.csv\n",
      "/kaggle/input/lets-get-rid-of-the-patients/probs_32_0_2.csv\n",
      "/kaggle/input/lets-get-rid-of-the-patients/submission_73_2_4.csv\n",
      "/kaggle/input/lets-get-rid-of-the-patients/submission_32_4_4.csv\n",
      "/kaggle/input/lets-get-rid-of-the-patients/probs_73_4_4.csv\n",
      "/kaggle/input/lets-get-rid-of-the-patients/probs_32_3_0.csv\n",
      "/kaggle/input/lets-get-rid-of-the-patients/submission_432_4_1.csv\n",
      "/kaggle/input/lets-get-rid-of-the-patients/submission_432_2_1.csv\n",
      "/kaggle/input/lets-get-rid-of-the-patients/probs_73_4_0.csv\n",
      "/kaggle/input/lets-get-rid-of-the-patients/probs_32_3_2.csv\n",
      "/kaggle/input/lets-get-rid-of-the-patients/probs_432_3_4.csv\n",
      "/kaggle/input/lets-get-rid-of-the-patients/submission_73_2_3.csv\n",
      "/kaggle/input/lets-get-rid-of-the-patients/submission_73_4_3.csv\n",
      "/kaggle/input/lets-get-rid-of-the-patients/submission_32_1_0.csv\n",
      "/kaggle/input/lets-get-rid-of-the-patients/probs_73_2_2.csv\n",
      "/kaggle/input/lets-get-rid-of-the-patients/probs_32_0_1.csv\n",
      "/kaggle/input/lets-get-rid-of-the-patients/submission_432_3_3.csv\n",
      "/kaggle/input/lets-get-rid-of-the-patients/submission_32_2_3.csv\n",
      "/kaggle/input/lets-get-rid-of-the-patients/submission_73_1_2.csv\n",
      "/kaggle/input/lets-get-rid-of-the-patients/probs_32_1_3.csv\n",
      "/kaggle/input/lets-get-rid-of-the-patients/probs_32_0_0.csv\n",
      "/kaggle/input/lets-get-rid-of-the-patients/submission_73_4_2.csv\n",
      "/kaggle/input/lets-get-rid-of-the-patients/submission_432_1_4.csv\n",
      "/kaggle/input/lets-get-rid-of-the-patients/probs_73_0_2.csv\n",
      "/kaggle/input/lets-get-rid-of-the-patients/submission_432_1_1.csv\n",
      "/kaggle/input/lets-get-rid-of-the-patients/submission_73_1_1.csv\n",
      "/kaggle/input/lets-get-rid-of-the-patients/probs_73_2_0.csv\n",
      "/kaggle/input/lets-get-rid-of-the-patients/submission_432_2_4.csv\n",
      "/kaggle/input/lets-get-rid-of-the-patients/probs_32_1_0.csv\n",
      "/kaggle/input/lets-get-rid-of-the-patients/probs_432_0_0.csv\n",
      "/kaggle/input/lets-get-rid-of-the-patients/probs_73_1_0.csv\n",
      "/kaggle/input/lets-get-rid-of-the-patients/submission_432_1_3.csv\n",
      "/kaggle/input/lets-get-rid-of-the-patients/probs_432_4_1.csv\n",
      "/kaggle/input/lets-get-rid-of-the-patients/submission_32_2_0.csv\n",
      "/kaggle/input/lets-get-rid-of-the-patients/submission_73_4_0.csv\n",
      "/kaggle/input/lets-get-rid-of-the-patients/submission_32_2_1.csv\n",
      "/kaggle/input/lets-get-rid-of-the-patients/submission_432_2_0.csv\n",
      "/kaggle/input/lets-get-rid-of-the-patients/submission_73_3_0.csv\n",
      "/kaggle/input/lets-get-rid-of-the-patients/probs_73_1_1.csv\n",
      "/kaggle/input/lets-get-rid-of-the-patients/probs_32_2_0.csv\n",
      "/kaggle/input/lets-get-rid-of-the-patients/probs_32_4_0.csv\n",
      "/kaggle/input/lets-get-rid-of-the-patients/custom.css\n",
      "/kaggle/input/lets-get-rid-of-the-patients/submission_73_4_4.csv\n",
      "/kaggle/input/lets-get-rid-of-the-patients/submission_32_2_2.csv\n",
      "/kaggle/input/lets-get-rid-of-the-patients/probs_32_2_4.csv\n",
      "/kaggle/input/lets-get-rid-of-the-patients/submission_73_3_1.csv\n",
      "/kaggle/input/lets-get-rid-of-the-patients/probs_73_2_3.csv\n",
      "/kaggle/input/lets-get-rid-of-the-patients/submission_432_0_4.csv\n",
      "/kaggle/input/lets-get-rid-of-the-patients/model_stats.csv\n",
      "/kaggle/input/lets-get-rid-of-the-patients/submission_32_0_3.csv\n",
      "/kaggle/input/lets-get-rid-of-the-patients/probs_32_1_2.csv\n",
      "/kaggle/input/lets-get-rid-of-the-patients/probs_32_2_2.csv\n",
      "/kaggle/input/lets-get-rid-of-the-patients/submission_73_1_4.csv\n",
      "/kaggle/input/lets-get-rid-of-the-patients/probs_432_3_3.csv\n",
      "/kaggle/input/lets-get-rid-of-the-patients/probs_432_0_4.csv\n",
      "/kaggle/input/lets-get-rid-of-the-patients/submission_432_3_4.csv\n",
      "/kaggle/input/lets-get-rid-of-the-patients/probs_73_4_3.csv\n",
      "/kaggle/input/lets-get-rid-of-the-patients/submission_32_2_4.csv\n",
      "/kaggle/input/lets-get-rid-of-the-patients/probs_32_4_4.csv\n",
      "/kaggle/input/lets-get-rid-of-the-patients/probs_432_4_0.csv\n",
      "/kaggle/input/lets-get-rid-of-the-patients/probs_432_2_2.csv\n",
      "/kaggle/input/lets-get-rid-of-the-patients/submission_32_3_3.csv\n",
      "/kaggle/input/lets-get-rid-of-the-patients/submission_32_3_1.csv\n",
      "/kaggle/input/lets-get-rid-of-the-patients/submission_432_4_4.csv\n",
      "/kaggle/input/lets-get-rid-of-the-patients/submission_32_3_0.csv\n",
      "/kaggle/input/lets-get-rid-of-the-patients/probs_73_3_4.csv\n",
      "/kaggle/input/lets-get-rid-of-the-patients/probs_432_0_3.csv\n",
      "/kaggle/input/lets-get-rid-of-the-patients/probs_432_0_1.csv\n",
      "/kaggle/input/lets-get-rid-of-the-patients/submission_432_0_2.csv\n",
      "/kaggle/input/lets-get-rid-of-the-patients/probs_432_2_0.csv\n",
      "/kaggle/input/lets-get-rid-of-the-patients/submission_73_1_0.csv\n",
      "/kaggle/input/lets-get-rid-of-the-patients/probs_432_1_1.csv\n",
      "/kaggle/input/lets-get-rid-of-the-patients/probs_432_1_2.csv\n",
      "/kaggle/input/lets-get-rid-of-the-patients/submission_32_4_1.csv\n",
      "/kaggle/input/lets-get-rid-of-the-patients/submission_73_2_0.csv\n",
      "/kaggle/input/lets-get-rid-of-the-patients/submission_73_2_1.csv\n",
      "/kaggle/input/lets-get-rid-of-the-patients/submission_73_0_0.csv\n",
      "/kaggle/input/lets-get-rid-of-the-patients/probs_32_4_3.csv\n",
      "/kaggle/input/lets-get-rid-of-the-patients/submission_432_1_2.csv\n",
      "/kaggle/input/lets-get-rid-of-the-patients/submission_73_0_3.csv\n",
      "/kaggle/input/lets-get-rid-of-the-patients/probs_73_3_3.csv\n",
      "/kaggle/input/lets-get-rid-of-the-patients/submission_73_3_4.csv\n",
      "/kaggle/input/lets-get-rid-of-the-patients/submission_32_4_3.csv\n",
      "/kaggle/input/lets-get-rid-of-the-patients/submission_32_1_3.csv\n",
      "/kaggle/input/lets-get-rid-of-the-patients/probs_73_0_3.csv\n",
      "/kaggle/input/lets-get-rid-of-the-patients/probs_73_4_1.csv\n",
      "/kaggle/input/lets-get-rid-of-the-patients/probs_32_1_1.csv\n",
      "/kaggle/input/lets-get-rid-of-the-patients/__notebook__.ipynb\n",
      "/kaggle/input/lets-get-rid-of-the-patients/submission_432_4_0.csv\n",
      "/kaggle/input/lets-get-rid-of-the-patients/probs_432_2_3.csv\n",
      "/kaggle/input/lets-get-rid-of-the-patients/submission_73_0_1.csv\n",
      "/kaggle/input/lets-get-rid-of-the-patients/submission_432_0_3.csv\n",
      "/kaggle/input/lets-get-rid-of-the-patients/submission_32_1_1.csv\n",
      "/kaggle/input/lets-get-rid-of-the-patients/probs_432_4_4.csv\n",
      "/kaggle/input/lets-get-rid-of-the-patients/probs_432_3_0.csv\n",
      "/kaggle/input/lets-get-rid-of-the-patients/submission_432_2_3.csv\n",
      "/kaggle/input/lets-get-rid-of-the-patients/__output__.json\n",
      "/kaggle/input/lets-get-rid-of-the-patients/probs_32_3_1.csv\n",
      "/kaggle/input/lets-get-rid-of-the-patients/probs_32_2_1.csv\n",
      "/kaggle/input/lets-get-rid-of-the-patients/submission_73_3_2.csv\n",
      "/kaggle/input/lets-get-rid-of-the-patients/submission_32_3_2.csv\n",
      "/kaggle/input/lets-get-rid-of-the-patients/submission_73_3_3.csv\n",
      "/kaggle/input/lets-get-rid-of-the-patients/submission_73_2_2.csv\n",
      "/kaggle/input/lets-get-rid-of-the-patients/probs_73_3_1.csv\n",
      "/kaggle/input/lets-get-rid-of-the-patients/probs_73_2_1.csv\n",
      "/kaggle/input/lets-get-rid-of-the-patients/probs_432_1_4.csv\n",
      "/kaggle/input/lets-get-rid-of-the-patients/submission_32_4_0.csv\n",
      "/kaggle/input/lets-get-rid-of-the-patients/submission_73_4_1.csv\n",
      "/kaggle/input/lets-get-rid-of-the-patients/submission_432_0_0.csv\n",
      "/kaggle/input/lets-get-rid-of-the-patients/probs_73_1_2.csv\n",
      "/kaggle/input/lets-get-rid-of-the-patients/__results___files/__results___10_0.png\n",
      "/kaggle/input/lets-get-rid-of-the-patients/__results___files/__results___11_0.png\n",
      "/kaggle/input/lets-get-rid-of-the-patients/__results___files/__results___24_1.png\n",
      "/kaggle/input/lets-get-rid-of-the-patients/__results___files/__results___8_1.png\n",
      "/kaggle/input/lets-get-rid-of-the-patients/__results___files/__results___9_0.png\n",
      "/kaggle/input/a-model-built-on-garbage-deeptables-dcn/probs_73_0_1.csv\n",
      "/kaggle/input/a-model-built-on-garbage-deeptables-dcn/submission_432_0_1.csv\n",
      "/kaggle/input/a-model-built-on-garbage-deeptables-dcn/probs_32_1_4.csv\n",
      "/kaggle/input/a-model-built-on-garbage-deeptables-dcn/probs.csv\n",
      "/kaggle/input/a-model-built-on-garbage-deeptables-dcn/submission_32_0_0.csv\n",
      "/kaggle/input/a-model-built-on-garbage-deeptables-dcn/submission_432_4_2.csv\n",
      "/kaggle/input/a-model-built-on-garbage-deeptables-dcn/probs_32_3_3.csv\n",
      "/kaggle/input/a-model-built-on-garbage-deeptables-dcn/probs_432_2_1.csv\n",
      "/kaggle/input/a-model-built-on-garbage-deeptables-dcn/probs_432_1_3.csv\n",
      "/kaggle/input/a-model-built-on-garbage-deeptables-dcn/probs_432_1_0.csv\n",
      "/kaggle/input/a-model-built-on-garbage-deeptables-dcn/submission_32_1_4.csv\n",
      "/kaggle/input/a-model-built-on-garbage-deeptables-dcn/probs_32_2_3.csv\n",
      "/kaggle/input/a-model-built-on-garbage-deeptables-dcn/probs_73_0_4.csv\n",
      "/kaggle/input/a-model-built-on-garbage-deeptables-dcn/probs_432_4_3.csv\n",
      "/kaggle/input/a-model-built-on-garbage-deeptables-dcn/probs_73_3_0.csv\n",
      "/kaggle/input/a-model-built-on-garbage-deeptables-dcn/probs_32_0_4.csv\n",
      "/kaggle/input/a-model-built-on-garbage-deeptables-dcn/submission_432_4_3.csv\n",
      "/kaggle/input/a-model-built-on-garbage-deeptables-dcn/probs_432_3_2.csv\n",
      "/kaggle/input/a-model-built-on-garbage-deeptables-dcn/__results__.html\n",
      "/kaggle/input/a-model-built-on-garbage-deeptables-dcn/submission_32_3_4.csv\n",
      "/kaggle/input/a-model-built-on-garbage-deeptables-dcn/probs_73_1_4.csv\n",
      "/kaggle/input/a-model-built-on-garbage-deeptables-dcn/probs_32_0_3.csv\n",
      "/kaggle/input/a-model-built-on-garbage-deeptables-dcn/probs_73_2_4.csv\n",
      "/kaggle/input/a-model-built-on-garbage-deeptables-dcn/probs_32_3_4.csv\n",
      "/kaggle/input/a-model-built-on-garbage-deeptables-dcn/submission_432_3_2.csv\n",
      "/kaggle/input/a-model-built-on-garbage-deeptables-dcn/submission_432_1_0.csv\n",
      "/kaggle/input/a-model-built-on-garbage-deeptables-dcn/probs_73_3_2.csv\n",
      "/kaggle/input/a-model-built-on-garbage-deeptables-dcn/submission_73_0_2.csv\n",
      "/kaggle/input/a-model-built-on-garbage-deeptables-dcn/probs_432_3_1.csv\n",
      "/kaggle/input/a-model-built-on-garbage-deeptables-dcn/submission_73_0_4.csv\n",
      "/kaggle/input/a-model-built-on-garbage-deeptables-dcn/submission_32_1_2.csv\n",
      "/kaggle/input/a-model-built-on-garbage-deeptables-dcn/probs_73_4_2.csv\n",
      "/kaggle/input/a-model-built-on-garbage-deeptables-dcn/submission_432_3_1.csv\n",
      "/kaggle/input/a-model-built-on-garbage-deeptables-dcn/submission_73_1_3.csv\n",
      "/kaggle/input/a-model-built-on-garbage-deeptables-dcn/probs_73_0_0.csv\n",
      "/kaggle/input/a-model-built-on-garbage-deeptables-dcn/probs_432_0_2.csv\n",
      "/kaggle/input/a-model-built-on-garbage-deeptables-dcn/submission_432_2_2.csv\n",
      "/kaggle/input/a-model-built-on-garbage-deeptables-dcn/submission_432_3_0.csv\n",
      "/kaggle/input/a-model-built-on-garbage-deeptables-dcn/probs_73_1_3.csv\n",
      "/kaggle/input/a-model-built-on-garbage-deeptables-dcn/submission_32_0_4.csv\n",
      "/kaggle/input/a-model-built-on-garbage-deeptables-dcn/probs_32_4_2.csv\n",
      "/kaggle/input/a-model-built-on-garbage-deeptables-dcn/probs_32_4_1.csv\n",
      "/kaggle/input/a-model-built-on-garbage-deeptables-dcn/probs_432_2_4.csv\n",
      "/kaggle/input/a-model-built-on-garbage-deeptables-dcn/submission_32_0_2.csv\n",
      "/kaggle/input/a-model-built-on-garbage-deeptables-dcn/submission.csv\n",
      "/kaggle/input/a-model-built-on-garbage-deeptables-dcn/probs_432_4_2.csv\n",
      "/kaggle/input/a-model-built-on-garbage-deeptables-dcn/submission_32_0_1.csv\n",
      "/kaggle/input/a-model-built-on-garbage-deeptables-dcn/submission_32_4_2.csv\n",
      "/kaggle/input/a-model-built-on-garbage-deeptables-dcn/probs_32_0_2.csv\n",
      "/kaggle/input/a-model-built-on-garbage-deeptables-dcn/submission_73_2_4.csv\n",
      "/kaggle/input/a-model-built-on-garbage-deeptables-dcn/submission_32_4_4.csv\n",
      "/kaggle/input/a-model-built-on-garbage-deeptables-dcn/probs_73_4_4.csv\n",
      "/kaggle/input/a-model-built-on-garbage-deeptables-dcn/probs_32_3_0.csv\n",
      "/kaggle/input/a-model-built-on-garbage-deeptables-dcn/submission_432_4_1.csv\n",
      "/kaggle/input/a-model-built-on-garbage-deeptables-dcn/submission_432_2_1.csv\n",
      "/kaggle/input/a-model-built-on-garbage-deeptables-dcn/probs_73_4_0.csv\n",
      "/kaggle/input/a-model-built-on-garbage-deeptables-dcn/probs_32_3_2.csv\n",
      "/kaggle/input/a-model-built-on-garbage-deeptables-dcn/probs_432_3_4.csv\n",
      "/kaggle/input/a-model-built-on-garbage-deeptables-dcn/submission_73_2_3.csv\n",
      "/kaggle/input/a-model-built-on-garbage-deeptables-dcn/submission_73_4_3.csv\n",
      "/kaggle/input/a-model-built-on-garbage-deeptables-dcn/submission_32_1_0.csv\n",
      "/kaggle/input/a-model-built-on-garbage-deeptables-dcn/probs_73_2_2.csv\n",
      "/kaggle/input/a-model-built-on-garbage-deeptables-dcn/probs_32_0_1.csv\n",
      "/kaggle/input/a-model-built-on-garbage-deeptables-dcn/submission_432_3_3.csv\n",
      "/kaggle/input/a-model-built-on-garbage-deeptables-dcn/submission_32_2_3.csv\n",
      "/kaggle/input/a-model-built-on-garbage-deeptables-dcn/submission_73_1_2.csv\n",
      "/kaggle/input/a-model-built-on-garbage-deeptables-dcn/probs_32_1_3.csv\n",
      "/kaggle/input/a-model-built-on-garbage-deeptables-dcn/probs_32_0_0.csv\n",
      "/kaggle/input/a-model-built-on-garbage-deeptables-dcn/submission_73_4_2.csv\n",
      "/kaggle/input/a-model-built-on-garbage-deeptables-dcn/submission_432_1_4.csv\n",
      "/kaggle/input/a-model-built-on-garbage-deeptables-dcn/probs_73_0_2.csv\n",
      "/kaggle/input/a-model-built-on-garbage-deeptables-dcn/submission_432_1_1.csv\n",
      "/kaggle/input/a-model-built-on-garbage-deeptables-dcn/submission_73_1_1.csv\n",
      "/kaggle/input/a-model-built-on-garbage-deeptables-dcn/probs_73_2_0.csv\n",
      "/kaggle/input/a-model-built-on-garbage-deeptables-dcn/submission_432_2_4.csv\n",
      "/kaggle/input/a-model-built-on-garbage-deeptables-dcn/probs_32_1_0.csv\n",
      "/kaggle/input/a-model-built-on-garbage-deeptables-dcn/probs_432_0_0.csv\n",
      "/kaggle/input/a-model-built-on-garbage-deeptables-dcn/probs_73_1_0.csv\n",
      "/kaggle/input/a-model-built-on-garbage-deeptables-dcn/submission_432_1_3.csv\n",
      "/kaggle/input/a-model-built-on-garbage-deeptables-dcn/probs_432_4_1.csv\n",
      "/kaggle/input/a-model-built-on-garbage-deeptables-dcn/submission_32_2_0.csv\n",
      "/kaggle/input/a-model-built-on-garbage-deeptables-dcn/submission_73_4_0.csv\n",
      "/kaggle/input/a-model-built-on-garbage-deeptables-dcn/model.png\n",
      "/kaggle/input/a-model-built-on-garbage-deeptables-dcn/submission_32_2_1.csv\n",
      "/kaggle/input/a-model-built-on-garbage-deeptables-dcn/submission_432_2_0.csv\n",
      "/kaggle/input/a-model-built-on-garbage-deeptables-dcn/submission_73_3_0.csv\n",
      "/kaggle/input/a-model-built-on-garbage-deeptables-dcn/probs_73_1_1.csv\n",
      "/kaggle/input/a-model-built-on-garbage-deeptables-dcn/probs_32_2_0.csv\n",
      "/kaggle/input/a-model-built-on-garbage-deeptables-dcn/probs_32_4_0.csv\n",
      "/kaggle/input/a-model-built-on-garbage-deeptables-dcn/custom.css\n",
      "/kaggle/input/a-model-built-on-garbage-deeptables-dcn/submission_73_4_4.csv\n",
      "/kaggle/input/a-model-built-on-garbage-deeptables-dcn/submission_32_2_2.csv\n",
      "/kaggle/input/a-model-built-on-garbage-deeptables-dcn/probs_32_2_4.csv\n",
      "/kaggle/input/a-model-built-on-garbage-deeptables-dcn/submission_73_3_1.csv\n",
      "/kaggle/input/a-model-built-on-garbage-deeptables-dcn/probs_73_2_3.csv\n",
      "/kaggle/input/a-model-built-on-garbage-deeptables-dcn/submission_432_0_4.csv\n",
      "/kaggle/input/a-model-built-on-garbage-deeptables-dcn/model_stats.csv\n",
      "/kaggle/input/a-model-built-on-garbage-deeptables-dcn/submission_32_0_3.csv\n",
      "/kaggle/input/a-model-built-on-garbage-deeptables-dcn/probs_32_1_2.csv\n",
      "/kaggle/input/a-model-built-on-garbage-deeptables-dcn/probs_32_2_2.csv\n",
      "/kaggle/input/a-model-built-on-garbage-deeptables-dcn/submission_73_1_4.csv\n",
      "/kaggle/input/a-model-built-on-garbage-deeptables-dcn/probs_432_3_3.csv\n",
      "/kaggle/input/a-model-built-on-garbage-deeptables-dcn/probs_432_0_4.csv\n",
      "/kaggle/input/a-model-built-on-garbage-deeptables-dcn/submission_432_3_4.csv\n",
      "/kaggle/input/a-model-built-on-garbage-deeptables-dcn/probs_73_4_3.csv\n",
      "/kaggle/input/a-model-built-on-garbage-deeptables-dcn/submission_32_2_4.csv\n",
      "/kaggle/input/a-model-built-on-garbage-deeptables-dcn/probs_32_4_4.csv\n",
      "/kaggle/input/a-model-built-on-garbage-deeptables-dcn/probs_432_4_0.csv\n",
      "/kaggle/input/a-model-built-on-garbage-deeptables-dcn/probs_432_2_2.csv\n",
      "/kaggle/input/a-model-built-on-garbage-deeptables-dcn/submission_32_3_3.csv\n",
      "/kaggle/input/a-model-built-on-garbage-deeptables-dcn/submission_32_3_1.csv\n",
      "/kaggle/input/a-model-built-on-garbage-deeptables-dcn/submission_432_4_4.csv\n",
      "/kaggle/input/a-model-built-on-garbage-deeptables-dcn/submission_32_3_0.csv\n",
      "/kaggle/input/a-model-built-on-garbage-deeptables-dcn/probs_73_3_4.csv\n",
      "/kaggle/input/a-model-built-on-garbage-deeptables-dcn/probs_432_0_3.csv\n",
      "/kaggle/input/a-model-built-on-garbage-deeptables-dcn/probs_432_0_1.csv\n",
      "/kaggle/input/a-model-built-on-garbage-deeptables-dcn/submission_432_0_2.csv\n",
      "/kaggle/input/a-model-built-on-garbage-deeptables-dcn/probs_432_2_0.csv\n",
      "/kaggle/input/a-model-built-on-garbage-deeptables-dcn/submission_73_1_0.csv\n",
      "/kaggle/input/a-model-built-on-garbage-deeptables-dcn/probs_432_1_1.csv\n",
      "/kaggle/input/a-model-built-on-garbage-deeptables-dcn/probs_432_1_2.csv\n",
      "/kaggle/input/a-model-built-on-garbage-deeptables-dcn/submission_32_4_1.csv\n",
      "/kaggle/input/a-model-built-on-garbage-deeptables-dcn/submission_73_2_0.csv\n",
      "/kaggle/input/a-model-built-on-garbage-deeptables-dcn/submission_73_2_1.csv\n",
      "/kaggle/input/a-model-built-on-garbage-deeptables-dcn/submission_73_0_0.csv\n",
      "/kaggle/input/a-model-built-on-garbage-deeptables-dcn/probs_32_4_3.csv\n",
      "/kaggle/input/a-model-built-on-garbage-deeptables-dcn/submission_432_1_2.csv\n",
      "/kaggle/input/a-model-built-on-garbage-deeptables-dcn/submission_73_0_3.csv\n",
      "/kaggle/input/a-model-built-on-garbage-deeptables-dcn/probs_73_3_3.csv\n",
      "/kaggle/input/a-model-built-on-garbage-deeptables-dcn/submission_73_3_4.csv\n",
      "/kaggle/input/a-model-built-on-garbage-deeptables-dcn/submission_32_4_3.csv\n",
      "/kaggle/input/a-model-built-on-garbage-deeptables-dcn/submission_32_1_3.csv\n",
      "/kaggle/input/a-model-built-on-garbage-deeptables-dcn/probs_73_0_3.csv\n",
      "/kaggle/input/a-model-built-on-garbage-deeptables-dcn/probs_73_4_1.csv\n",
      "/kaggle/input/a-model-built-on-garbage-deeptables-dcn/probs_32_1_1.csv\n",
      "/kaggle/input/a-model-built-on-garbage-deeptables-dcn/__notebook__.ipynb\n",
      "/kaggle/input/a-model-built-on-garbage-deeptables-dcn/submission_432_4_0.csv\n",
      "/kaggle/input/a-model-built-on-garbage-deeptables-dcn/probs_432_2_3.csv\n",
      "/kaggle/input/a-model-built-on-garbage-deeptables-dcn/submission_73_0_1.csv\n",
      "/kaggle/input/a-model-built-on-garbage-deeptables-dcn/submission_432_0_3.csv\n",
      "/kaggle/input/a-model-built-on-garbage-deeptables-dcn/submission_32_1_1.csv\n",
      "/kaggle/input/a-model-built-on-garbage-deeptables-dcn/probs_432_4_4.csv\n",
      "/kaggle/input/a-model-built-on-garbage-deeptables-dcn/probs_432_3_0.csv\n",
      "/kaggle/input/a-model-built-on-garbage-deeptables-dcn/submission_432_2_3.csv\n",
      "/kaggle/input/a-model-built-on-garbage-deeptables-dcn/__output__.json\n",
      "/kaggle/input/a-model-built-on-garbage-deeptables-dcn/probs_32_3_1.csv\n",
      "/kaggle/input/a-model-built-on-garbage-deeptables-dcn/probs_32_2_1.csv\n",
      "/kaggle/input/a-model-built-on-garbage-deeptables-dcn/submission_73_3_2.csv\n",
      "/kaggle/input/a-model-built-on-garbage-deeptables-dcn/submission_32_3_2.csv\n",
      "/kaggle/input/a-model-built-on-garbage-deeptables-dcn/submission_73_3_3.csv\n",
      "/kaggle/input/a-model-built-on-garbage-deeptables-dcn/submission_73_2_2.csv\n",
      "/kaggle/input/a-model-built-on-garbage-deeptables-dcn/probs_73_3_1.csv\n",
      "/kaggle/input/a-model-built-on-garbage-deeptables-dcn/probs_73_2_1.csv\n",
      "/kaggle/input/a-model-built-on-garbage-deeptables-dcn/probs_432_1_4.csv\n",
      "/kaggle/input/a-model-built-on-garbage-deeptables-dcn/submission_32_4_0.csv\n",
      "/kaggle/input/a-model-built-on-garbage-deeptables-dcn/submission_73_4_1.csv\n",
      "/kaggle/input/a-model-built-on-garbage-deeptables-dcn/submission_432_0_0.csv\n",
      "/kaggle/input/a-model-built-on-garbage-deeptables-dcn/probs_73_1_2.csv\n",
      "/kaggle/input/a-model-built-on-garbage-deeptables-dcn/__results___files/__results___22_1.png\n",
      "/kaggle/input/a-model-built-on-garbage-deeptables-dcn/__results___files/__results___7_1.png\n",
      "/kaggle/input/a-model-built-on-garbage-deeptables-dcn/__results___files/__results___10_0.png\n",
      "/kaggle/input/a-model-built-on-garbage-deeptables-dcn/__results___files/__results___8_0.png\n",
      "/kaggle/input/a-model-built-on-garbage-deeptables-dcn/__results___files/__results___30_0.png\n",
      "/kaggle/input/a-model-built-on-garbage-deeptables-dcn/__results___files/__results___9_0.png\n"
     ]
    }
   ],
   "source": [
    "import numpy as np \n",
    "import pandas as pd \n",
    "\n",
    "import os\n",
    "for dirname, _, filenames in os.walk('/kaggle/input'):\n",
    "    for filename in filenames:\n",
    "        print(os.path.join(dirname, filename))"
   ]
  },
  {
   "cell_type": "markdown",
   "execution_count": null,
   "metadata": {
    "papermill": {
     "duration": 0.011401,
     "end_time": "2020-09-06T15:06:13.535809",
     "exception": false,
     "start_time": "2020-09-06T15:06:13.524408",
     "status": "completed"
    },
    "tags": []
   },
   "source": [
    "# Generate Submission File"
   ]
  },
  {
   "cell_type": "code",
   "execution_count": 2,
   "metadata": {
    "execution": {
     "iopub.execute_input": "2020-09-06T15:06:13.568547Z",
     "iopub.status.busy": "2020-09-06T15:06:13.567495Z",
     "iopub.status.idle": "2020-09-06T15:06:13.571292Z",
     "shell.execute_reply": "2020-09-06T15:06:13.570565Z"
    },
    "papermill": {
     "duration": 0.024063,
     "end_time": "2020-09-06T15:06:13.571434",
     "exception": false,
     "start_time": "2020-09-06T15:06:13.547371",
     "status": "completed"
    },
    "tags": []
   },
   "outputs": [],
   "source": [
    "def generate_submission_file(probs_df):\n",
    "    \n",
    "    submission = pd.read_csv('../input/healthcareanalyticsii/sample_submission.csv')\n",
    "\n",
    "    submission['Stay'] =  np.argmax(probs_df.iloc[:,1:].values,axis =1)\n",
    "\n",
    "    submission['Stay'] = submission['Stay'].map(inv_dic)\n",
    "    \n",
    "    submission.to_csv('submission.csv',index=False)\n",
    "\n",
    "    print(submission.head())"
   ]
  },
  {
   "cell_type": "code",
   "execution_count": 3,
   "metadata": {
    "execution": {
     "iopub.execute_input": "2020-09-06T15:06:13.604382Z",
     "iopub.status.busy": "2020-09-06T15:06:13.603573Z",
     "iopub.status.idle": "2020-09-06T15:06:13.607171Z",
     "shell.execute_reply": "2020-09-06T15:06:13.606407Z"
    },
    "papermill": {
     "duration": 0.024397,
     "end_time": "2020-09-06T15:06:13.607304",
     "exception": false,
     "start_time": "2020-09-06T15:06:13.582907",
     "status": "completed"
    },
    "tags": []
   },
   "outputs": [],
   "source": [
    "def get_probs_file_name(fname,model):\n",
    "    \n",
    "    if model == 'lgb':\n",
    "        \n",
    "        fpath = '../input/lets-get-rid-of-the-patients/probs' + fname[10:]\n",
    "        \n",
    "    if model == 'xgb':\n",
    "        \n",
    "        fpath = '../input/lets-get-rid-of-the-patients-xgboost/probs' + fname[10:]\n",
    "        \n",
    "    if model == 'catboost':\n",
    "        \n",
    "        fpath = '../input/lets-get-rid-of-the-patients-catboost/probs' + fname[10:]\n",
    "        \n",
    "    if model == 'dcn':\n",
    "        \n",
    "        fpath = '../input/a-model-built-on-garbage-deeptables-dcn/probs' + fname[10:]\n",
    "    \n",
    "    if model == 'dnn':\n",
    "        \n",
    "        fpath = '../input/a-model-built-on-garbage-deeptables/probs' + fname[10:]\n",
    "        \n",
    "    if model == 'pnn':\n",
    "        \n",
    "        fpath = '../input/a-model-built-on-garbage-deeptables-pnn/probs' + fname[10:]\n",
    "        \n",
    "    \n",
    "    return fpath"
   ]
  },
  {
   "cell_type": "code",
   "execution_count": 4,
   "metadata": {
    "execution": {
     "iopub.execute_input": "2020-09-06T15:06:13.638719Z",
     "iopub.status.busy": "2020-09-06T15:06:13.638000Z",
     "iopub.status.idle": "2020-09-06T15:06:14.122330Z",
     "shell.execute_reply": "2020-09-06T15:06:14.122929Z"
    },
    "papermill": {
     "duration": 0.504478,
     "end_time": "2020-09-06T15:06:14.123088",
     "exception": false,
     "start_time": "2020-09-06T15:06:13.618610",
     "status": "completed"
    },
    "tags": []
   },
   "outputs": [
    {
     "data": {
      "text/html": [
       "<div>\n",
       "<style scoped>\n",
       "    .dataframe tbody tr th:only-of-type {\n",
       "        vertical-align: middle;\n",
       "    }\n",
       "\n",
       "    .dataframe tbody tr th {\n",
       "        vertical-align: top;\n",
       "    }\n",
       "\n",
       "    .dataframe thead th {\n",
       "        text-align: right;\n",
       "    }\n",
       "</style>\n",
       "<table border=\"1\" class=\"dataframe\">\n",
       "  <thead>\n",
       "    <tr style=\"text-align: right;\">\n",
       "      <th></th>\n",
       "      <th>case_id</th>\n",
       "      <th>0-10</th>\n",
       "      <th>11-20</th>\n",
       "      <th>21-30</th>\n",
       "      <th>31-40</th>\n",
       "      <th>41-50</th>\n",
       "      <th>51-60</th>\n",
       "      <th>61-70</th>\n",
       "      <th>71-80</th>\n",
       "      <th>81-90</th>\n",
       "      <th>91-100</th>\n",
       "      <th>More than 100 Days</th>\n",
       "    </tr>\n",
       "  </thead>\n",
       "  <tbody>\n",
       "    <tr>\n",
       "      <th>0</th>\n",
       "      <td>318439</td>\n",
       "      <td>0.316506</td>\n",
       "      <td>0.140039</td>\n",
       "      <td>0.247529</td>\n",
       "      <td>0.129634</td>\n",
       "      <td>0.050494</td>\n",
       "      <td>0.064536</td>\n",
       "      <td>0.004264</td>\n",
       "      <td>0.027827</td>\n",
       "      <td>0.007519</td>\n",
       "      <td>0.002446</td>\n",
       "      <td>0.009206</td>\n",
       "    </tr>\n",
       "    <tr>\n",
       "      <th>1</th>\n",
       "      <td>318440</td>\n",
       "      <td>0.000516</td>\n",
       "      <td>0.024589</td>\n",
       "      <td>0.011350</td>\n",
       "      <td>0.210735</td>\n",
       "      <td>0.015387</td>\n",
       "      <td>0.553362</td>\n",
       "      <td>0.002588</td>\n",
       "      <td>0.135286</td>\n",
       "      <td>0.012499</td>\n",
       "      <td>0.025461</td>\n",
       "      <td>0.008228</td>\n",
       "    </tr>\n",
       "    <tr>\n",
       "      <th>2</th>\n",
       "      <td>318441</td>\n",
       "      <td>0.155782</td>\n",
       "      <td>0.260197</td>\n",
       "      <td>0.377515</td>\n",
       "      <td>0.130934</td>\n",
       "      <td>0.043259</td>\n",
       "      <td>0.021716</td>\n",
       "      <td>0.004337</td>\n",
       "      <td>0.003410</td>\n",
       "      <td>0.000760</td>\n",
       "      <td>0.000846</td>\n",
       "      <td>0.001244</td>\n",
       "    </tr>\n",
       "    <tr>\n",
       "      <th>3</th>\n",
       "      <td>318442</td>\n",
       "      <td>0.025929</td>\n",
       "      <td>0.195001</td>\n",
       "      <td>0.599313</td>\n",
       "      <td>0.114527</td>\n",
       "      <td>0.026103</td>\n",
       "      <td>0.032513</td>\n",
       "      <td>0.002339</td>\n",
       "      <td>0.002508</td>\n",
       "      <td>0.000784</td>\n",
       "      <td>0.000531</td>\n",
       "      <td>0.000450</td>\n",
       "    </tr>\n",
       "    <tr>\n",
       "      <th>4</th>\n",
       "      <td>318443</td>\n",
       "      <td>0.000512</td>\n",
       "      <td>0.027822</td>\n",
       "      <td>0.016424</td>\n",
       "      <td>0.188868</td>\n",
       "      <td>0.007449</td>\n",
       "      <td>0.649793</td>\n",
       "      <td>0.001199</td>\n",
       "      <td>0.090779</td>\n",
       "      <td>0.004268</td>\n",
       "      <td>0.005886</td>\n",
       "      <td>0.007001</td>\n",
       "    </tr>\n",
       "  </tbody>\n",
       "</table>\n",
       "</div>"
      ],
      "text/plain": [
       "   case_id      0-10     11-20     21-30     31-40     41-50     51-60  \\\n",
       "0   318439  0.316506  0.140039  0.247529  0.129634  0.050494  0.064536   \n",
       "1   318440  0.000516  0.024589  0.011350  0.210735  0.015387  0.553362   \n",
       "2   318441  0.155782  0.260197  0.377515  0.130934  0.043259  0.021716   \n",
       "3   318442  0.025929  0.195001  0.599313  0.114527  0.026103  0.032513   \n",
       "4   318443  0.000512  0.027822  0.016424  0.188868  0.007449  0.649793   \n",
       "\n",
       "      61-70     71-80     81-90    91-100  More than 100 Days  \n",
       "0  0.004264  0.027827  0.007519  0.002446            0.009206  \n",
       "1  0.002588  0.135286  0.012499  0.025461            0.008228  \n",
       "2  0.004337  0.003410  0.000760  0.000846            0.001244  \n",
       "3  0.002339  0.002508  0.000784  0.000531            0.000450  \n",
       "4  0.001199  0.090779  0.004268  0.005886            0.007001  "
      ]
     },
     "execution_count": 4,
     "metadata": {},
     "output_type": "execute_result"
    }
   ],
   "source": [
    "sample_probs_file = pd.read_csv('../input/lets-get-rid-of-the-patients-catboost/probs_32_0_0.csv')\n",
    "\n",
    "sample_probs_file.head()"
   ]
  },
  {
   "cell_type": "code",
   "execution_count": 5,
   "metadata": {
    "execution": {
     "iopub.execute_input": "2020-09-06T15:06:14.153503Z",
     "iopub.status.busy": "2020-09-06T15:06:14.152422Z",
     "iopub.status.idle": "2020-09-06T15:06:14.155816Z",
     "shell.execute_reply": "2020-09-06T15:06:14.155228Z"
    },
    "papermill": {
     "duration": 0.021189,
     "end_time": "2020-09-06T15:06:14.155982",
     "exception": false,
     "start_time": "2020-09-06T15:06:14.134793",
     "status": "completed"
    },
    "tags": []
   },
   "outputs": [],
   "source": [
    "inv_dic ={}\n",
    "\n",
    "for i in range(len(sample_probs_file.columns[1:])):\n",
    "    \n",
    "    inv_dic[i] = sample_probs_file.columns[i+1]"
   ]
  },
  {
   "cell_type": "code",
   "execution_count": 6,
   "metadata": {
    "_cell_guid": "79c7e3d0-c299-4dcb-8224-4455121ee9b0",
    "_uuid": "d629ff2d2480ee46fbb7e2d37f6b5fab8052498a",
    "execution": {
     "iopub.execute_input": "2020-09-06T15:06:14.187857Z",
     "iopub.status.busy": "2020-09-06T15:06:14.186709Z",
     "iopub.status.idle": "2020-09-06T15:06:14.264426Z",
     "shell.execute_reply": "2020-09-06T15:06:14.264997Z"
    },
    "papermill": {
     "duration": 0.097498,
     "end_time": "2020-09-06T15:06:14.265166",
     "exception": false,
     "start_time": "2020-09-06T15:06:14.167668",
     "status": "completed"
    },
    "tags": []
   },
   "outputs": [],
   "source": [
    "model_stats_catboost = pd.read_csv('../input/lets-get-rid-of-the-patients-catboost/model_stats.csv')\n",
    "\n",
    "model_stats_lgb = pd.read_csv('../input/lets-get-rid-of-the-patients/model_stats.csv')\n",
    "\n",
    "model_stats_xgb = pd.read_csv('../input/lets-get-rid-of-the-patients-xgboost/model_stats.csv')\n",
    "\n",
    "model_stats_dcn = pd.read_csv('../input/a-model-built-on-garbage-deeptables-dcn/model_stats.csv')\n",
    "\n",
    "model_stats_dnn = pd.read_csv('../input/a-model-built-on-garbage-deeptables/model_stats.csv')\n",
    "\n",
    "model_stats_pnn = pd.read_csv('../input/a-model-built-on-garbage-deeptables-pnn/model_stats.csv')"
   ]
  },
  {
   "cell_type": "code",
   "execution_count": 7,
   "metadata": {
    "execution": {
     "iopub.execute_input": "2020-09-06T15:06:14.296465Z",
     "iopub.status.busy": "2020-09-06T15:06:14.295742Z",
     "iopub.status.idle": "2020-09-06T15:06:16.770432Z",
     "shell.execute_reply": "2020-09-06T15:06:16.769718Z"
    },
    "papermill": {
     "duration": 2.49345,
     "end_time": "2020-09-06T15:06:16.770568",
     "exception": false,
     "start_time": "2020-09-06T15:06:14.277118",
     "status": "completed"
    },
    "tags": []
   },
   "outputs": [],
   "source": [
    "##ALL\n",
    "probs_file_cat = pd.read_csv('../input/lets-get-rid-of-the-patients-catboost/probs.csv')\n",
    "\n",
    "probs_file_lgb = pd.read_csv('../input/lets-get-rid-of-the-patients/probs.csv')\n",
    "\n",
    "probs_file_xgb = pd.read_csv('../input/lets-get-rid-of-the-patients-xgboost/probs.csv')\n",
    "\n",
    "probs_file_dcn = pd.read_csv('../input/a-model-built-on-garbage-deeptables-dcn/probs.csv')\n",
    "\n",
    "probs_file_dnn = pd.read_csv('../input/a-model-built-on-garbage-deeptables/probs.csv')\n",
    "\n",
    "probs_file_pnn = pd.read_csv('../input/a-model-built-on-garbage-deeptables-pnn/probs.csv')"
   ]
  },
  {
   "cell_type": "code",
   "execution_count": 8,
   "metadata": {
    "execution": {
     "iopub.execute_input": "2020-09-06T15:06:16.799478Z",
     "iopub.status.busy": "2020-09-06T15:06:16.798485Z",
     "iopub.status.idle": "2020-09-06T15:06:16.801611Z",
     "shell.execute_reply": "2020-09-06T15:06:16.800903Z"
    },
    "papermill": {
     "duration": 0.0191,
     "end_time": "2020-09-06T15:06:16.801747",
     "exception": false,
     "start_time": "2020-09-06T15:06:16.782647",
     "status": "completed"
    },
    "tags": []
   },
   "outputs": [],
   "source": [
    "#Public LB==44.2814928313451\n",
    "#sample_probs_file.iloc[:,1:] = probs_file_dcn.iloc[:,1:] + probs_file_pnn.iloc[:,1:]\n",
    "\n",
    "#sample_probs_file.head()"
   ]
  },
  {
   "cell_type": "code",
   "execution_count": 9,
   "metadata": {
    "execution": {
     "iopub.execute_input": "2020-09-06T15:06:16.830373Z",
     "iopub.status.busy": "2020-09-06T15:06:16.829290Z",
     "iopub.status.idle": "2020-09-06T15:06:16.832634Z",
     "shell.execute_reply": "2020-09-06T15:06:16.831886Z"
    },
    "papermill": {
     "duration": 0.019204,
     "end_time": "2020-09-06T15:06:16.832779",
     "exception": false,
     "start_time": "2020-09-06T15:06:16.813575",
     "status": "completed"
    },
    "tags": []
   },
   "outputs": [],
   "source": [
    "#generate_submission_file(sample_probs_file)"
   ]
  },
  {
   "cell_type": "markdown",
   "execution_count": null,
   "metadata": {
    "papermill": {
     "duration": 0.011484,
     "end_time": "2020-09-06T15:06:16.856233",
     "exception": false,
     "start_time": "2020-09-06T15:06:16.844749",
     "status": "completed"
    },
    "tags": []
   },
   "source": [
    "# Get Min Loss Indices"
   ]
  },
  {
   "cell_type": "code",
   "execution_count": 10,
   "metadata": {
    "execution": {
     "iopub.execute_input": "2020-09-06T15:06:16.886576Z",
     "iopub.status.busy": "2020-09-06T15:06:16.885491Z",
     "iopub.status.idle": "2020-09-06T15:06:16.889764Z",
     "shell.execute_reply": "2020-09-06T15:06:16.889169Z"
    },
    "papermill": {
     "duration": 0.021979,
     "end_time": "2020-09-06T15:06:16.889904",
     "exception": false,
     "start_time": "2020-09-06T15:06:16.867925",
     "status": "completed"
    },
    "tags": []
   },
   "outputs": [
    {
     "data": {
      "text/plain": [
       "array([37, 68, 69, 38, 21, 65, 39, 35, 24, 15,  0, 59, 67, 22, 47, 50, 66,\n",
       "       49, 45, 31, 54, 52, 17, 46, 28, 71,  2, 13, 33, 62, 51, 60, 36, 25,\n",
       "       10, 53,  4, 73,  3, 57, 63,  7, 74, 70, 58, 44, 12, 19, 61, 11, 32,\n",
       "        1, 26, 72, 18, 16, 34, 27, 30, 43, 20,  8, 48, 29, 14, 64, 40, 23,\n",
       "        5, 42, 55,  9, 56, 41,  6])"
      ]
     },
     "execution_count": 10,
     "metadata": {},
     "output_type": "execute_result"
    }
   ],
   "source": [
    "min_loss_index_lgb = np.argsort(model_stats_catboost.validation_loss.values)\n",
    "\n",
    "min_loss_index_lgb"
   ]
  },
  {
   "cell_type": "code",
   "execution_count": 11,
   "metadata": {
    "execution": {
     "iopub.execute_input": "2020-09-06T15:06:16.930918Z",
     "iopub.status.busy": "2020-09-06T15:06:16.929567Z",
     "iopub.status.idle": "2020-09-06T15:06:16.934468Z",
     "shell.execute_reply": "2020-09-06T15:06:16.931853Z"
    },
    "papermill": {
     "duration": 0.032476,
     "end_time": "2020-09-06T15:06:16.934609",
     "exception": false,
     "start_time": "2020-09-06T15:06:16.902133",
     "status": "completed"
    },
    "tags": []
   },
   "outputs": [
    {
     "data": {
      "text/plain": [
       "array([68, 67, 69, 66, 65, 38, 35, 37, 36, 53, 39, 45, 52, 24, 51, 21, 22,\n",
       "       48, 20, 23, 46, 16,  2,  3, 47, 54, 15, 18,  1, 50,  0, 17, 57, 33,\n",
       "       59, 19, 56,  4, 26, 49, 25, 58, 32, 28, 31, 55, 30, 12, 13, 11, 27,\n",
       "       10, 29, 63, 14, 40, 62, 34, 61, 60, 64, 41, 42, 43, 71, 72, 70, 74,\n",
       "       44,  6, 73,  8,  5,  7,  9])"
      ]
     },
     "execution_count": 11,
     "metadata": {},
     "output_type": "execute_result"
    }
   ],
   "source": [
    "min_loss_index_xgb = np.argsort(model_stats_xgb.validation_loss.values)\n",
    "\n",
    "min_loss_index_xgb"
   ]
  },
  {
   "cell_type": "code",
   "execution_count": 12,
   "metadata": {
    "execution": {
     "iopub.execute_input": "2020-09-06T15:06:16.975136Z",
     "iopub.status.busy": "2020-09-06T15:06:16.974003Z",
     "iopub.status.idle": "2020-09-06T15:06:16.978810Z",
     "shell.execute_reply": "2020-09-06T15:06:16.977972Z"
    },
    "papermill": {
     "duration": 0.029185,
     "end_time": "2020-09-06T15:06:16.978990",
     "exception": false,
     "start_time": "2020-09-06T15:06:16.949805",
     "status": "completed"
    },
    "tags": []
   },
   "outputs": [
    {
     "data": {
      "text/plain": [
       "array([37, 68, 69, 38, 21, 65, 39, 35, 24, 15,  0, 59, 67, 22, 47, 50, 66,\n",
       "       49, 45, 31, 54, 52, 17, 46, 28, 71,  2, 13, 33, 62, 51, 60, 36, 25,\n",
       "       10, 53,  4, 73,  3, 57, 63,  7, 74, 70, 58, 44, 12, 19, 61, 11, 32,\n",
       "        1, 26, 72, 18, 16, 34, 27, 30, 43, 20,  8, 48, 29, 14, 64, 40, 23,\n",
       "        5, 42, 55,  9, 56, 41,  6])"
      ]
     },
     "execution_count": 12,
     "metadata": {},
     "output_type": "execute_result"
    }
   ],
   "source": [
    "min_loss_index_cat = np.argsort(model_stats_catboost.validation_loss.values)\n",
    "\n",
    "min_loss_index_cat"
   ]
  },
  {
   "cell_type": "code",
   "execution_count": 13,
   "metadata": {
    "execution": {
     "iopub.execute_input": "2020-09-06T15:06:17.021418Z",
     "iopub.status.busy": "2020-09-06T15:06:17.020485Z",
     "iopub.status.idle": "2020-09-06T15:06:17.028215Z",
     "shell.execute_reply": "2020-09-06T15:06:17.027427Z"
    },
    "papermill": {
     "duration": 0.03116,
     "end_time": "2020-09-06T15:06:17.028351",
     "exception": false,
     "start_time": "2020-09-06T15:06:16.997191",
     "status": "completed"
    },
    "tags": []
   },
   "outputs": [
    {
     "data": {
      "text/plain": [
       "array([67, 35, 22, 21, 66, 37, 38, 68, 69, 36, 24, 65, 18, 23, 20, 29, 27,\n",
       "       16, 19, 54, 28, 39, 45, 47,  0,  1, 50, 34, 46,  3, 48, 53, 10, 15,\n",
       "       57, 56,  4, 13, 14, 31, 59,  2, 58, 51, 63, 25, 32, 17, 62, 64, 71,\n",
       "       61, 49, 30, 11, 55, 74, 52, 72, 12, 41, 26, 70, 73, 40, 43, 33, 44,\n",
       "        6,  7, 60,  8,  9, 42,  5])"
      ]
     },
     "execution_count": 13,
     "metadata": {},
     "output_type": "execute_result"
    }
   ],
   "source": [
    "min_loss_index_dcn = np.argsort(model_stats_dcn.validation_loss.values)\n",
    "\n",
    "min_loss_index_dcn"
   ]
  },
  {
   "cell_type": "code",
   "execution_count": 14,
   "metadata": {
    "execution": {
     "iopub.execute_input": "2020-09-06T15:06:17.065022Z",
     "iopub.status.busy": "2020-09-06T15:06:17.064051Z",
     "iopub.status.idle": "2020-09-06T15:06:17.069178Z",
     "shell.execute_reply": "2020-09-06T15:06:17.068543Z"
    },
    "papermill": {
     "duration": 0.027251,
     "end_time": "2020-09-06T15:06:17.069313",
     "exception": false,
     "start_time": "2020-09-06T15:06:17.042062",
     "status": "completed"
    },
    "tags": []
   },
   "outputs": [
    {
     "data": {
      "text/plain": [
       "array([65, 68, 67, 39, 69, 37, 38, 20, 35, 66, 36, 23, 22, 27, 21, 18, 24,\n",
       "       28, 48, 25, 16, 29, 49, 19,  4, 26, 45,  0, 15, 57, 59, 50, 46, 51,\n",
       "       54, 17,  3, 63, 55, 31, 30, 32, 58, 47, 61, 14,  2,  1, 56, 62, 34,\n",
       "       11, 10, 13, 64, 33, 60, 70, 12, 74, 52, 72, 73, 71, 53, 40, 43, 44,\n",
       "       41,  8,  5,  7,  9, 42,  6])"
      ]
     },
     "execution_count": 14,
     "metadata": {},
     "output_type": "execute_result"
    }
   ],
   "source": [
    "min_loss_index_dnn = np.argsort(model_stats_dnn.validation_loss.values)\n",
    "\n",
    "min_loss_index_dnn"
   ]
  },
  {
   "cell_type": "code",
   "execution_count": 15,
   "metadata": {
    "execution": {
     "iopub.execute_input": "2020-09-06T15:06:17.103234Z",
     "iopub.status.busy": "2020-09-06T15:06:17.102100Z",
     "iopub.status.idle": "2020-09-06T15:06:17.105666Z",
     "shell.execute_reply": "2020-09-06T15:06:17.106293Z"
    },
    "papermill": {
     "duration": 0.023683,
     "end_time": "2020-09-06T15:06:17.106471",
     "exception": false,
     "start_time": "2020-09-06T15:06:17.082788",
     "status": "completed"
    },
    "tags": []
   },
   "outputs": [
    {
     "data": {
      "text/plain": [
       "array([69, 68, 67, 24, 36, 65, 23, 21, 37, 38, 66, 22, 35, 39, 20, 26, 49,\n",
       "       27, 47, 28, 45, 48, 16, 57, 58,  1, 17, 55, 46, 19,  2, 15, 29, 59,\n",
       "        4, 56,  3, 50, 54, 25, 18, 52, 61, 32, 53, 34,  0, 30, 51, 31, 60,\n",
       "       63, 64, 33, 72, 14, 70, 11, 12, 10, 13, 62, 71, 42, 74, 43, 73, 44,\n",
       "       41,  7, 40,  5,  6,  9,  8])"
      ]
     },
     "execution_count": 15,
     "metadata": {},
     "output_type": "execute_result"
    }
   ],
   "source": [
    "min_loss_index_pnn = np.argsort(model_stats_pnn.validation_loss.values)\n",
    "\n",
    "min_loss_index_pnn"
   ]
  },
  {
   "cell_type": "markdown",
   "execution_count": null,
   "metadata": {
    "papermill": {
     "duration": 0.013257,
     "end_time": "2020-09-06T15:06:17.133435",
     "exception": false,
     "start_time": "2020-09-06T15:06:17.120178",
     "status": "completed"
    },
    "tags": []
   },
   "source": [
    "# Get Max Accuracy indices"
   ]
  },
  {
   "cell_type": "code",
   "execution_count": 16,
   "metadata": {
    "execution": {
     "iopub.execute_input": "2020-09-06T15:06:17.166403Z",
     "iopub.status.busy": "2020-09-06T15:06:17.165526Z",
     "iopub.status.idle": "2020-09-06T15:06:17.170544Z",
     "shell.execute_reply": "2020-09-06T15:06:17.169958Z"
    },
    "papermill": {
     "duration": 0.024134,
     "end_time": "2020-09-06T15:06:17.170671",
     "exception": false,
     "start_time": "2020-09-06T15:06:17.146537",
     "status": "completed"
    },
    "tags": []
   },
   "outputs": [
    {
     "data": {
      "text/plain": [
       "array([68, 37,  0, 49, 65, 38,  4, 71, 66, 13, 46, 51, 45, 69, 12, 24,  2,\n",
       "       47,  3, 10, 35, 48, 36, 33, 54, 25,  1, 14, 21, 59, 28, 39, 50, 67,\n",
       "       53, 31, 27, 52,  8, 63, 70, 74, 44, 15, 62, 26, 32, 73,  7, 34, 29,\n",
       "       22, 61, 20, 17, 11,  5, 57, 72,  9, 23, 58, 18, 30, 60, 42, 40, 64,\n",
       "       56, 43, 55, 16,  6, 19, 41])"
      ]
     },
     "execution_count": 16,
     "metadata": {},
     "output_type": "execute_result"
    }
   ],
   "source": [
    "max_accuracy_index_catboost = np.argsort(-model_stats_catboost.accuracy.values)\n",
    "\n",
    "max_accuracy_index_catboost"
   ]
  },
  {
   "cell_type": "code",
   "execution_count": 17,
   "metadata": {
    "execution": {
     "iopub.execute_input": "2020-09-06T15:06:17.204155Z",
     "iopub.status.busy": "2020-09-06T15:06:17.203376Z",
     "iopub.status.idle": "2020-09-06T15:06:17.206585Z",
     "shell.execute_reply": "2020-09-06T15:06:17.207305Z"
    },
    "papermill": {
     "duration": 0.023517,
     "end_time": "2020-09-06T15:06:17.207457",
     "exception": false,
     "start_time": "2020-09-06T15:06:17.183940",
     "status": "completed"
    },
    "tags": []
   },
   "outputs": [
    {
     "data": {
      "text/plain": [
       "array([67, 69, 38, 48, 65, 68, 66, 46, 37, 36, 35, 45, 10, 49, 26, 50, 47,\n",
       "       29, 39, 27,  9, 23, 52,  1, 13, 11, 28, 21, 53, 25,  6, 14, 12, 64,\n",
       "       22, 62,  4,  2, 34, 33,  5, 24, 30,  8, 31, 20,  0, 41, 32, 57, 44,\n",
       "       54,  7, 71, 63, 73, 19,  3, 60, 70, 18, 59, 51, 55, 56, 61, 17, 72,\n",
       "       74, 40, 42, 58, 16, 43, 15])"
      ]
     },
     "execution_count": 17,
     "metadata": {},
     "output_type": "execute_result"
    }
   ],
   "source": [
    "max_accuracy_index_lgb = np.argsort(-model_stats_lgb.accuracy.values)\n",
    "\n",
    "max_accuracy_index_lgb"
   ]
  },
  {
   "cell_type": "code",
   "execution_count": 18,
   "metadata": {
    "execution": {
     "iopub.execute_input": "2020-09-06T15:06:17.241445Z",
     "iopub.status.busy": "2020-09-06T15:06:17.240570Z",
     "iopub.status.idle": "2020-09-06T15:06:17.245555Z",
     "shell.execute_reply": "2020-09-06T15:06:17.244995Z"
    },
    "papermill": {
     "duration": 0.024641,
     "end_time": "2020-09-06T15:06:17.245685",
     "exception": false,
     "start_time": "2020-09-06T15:06:17.221044",
     "status": "completed"
    },
    "tags": []
   },
   "outputs": [
    {
     "data": {
      "text/plain": [
       "array([65, 68, 69, 66, 67, 14, 37, 46, 45,  4, 38, 12, 36, 48, 49,  3,  2,\n",
       "       11,  0, 10, 13,  1, 35, 53, 33, 47, 71, 23, 73, 51, 24, 64, 50, 54,\n",
       "       52,  5, 31, 28, 21, 20, 62, 72,  9, 27, 16, 25,  6, 29, 39,  8, 57,\n",
       "       22, 32, 70, 30, 26, 40, 15, 59, 74, 43, 60, 58,  7, 61, 18, 19, 34,\n",
       "       56, 63, 41, 55, 17, 42, 44])"
      ]
     },
     "execution_count": 18,
     "metadata": {},
     "output_type": "execute_result"
    }
   ],
   "source": [
    "max_accuracy_index_xgb = np.argsort(-model_stats_xgb.accuracy.values)\n",
    "\n",
    "max_accuracy_index_xgb"
   ]
  },
  {
   "cell_type": "code",
   "execution_count": 19,
   "metadata": {
    "execution": {
     "iopub.execute_input": "2020-09-06T15:06:17.280899Z",
     "iopub.status.busy": "2020-09-06T15:06:17.279781Z",
     "iopub.status.idle": "2020-09-06T15:06:17.284215Z",
     "shell.execute_reply": "2020-09-06T15:06:17.283622Z"
    },
    "papermill": {
     "duration": 0.024835,
     "end_time": "2020-09-06T15:06:17.284341",
     "exception": false,
     "start_time": "2020-09-06T15:06:17.259506",
     "status": "completed"
    },
    "tags": []
   },
   "outputs": [
    {
     "data": {
      "text/plain": [
       "array([67, 68, 69, 38, 65, 35, 66,  0, 21, 18, 37, 50, 34, 52, 46, 53, 48,\n",
       "       32, 28, 17, 45, 25, 22, 51, 36, 31, 57, 19, 11, 56, 73, 44, 58, 39,\n",
       "       15, 24, 71, 54,  3, 47, 40, 23, 62,  8,  6,  9, 12, 10,  1, 41,  5,\n",
       "       72,  4, 49, 20, 27, 16, 13,  7, 43, 30, 29, 61, 33,  2, 60, 59, 55,\n",
       "       14, 64, 26, 70, 42, 74, 63])"
      ]
     },
     "execution_count": 19,
     "metadata": {},
     "output_type": "execute_result"
    }
   ],
   "source": [
    "max_accuracy_index_dcn = np.argsort(-model_stats_dcn.accuracy.values)\n",
    "\n",
    "max_accuracy_index_dcn"
   ]
  },
  {
   "cell_type": "code",
   "execution_count": 20,
   "metadata": {
    "execution": {
     "iopub.execute_input": "2020-09-06T15:06:17.319265Z",
     "iopub.status.busy": "2020-09-06T15:06:17.318310Z",
     "iopub.status.idle": "2020-09-06T15:06:17.322418Z",
     "shell.execute_reply": "2020-09-06T15:06:17.322963Z"
    },
    "papermill": {
     "duration": 0.024856,
     "end_time": "2020-09-06T15:06:17.323119",
     "exception": false,
     "start_time": "2020-09-06T15:06:17.298263",
     "status": "completed"
    },
    "tags": []
   },
   "outputs": [
    {
     "data": {
      "text/plain": [
       "array([67, 69, 68, 66, 65, 39, 18, 49, 35, 27, 31, 26, 36, 32, 48, 57, 38,\n",
       "       47, 45, 30, 23, 34, 40, 15, 13, 29,  8, 21, 28, 44, 37,  6, 46, 70,\n",
       "       22,  0, 62, 19, 17, 56, 43,  4, 55, 11, 20, 54, 50, 41, 24, 58, 73,\n",
       "       53, 16,  7,  5, 74, 25, 51,  3,  9, 52, 71, 63, 64, 61,  2, 14, 42,\n",
       "       33, 59, 72, 12, 10, 60,  1])"
      ]
     },
     "execution_count": 20,
     "metadata": {},
     "output_type": "execute_result"
    }
   ],
   "source": [
    "max_accuracy_index_dnn = np.argsort(-model_stats_dnn.accuracy.values)\n",
    "\n",
    "max_accuracy_index_dnn"
   ]
  },
  {
   "cell_type": "code",
   "execution_count": 21,
   "metadata": {
    "execution": {
     "iopub.execute_input": "2020-09-06T15:06:17.359064Z",
     "iopub.status.busy": "2020-09-06T15:06:17.358226Z",
     "iopub.status.idle": "2020-09-06T15:06:17.364506Z",
     "shell.execute_reply": "2020-09-06T15:06:17.363870Z"
    },
    "papermill": {
     "duration": 0.026883,
     "end_time": "2020-09-06T15:06:17.364626",
     "exception": false,
     "start_time": "2020-09-06T15:06:17.337743",
     "status": "completed"
    },
    "tags": []
   },
   "outputs": [
    {
     "data": {
      "text/plain": [
       "array([66, 69, 35, 67, 65, 68, 49, 36, 48, 47, 37, 45, 70, 32, 57, 39, 38,\n",
       "       26, 55, 29, 27, 14, 16, 30, 42, 34, 23, 52, 22, 51, 17, 33, 50, 24,\n",
       "       46,  3, 25, 19, 28, 11, 15, 21, 64, 13, 71, 53,  4, 18, 73, 12, 59,\n",
       "        9, 58, 56, 10, 31,  8, 62, 41, 54, 43,  2,  6,  7, 20, 44,  1, 40,\n",
       "       61, 63, 60,  0,  5, 72, 74])"
      ]
     },
     "execution_count": 21,
     "metadata": {},
     "output_type": "execute_result"
    }
   ],
   "source": [
    "max_accuracy_index_pnn = np.argsort(-model_stats_pnn.accuracy.values)\n",
    "\n",
    "max_accuracy_index_pnn"
   ]
  },
  {
   "cell_type": "markdown",
   "execution_count": null,
   "metadata": {
    "papermill": {
     "duration": 0.014204,
     "end_time": "2020-09-06T15:06:17.393341",
     "exception": false,
     "start_time": "2020-09-06T15:06:17.379137",
     "status": "completed"
    },
    "tags": []
   },
   "source": [
    "# Ensembling based on Min Loss"
   ]
  },
  {
   "cell_type": "code",
   "execution_count": 22,
   "metadata": {
    "execution": {
     "iopub.execute_input": "2020-09-06T15:06:17.427390Z",
     "iopub.status.busy": "2020-09-06T15:06:17.426604Z",
     "iopub.status.idle": "2020-09-06T15:06:17.829428Z",
     "shell.execute_reply": "2020-09-06T15:06:17.828713Z"
    },
    "papermill": {
     "duration": 0.421993,
     "end_time": "2020-09-06T15:06:17.829572",
     "exception": false,
     "start_time": "2020-09-06T15:06:17.407579",
     "status": "completed"
    },
    "tags": []
   },
   "outputs": [],
   "source": [
    "probs_df_loss = pd.read_csv('../input/lets-get-rid-of-the-patients-catboost/probs_32_0_0.csv')"
   ]
  },
  {
   "cell_type": "code",
   "execution_count": 23,
   "metadata": {
    "execution": {
     "iopub.execute_input": "2020-09-06T15:06:17.866697Z",
     "iopub.status.busy": "2020-09-06T15:06:17.865986Z",
     "iopub.status.idle": "2020-09-06T15:06:17.869226Z",
     "shell.execute_reply": "2020-09-06T15:06:17.868652Z"
    },
    "papermill": {
     "duration": 0.025188,
     "end_time": "2020-09-06T15:06:17.869349",
     "exception": false,
     "start_time": "2020-09-06T15:06:17.844161",
     "status": "completed"
    },
    "tags": []
   },
   "outputs": [],
   "source": [
    "def cal_probs_loss(model_name,model_stats_df,min_loss_idx_arr,model_iter):\n",
    "    \n",
    "    probs_cal_loss = np.zeros(shape=(137057,11))\n",
    "\n",
    "    for i,idx in enumerate(min_loss_idx_arr):\n",
    "    \n",
    "        probs_cal_loss += pd.read_csv(get_probs_file_name(model_stats_df.iloc[idx,0],model_name)).iloc[:,1:]\n",
    "    \n",
    "        if i == model_iter:\n",
    "        \n",
    "            break\n",
    "        \n",
    "    probs_df_loss.iloc[:,1:] = probs_cal_loss\n",
    "\n",
    "    #print(probs_df_loss.head())\n",
    "\n",
    "    return probs_cal_loss\n",
    "    "
   ]
  },
  {
   "cell_type": "markdown",
   "execution_count": null,
   "metadata": {
    "papermill": {
     "duration": 0.014136,
     "end_time": "2020-09-06T15:06:17.897752",
     "exception": false,
     "start_time": "2020-09-06T15:06:17.883616",
     "status": "completed"
    },
    "tags": []
   },
   "source": [
    "# Ensembling based on Max Accuracy"
   ]
  },
  {
   "cell_type": "code",
   "execution_count": 24,
   "metadata": {
    "execution": {
     "iopub.execute_input": "2020-09-06T15:06:17.932112Z",
     "iopub.status.busy": "2020-09-06T15:06:17.931373Z",
     "iopub.status.idle": "2020-09-06T15:06:18.332768Z",
     "shell.execute_reply": "2020-09-06T15:06:18.333422Z"
    },
    "papermill": {
     "duration": 0.421543,
     "end_time": "2020-09-06T15:06:18.333607",
     "exception": false,
     "start_time": "2020-09-06T15:06:17.912064",
     "status": "completed"
    },
    "tags": []
   },
   "outputs": [],
   "source": [
    "probs_df_acc = pd.read_csv('../input/lets-get-rid-of-the-patients-catboost/probs_32_0_0.csv')"
   ]
  },
  {
   "cell_type": "code",
   "execution_count": 25,
   "metadata": {
    "execution": {
     "iopub.execute_input": "2020-09-06T15:06:18.375914Z",
     "iopub.status.busy": "2020-09-06T15:06:18.374777Z",
     "iopub.status.idle": "2020-09-06T15:06:18.377780Z",
     "shell.execute_reply": "2020-09-06T15:06:18.378352Z"
    },
    "papermill": {
     "duration": 0.02985,
     "end_time": "2020-09-06T15:06:18.378515",
     "exception": false,
     "start_time": "2020-09-06T15:06:18.348665",
     "status": "completed"
    },
    "tags": []
   },
   "outputs": [],
   "source": [
    "def cal_probs_acc(model_name,model_stats_df,max_accuracy_idx_arr,model_iter):\n",
    "    \n",
    "    probs_cal_acc = np.zeros(shape=(137057,11))\n",
    "\n",
    "    for i,idx in enumerate(max_accuracy_idx_arr):\n",
    "\n",
    "        probs_cal_acc += pd.read_csv(get_probs_file_name(model_stats_df.iloc[idx,0],model_name)).iloc[:,1:]\n",
    "\n",
    "        if i ==model_iter:\n",
    "\n",
    "            break\n",
    "\n",
    "    #print(probs_cal_acc.head())\n",
    "    \n",
    "    return probs_cal_acc\n",
    "    "
   ]
  },
  {
   "cell_type": "code",
   "execution_count": 26,
   "metadata": {
    "execution": {
     "iopub.execute_input": "2020-09-06T15:06:18.412640Z",
     "iopub.status.busy": "2020-09-06T15:06:18.411896Z",
     "iopub.status.idle": "2020-09-06T15:06:18.415246Z",
     "shell.execute_reply": "2020-09-06T15:06:18.414655Z"
    },
    "papermill": {
     "duration": 0.021917,
     "end_time": "2020-09-06T15:06:18.415371",
     "exception": false,
     "start_time": "2020-09-06T15:06:18.393454",
     "status": "completed"
    },
    "tags": []
   },
   "outputs": [],
   "source": [
    "#probs_df_acc.iloc[:,1:] = cal_probs_acc('dcn',model_stats_dcn,max_accuracy_index_dcn,75)\n",
    "\n",
    "#probs_df_acc.head()"
   ]
  },
  {
   "cell_type": "code",
   "execution_count": 27,
   "metadata": {
    "execution": {
     "iopub.execute_input": "2020-09-06T15:06:18.449895Z",
     "iopub.status.busy": "2020-09-06T15:06:18.449095Z",
     "iopub.status.idle": "2020-09-06T15:06:18.451954Z",
     "shell.execute_reply": "2020-09-06T15:06:18.452549Z"
    },
    "papermill": {
     "duration": 0.022668,
     "end_time": "2020-09-06T15:06:18.452701",
     "exception": false,
     "start_time": "2020-09-06T15:06:18.430033",
     "status": "completed"
    },
    "tags": []
   },
   "outputs": [],
   "source": [
    "#generate_submission_file(probs_df_acc)"
   ]
  },
  {
   "cell_type": "code",
   "execution_count": 28,
   "metadata": {
    "execution": {
     "iopub.execute_input": "2020-09-06T15:06:18.486903Z",
     "iopub.status.busy": "2020-09-06T15:06:18.486103Z",
     "iopub.status.idle": "2020-09-06T15:06:18.488502Z",
     "shell.execute_reply": "2020-09-06T15:06:18.489031Z"
    },
    "papermill": {
     "duration": 0.021855,
     "end_time": "2020-09-06T15:06:18.489182",
     "exception": false,
     "start_time": "2020-09-06T15:06:18.467327",
     "status": "completed"
    },
    "tags": []
   },
   "outputs": [],
   "source": [
    "#probs_acc_dcn = cal_probs_acc('dcn',model_stats_dcn,max_accuracy_index_dcn,75) \n",
    "    \n",
    "#probs_acc_pnn = cal_probs_acc('pnn',model_stats_pnn,max_accuracy_index_pnn,6) \n",
    "    \n",
    "#probs_acc_lgb = cal_probs_acc('lgb',model_stats_lgb,max_accuracy_index_lgb,1) \n",
    "    \n",
    "#probs_df_acc.iloc[:,1:] = probs_acc_dcn + probs_acc_pnn #+probs_acc_lgb\n",
    "\n",
    "#probs_df_acc.head()"
   ]
  },
  {
   "cell_type": "code",
   "execution_count": 29,
   "metadata": {
    "execution": {
     "iopub.execute_input": "2020-09-06T15:06:18.523707Z",
     "iopub.status.busy": "2020-09-06T15:06:18.522988Z",
     "iopub.status.idle": "2020-09-06T15:06:18.525585Z",
     "shell.execute_reply": "2020-09-06T15:06:18.526116Z"
    },
    "papermill": {
     "duration": 0.022325,
     "end_time": "2020-09-06T15:06:18.526267",
     "exception": false,
     "start_time": "2020-09-06T15:06:18.503942",
     "status": "completed"
    },
    "tags": []
   },
   "outputs": [],
   "source": [
    "#generate_submission_file(probs_df_acc)"
   ]
  },
  {
   "cell_type": "code",
   "execution_count": 30,
   "metadata": {
    "execution": {
     "iopub.execute_input": "2020-09-06T15:06:18.564270Z",
     "iopub.status.busy": "2020-09-06T15:06:18.563564Z",
     "iopub.status.idle": "2020-09-06T15:06:21.256587Z",
     "shell.execute_reply": "2020-09-06T15:06:21.257266Z"
    },
    "papermill": {
     "duration": 2.71628,
     "end_time": "2020-09-06T15:06:21.257430",
     "exception": false,
     "start_time": "2020-09-06T15:06:18.541150",
     "status": "completed"
    },
    "tags": []
   },
   "outputs": [
    {
     "data": {
      "text/html": [
       "<div>\n",
       "<style scoped>\n",
       "    .dataframe tbody tr th:only-of-type {\n",
       "        vertical-align: middle;\n",
       "    }\n",
       "\n",
       "    .dataframe tbody tr th {\n",
       "        vertical-align: top;\n",
       "    }\n",
       "\n",
       "    .dataframe thead th {\n",
       "        text-align: right;\n",
       "    }\n",
       "</style>\n",
       "<table border=\"1\" class=\"dataframe\">\n",
       "  <thead>\n",
       "    <tr style=\"text-align: right;\">\n",
       "      <th></th>\n",
       "      <th>case_id</th>\n",
       "      <th>0-10</th>\n",
       "      <th>11-20</th>\n",
       "      <th>21-30</th>\n",
       "      <th>31-40</th>\n",
       "      <th>41-50</th>\n",
       "      <th>51-60</th>\n",
       "      <th>61-70</th>\n",
       "      <th>71-80</th>\n",
       "      <th>81-90</th>\n",
       "      <th>91-100</th>\n",
       "      <th>More than 100 Days</th>\n",
       "    </tr>\n",
       "  </thead>\n",
       "  <tbody>\n",
       "    <tr>\n",
       "      <th>0</th>\n",
       "      <td>318439</td>\n",
       "      <td>2.699484</td>\n",
       "      <td>0.695464</td>\n",
       "      <td>1.134070</td>\n",
       "      <td>0.542088</td>\n",
       "      <td>0.528728</td>\n",
       "      <td>0.360367</td>\n",
       "      <td>0.080884</td>\n",
       "      <td>0.091137</td>\n",
       "      <td>0.056818</td>\n",
       "      <td>0.019598</td>\n",
       "      <td>0.046362</td>\n",
       "    </tr>\n",
       "    <tr>\n",
       "      <th>1</th>\n",
       "      <td>318440</td>\n",
       "      <td>0.000001</td>\n",
       "      <td>0.080210</td>\n",
       "      <td>0.024169</td>\n",
       "      <td>1.149419</td>\n",
       "      <td>0.056204</td>\n",
       "      <td>3.711188</td>\n",
       "      <td>0.022070</td>\n",
       "      <td>0.946579</td>\n",
       "      <td>0.039384</td>\n",
       "      <td>0.157297</td>\n",
       "      <td>0.068480</td>\n",
       "    </tr>\n",
       "    <tr>\n",
       "      <th>2</th>\n",
       "      <td>318441</td>\n",
       "      <td>0.675040</td>\n",
       "      <td>1.618549</td>\n",
       "      <td>2.399676</td>\n",
       "      <td>0.990677</td>\n",
       "      <td>0.353948</td>\n",
       "      <td>0.137785</td>\n",
       "      <td>0.048818</td>\n",
       "      <td>0.021967</td>\n",
       "      <td>0.002871</td>\n",
       "      <td>0.004194</td>\n",
       "      <td>0.001474</td>\n",
       "    </tr>\n",
       "    <tr>\n",
       "      <th>3</th>\n",
       "      <td>318442</td>\n",
       "      <td>0.078064</td>\n",
       "      <td>1.049109</td>\n",
       "      <td>4.047172</td>\n",
       "      <td>0.811801</td>\n",
       "      <td>0.183442</td>\n",
       "      <td>0.071124</td>\n",
       "      <td>0.011184</td>\n",
       "      <td>0.002672</td>\n",
       "      <td>0.000167</td>\n",
       "      <td>0.000202</td>\n",
       "      <td>0.000062</td>\n",
       "    </tr>\n",
       "    <tr>\n",
       "      <th>4</th>\n",
       "      <td>318443</td>\n",
       "      <td>0.000004</td>\n",
       "      <td>0.090884</td>\n",
       "      <td>0.035379</td>\n",
       "      <td>0.907488</td>\n",
       "      <td>0.040696</td>\n",
       "      <td>4.231043</td>\n",
       "      <td>0.012550</td>\n",
       "      <td>0.799780</td>\n",
       "      <td>0.008104</td>\n",
       "      <td>0.110669</td>\n",
       "      <td>0.018404</td>\n",
       "    </tr>\n",
       "  </tbody>\n",
       "</table>\n",
       "</div>"
      ],
      "text/plain": [
       "   case_id      0-10     11-20     21-30     31-40     41-50     51-60  \\\n",
       "0   318439  2.699484  0.695464  1.134070  0.542088  0.528728  0.360367   \n",
       "1   318440  0.000001  0.080210  0.024169  1.149419  0.056204  3.711188   \n",
       "2   318441  0.675040  1.618549  2.399676  0.990677  0.353948  0.137785   \n",
       "3   318442  0.078064  1.049109  4.047172  0.811801  0.183442  0.071124   \n",
       "4   318443  0.000004  0.090884  0.035379  0.907488  0.040696  4.231043   \n",
       "\n",
       "      61-70     71-80     81-90    91-100  More than 100 Days  \n",
       "0  0.080884  0.091137  0.056818  0.019598            0.046362  \n",
       "1  0.022070  0.946579  0.039384  0.157297            0.068480  \n",
       "2  0.048818  0.021967  0.002871  0.004194            0.001474  \n",
       "3  0.011184  0.002672  0.000167  0.000202            0.000062  \n",
       "4  0.012550  0.799780  0.008104  0.110669            0.018404  "
      ]
     },
     "execution_count": 30,
     "metadata": {},
     "output_type": "execute_result"
    }
   ],
   "source": [
    "# Best Public LB == 44.3508080698\n",
    "probs_loss_dcn = cal_probs_loss('dcn',model_stats_dcn,min_loss_index_dcn,2) \n",
    "    \n",
    "probs_loss_pnn = cal_probs_loss('pnn',model_stats_pnn,min_loss_index_pnn,2)\n",
    "\n",
    "#probs_loss_dnn = cal_probs_loss('dnn',model_stats_dnn,min_loss_index_dnn,1) \n",
    "    \n",
    "#probs_loss_cat = cal_probs_loss('catboost',model_stats_catboost,min_loss_index_cat,1) \n",
    "    \n",
    "probs_df_loss.iloc[:,1:] = 1.075*probs_loss_dcn + 1.01*probs_loss_pnn #+ probs_loss_cat\n",
    "\n",
    "probs_df_loss.head()"
   ]
  },
  {
   "cell_type": "code",
   "execution_count": 31,
   "metadata": {
    "execution": {
     "iopub.execute_input": "2020-09-06T15:06:21.295545Z",
     "iopub.status.busy": "2020-09-06T15:06:21.294801Z",
     "iopub.status.idle": "2020-09-06T15:06:22.071534Z",
     "shell.execute_reply": "2020-09-06T15:06:22.072264Z"
    },
    "papermill": {
     "duration": 0.799096,
     "end_time": "2020-09-06T15:06:22.072438",
     "exception": false,
     "start_time": "2020-09-06T15:06:21.273342",
     "status": "completed"
    },
    "tags": []
   },
   "outputs": [
    {
     "name": "stdout",
     "output_type": "stream",
     "text": [
      "   case_id   Stay\n",
      "0   318439   0-10\n",
      "1   318440  51-60\n",
      "2   318441  21-30\n",
      "3   318442  21-30\n",
      "4   318443  51-60\n"
     ]
    }
   ],
   "source": [
    "generate_submission_file(probs_df_loss)"
   ]
  },
  {
   "cell_type": "code",
   "execution_count": null,
   "metadata": {
    "papermill": {
     "duration": 0.015094,
     "end_time": "2020-09-06T15:06:22.102906",
     "exception": false,
     "start_time": "2020-09-06T15:06:22.087812",
     "status": "completed"
    },
    "tags": []
   },
   "outputs": [],
   "source": []
  }
 ],
 "metadata": {
  "kernelspec": {
   "display_name": "Python 3",
   "language": "python",
   "name": "python3"
  },
  "language_info": {
   "codemirror_mode": {
    "name": "ipython",
    "version": 3
   },
   "file_extension": ".py",
   "mimetype": "text/x-python",
   "name": "python",
   "nbconvert_exporter": "python",
   "pygments_lexer": "ipython3",
   "version": "3.7.6"
  },
  "papermill": {
   "duration": 14.151572,
   "end_time": "2020-09-06T15:06:22.226416",
   "environment_variables": {},
   "exception": null,
   "input_path": "__notebook__.ipynb",
   "output_path": "__notebook__.ipynb",
   "parameters": {},
   "start_time": "2020-09-06T15:06:08.074844",
   "version": "2.1.0"
  }
 },
 "nbformat": 4,
 "nbformat_minor": 4
}
