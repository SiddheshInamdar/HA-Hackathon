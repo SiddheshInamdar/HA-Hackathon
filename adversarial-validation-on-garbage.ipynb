{
 "cells": [
  {
   "cell_type": "markdown",
   "execution_count": null,
   "metadata": {
    "_cell_guid": "b1511075-2040-1acf-08f8-db4ab6bed4e1",
    "papermill": {
     "duration": 0.0045,
     "end_time": "2020-09-06T07:27:40.074336",
     "exception": false,
     "start_time": "2020-09-06T07:27:40.069836",
     "status": "completed"
    },
    "tags": []
   },
   "source": [
    "[Adversarial validation][1]\n",
    "\n",
    "The general idea is to check the degree of similarity between training and tests in terms of feature distribution: if they are difficult to distinguish, the distribution is probably similar and the usual validation techniques should work. It does not seem to be the case, so we can suspect they are quite different. This intuition can be quantified by combining train and test sets, assigning 0/1 labels (0 - train, 1-test) and evaluating a binary classification task.\n",
    "\n",
    "\n",
    "  [1]: http://fastml.com/adversarial-validation-part-two/"
   ]
  },
  {
   "cell_type": "code",
   "execution_count": 1,
   "metadata": {
    "_cell_guid": "bcbf5e1a-6442-47ba-5435-7053db612903",
    "execution": {
     "iopub.execute_input": "2020-09-06T07:27:40.086722Z",
     "iopub.status.busy": "2020-09-06T07:27:40.086017Z",
     "iopub.status.idle": "2020-09-06T07:27:41.982602Z",
     "shell.execute_reply": "2020-09-06T07:27:41.981884Z"
    },
    "papermill": {
     "duration": 1.904859,
     "end_time": "2020-09-06T07:27:41.982765",
     "exception": false,
     "start_time": "2020-09-06T07:27:40.077906",
     "status": "completed"
    },
    "tags": []
   },
   "outputs": [],
   "source": [
    "import pandas as pd\n",
    "import numpy as np\n",
    "from sklearn.model_selection import StratifiedShuffleSplit\n",
    "import xgboost as xgb\n",
    "from sklearn.metrics import roc_auc_score\n",
    "from sklearn.preprocessing import LabelEncoder"
   ]
  },
  {
   "cell_type": "code",
   "execution_count": 2,
   "metadata": {
    "execution": {
     "iopub.execute_input": "2020-09-06T07:27:41.999172Z",
     "iopub.status.busy": "2020-09-06T07:27:41.998213Z",
     "iopub.status.idle": "2020-09-06T07:27:42.930506Z",
     "shell.execute_reply": "2020-09-06T07:27:42.929612Z"
    },
    "papermill": {
     "duration": 0.944428,
     "end_time": "2020-09-06T07:27:42.930695",
     "exception": false,
     "start_time": "2020-09-06T07:27:41.986267",
     "status": "completed"
    },
    "tags": []
   },
   "outputs": [],
   "source": [
    "train_data = pd.read_csv('../input/healthcareanalyticsii/train.csv')\n",
    "\n",
    "train_data.drop(['case_id', 'patientid', 'Stay'], axis = 1, inplace = True)\n",
    "\n",
    "test_data = pd.read_csv('../input/healthcareanalyticsii/test.csv')\n",
    "\n",
    "test_data.drop(['case_id', 'patientid'], axis = 1, inplace = True)"
   ]
  },
  {
   "cell_type": "code",
   "execution_count": 3,
   "metadata": {
    "_cell_guid": "3f4ffc92-a776-6715-b7f3-925f1547d4fc",
    "execution": {
     "iopub.execute_input": "2020-09-06T07:27:42.948996Z",
     "iopub.status.busy": "2020-09-06T07:27:42.947497Z",
     "iopub.status.idle": "2020-09-06T07:27:43.095692Z",
     "shell.execute_reply": "2020-09-06T07:27:43.095097Z"
    },
    "papermill": {
     "duration": 0.159675,
     "end_time": "2020-09-06T07:27:43.095811",
     "exception": false,
     "start_time": "2020-09-06T07:27:42.936136",
     "status": "completed"
    },
    "tags": []
   },
   "outputs": [],
   "source": [
    "train_data['City_Code_Patient'] = train_data['City_Code_Patient'].fillna(-1)\n",
    "train_data['Bed Grade'] = train_data['Bed Grade'].fillna(-1)\n",
    "\n",
    "test_data['City_Code_Patient'] = test_data['City_Code_Patient'].fillna(-1)\n",
    "test_data['Bed Grade'] = test_data['Bed Grade'].fillna(-1)\n",
    "\n",
    "\n",
    "train_data['istrain'] = 1\n",
    "\n",
    "test_data['istrain'] = 0\n",
    "\n",
    "combined_data = pd.concat([train_data, test_data], axis = 0)"
   ]
  },
  {
   "cell_type": "code",
   "execution_count": 4,
   "metadata": {
    "execution": {
     "iopub.execute_input": "2020-09-06T07:27:43.114272Z",
     "iopub.status.busy": "2020-09-06T07:27:43.113552Z",
     "iopub.status.idle": "2020-09-06T07:27:43.826060Z",
     "shell.execute_reply": "2020-09-06T07:27:43.825192Z"
    },
    "papermill": {
     "duration": 0.726788,
     "end_time": "2020-09-06T07:27:43.826235",
     "exception": false,
     "start_time": "2020-09-06T07:27:43.099447",
     "status": "completed"
    },
    "tags": []
   },
   "outputs": [],
   "source": [
    "df_numeric = combined_data.select_dtypes(exclude=['object'])\n",
    "\n",
    "df_obj = combined_data.select_dtypes(include=['object']).copy()\n",
    "    \n",
    "for c in df_obj:\n",
    "    df_obj[c] = pd.factorize(df_obj[c])[0]\n",
    "    \n",
    "combined_data = pd.concat([df_numeric, df_obj], axis=1)\n",
    "\n",
    "y = combined_data['istrain']\n",
    "\n",
    "combined_data.drop('istrain', axis = 1, inplace = True)\n"
   ]
  },
  {
   "cell_type": "code",
   "execution_count": 5,
   "metadata": {
    "_cell_guid": "891a4cdc-d085-b67f-45e7-dcdc3ca0f8b2",
    "execution": {
     "iopub.execute_input": "2020-09-06T07:27:43.844678Z",
     "iopub.status.busy": "2020-09-06T07:27:43.843967Z",
     "iopub.status.idle": "2020-09-06T07:27:43.847084Z",
     "shell.execute_reply": "2020-09-06T07:27:43.846438Z"
    },
    "papermill": {
     "duration": 0.013326,
     "end_time": "2020-09-06T07:27:43.847195",
     "exception": false,
     "start_time": "2020-09-06T07:27:43.833869",
     "status": "completed"
    },
    "tags": []
   },
   "outputs": [],
   "source": [
    "skf = StratifiedShuffleSplit(n_splits = 5, random_state = 44,test_size =0.3)\n",
    "xgb_params = {\n",
    "        'learning_rate': 0.1, 'max_depth': 6,'subsample': 0.9,\n",
    "        'colsample_bytree': 0.9,'objective': 'binary:logistic',\n",
    "        'n_estimators':100, 'gamma':1,\n",
    "        'min_child_weight':4\n",
    "        }   \n",
    "clf = xgb.XGBClassifier(**xgb_params, seed = 10)     "
   ]
  },
  {
   "cell_type": "code",
   "execution_count": 6,
   "metadata": {
    "_cell_guid": "223a095a-712f-fa90-707a-ea34fa091fc0",
    "execution": {
     "iopub.execute_input": "2020-09-06T07:27:43.862052Z",
     "iopub.status.busy": "2020-09-06T07:27:43.861047Z",
     "iopub.status.idle": "2020-09-06T07:29:14.701283Z",
     "shell.execute_reply": "2020-09-06T07:29:14.702461Z"
    },
    "papermill": {
     "duration": 90.851993,
     "end_time": "2020-09-06T07:29:14.702691",
     "exception": false,
     "start_time": "2020-09-06T07:27:43.850698",
     "status": "completed"
    },
    "tags": []
   },
   "outputs": [
    {
     "name": "stdout",
     "output_type": "stream",
     "text": [
      "(318846, 15)\n",
      "0.5204805190398327\n",
      "(318846, 15)\n",
      "0.5233851001858802\n",
      "(318846, 15)\n",
      "0.5239732139398903\n",
      "(318846, 15)\n",
      "0.523694753528709\n",
      "(318846, 15)\n",
      "0.5227323676194873\n"
     ]
    }
   ],
   "source": [
    "for train_index, test_index in skf.split(combined_data, y):\n",
    "       \n",
    "        x0, x1 = combined_data.iloc[train_index], combined_data.iloc[test_index]\n",
    "        \n",
    "        y0, y1 = y.iloc[train_index], y.iloc[test_index]        \n",
    "        \n",
    "        print(x0.shape)\n",
    "        \n",
    "        clf.fit(x0, y0, eval_set=[(x1, y1)],\n",
    "               eval_metric='logloss', verbose=False,early_stopping_rounds=10)\n",
    "                \n",
    "        prval = clf.predict_proba(x1)[:,1]\n",
    "        \n",
    "        print(roc_auc_score(y1,prval))"
   ]
  },
  {
   "cell_type": "markdown",
   "execution_count": null,
   "metadata": {
    "_cell_guid": "394561c3-a9d5-d3ad-31a0-801a8e7e2c42",
    "papermill": {
     "duration": 0.005388,
     "end_time": "2020-09-06T07:29:14.713618",
     "exception": false,
     "start_time": "2020-09-06T07:29:14.708230",
     "status": "completed"
    },
    "tags": []
   },
   "source": [
    "As we can see, the separation is almost indistiguishable. Train and Test set must come from similar distribution and normal validation techniques should work"
   ]
  },
  {
   "cell_type": "code",
   "execution_count": null,
   "metadata": {
    "papermill": {
     "duration": 0.005046,
     "end_time": "2020-09-06T07:29:14.723700",
     "exception": false,
     "start_time": "2020-09-06T07:29:14.718654",
     "status": "completed"
    },
    "tags": []
   },
   "outputs": [],
   "source": []
  }
 ],
 "metadata": {
  "kernelspec": {
   "display_name": "Python 3",
   "language": "python",
   "name": "python3"
  },
  "language_info": {
   "codemirror_mode": {
    "name": "ipython",
    "version": 3
   },
   "file_extension": ".py",
   "mimetype": "text/x-python",
   "name": "python",
   "nbconvert_exporter": "python",
   "pygments_lexer": "ipython3",
   "version": "3.7.6"
  },
  "papermill": {
   "duration": 99.161397,
   "end_time": "2020-09-06T07:29:14.844924",
   "environment_variables": {},
   "exception": null,
   "input_path": "__notebook__.ipynb",
   "output_path": "__notebook__.ipynb",
   "parameters": {},
   "start_time": "2020-09-06T07:27:35.683527",
   "version": "2.1.0"
  }
 },
 "nbformat": 4,
 "nbformat_minor": 4
}
